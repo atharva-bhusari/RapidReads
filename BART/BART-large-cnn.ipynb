{
 "cells": [
  {
   "cell_type": "markdown",
   "id": "b5f8eb3e",
   "metadata": {
    "papermill": {
     "duration": 0.014409,
     "end_time": "2023-12-04T23:59:44.340422",
     "exception": false,
     "start_time": "2023-12-04T23:59:44.326013",
     "status": "completed"
    },
    "tags": []
   },
   "source": [
    "### Importing required Packages"
   ]
  },
  {
   "cell_type": "code",
   "execution_count": 1,
   "id": "08506931",
   "metadata": {
    "execution": {
     "iopub.execute_input": "2023-12-04T23:59:44.367790Z",
     "iopub.status.busy": "2023-12-04T23:59:44.367456Z",
     "iopub.status.idle": "2023-12-05T00:00:02.670864Z",
     "shell.execute_reply": "2023-12-05T00:00:02.669867Z"
    },
    "papermill": {
     "duration": 18.319293,
     "end_time": "2023-12-05T00:00:02.672839",
     "exception": false,
     "start_time": "2023-12-04T23:59:44.353546",
     "status": "completed"
    },
    "tags": []
   },
   "outputs": [
    {
     "name": "stdout",
     "output_type": "stream",
     "text": [
      "Requirement already satisfied: wandb in /opt/conda/lib/python3.10/site-packages (0.16.0)\r\n",
      "Requirement already satisfied: Click!=8.0.0,>=7.1 in /opt/conda/lib/python3.10/site-packages (from wandb) (8.1.7)\r\n",
      "Requirement already satisfied: GitPython!=3.1.29,>=1.0.0 in /opt/conda/lib/python3.10/site-packages (from wandb) (3.1.32)\r\n",
      "Requirement already satisfied: requests<3,>=2.0.0 in /opt/conda/lib/python3.10/site-packages (from wandb) (2.31.0)\r\n",
      "Requirement already satisfied: psutil>=5.0.0 in /opt/conda/lib/python3.10/site-packages (from wandb) (5.9.3)\r\n",
      "Requirement already satisfied: sentry-sdk>=1.0.0 in /opt/conda/lib/python3.10/site-packages (from wandb) (1.34.0)\r\n",
      "Requirement already satisfied: docker-pycreds>=0.4.0 in /opt/conda/lib/python3.10/site-packages (from wandb) (0.4.0)\r\n",
      "Requirement already satisfied: PyYAML in /opt/conda/lib/python3.10/site-packages (from wandb) (6.0.1)\r\n",
      "Requirement already satisfied: setproctitle in /opt/conda/lib/python3.10/site-packages (from wandb) (1.3.3)\r\n",
      "Requirement already satisfied: setuptools in /opt/conda/lib/python3.10/site-packages (from wandb) (68.1.2)\r\n",
      "Requirement already satisfied: appdirs>=1.4.3 in /opt/conda/lib/python3.10/site-packages (from wandb) (1.4.4)\r\n",
      "Requirement already satisfied: protobuf!=4.21.0,<5,>=3.19.0 in /opt/conda/lib/python3.10/site-packages (from wandb) (3.20.3)\r\n",
      "Requirement already satisfied: six>=1.4.0 in /opt/conda/lib/python3.10/site-packages (from docker-pycreds>=0.4.0->wandb) (1.16.0)\r\n",
      "Requirement already satisfied: gitdb<5,>=4.0.1 in /opt/conda/lib/python3.10/site-packages (from GitPython!=3.1.29,>=1.0.0->wandb) (4.0.10)\r\n",
      "Requirement already satisfied: charset-normalizer<4,>=2 in /opt/conda/lib/python3.10/site-packages (from requests<3,>=2.0.0->wandb) (3.2.0)\r\n",
      "Requirement already satisfied: idna<4,>=2.5 in /opt/conda/lib/python3.10/site-packages (from requests<3,>=2.0.0->wandb) (3.4)\r\n",
      "Requirement already satisfied: urllib3<3,>=1.21.1 in /opt/conda/lib/python3.10/site-packages (from requests<3,>=2.0.0->wandb) (1.26.15)\r\n",
      "Requirement already satisfied: certifi>=2017.4.17 in /opt/conda/lib/python3.10/site-packages (from requests<3,>=2.0.0->wandb) (2023.7.22)\r\n",
      "Requirement already satisfied: smmap<6,>=3.0.1 in /opt/conda/lib/python3.10/site-packages (from gitdb<5,>=4.0.1->GitPython!=3.1.29,>=1.0.0->wandb) (5.0.0)\r\n"
     ]
    },
    {
     "name": "stderr",
     "output_type": "stream",
     "text": [
      "\u001b[34m\u001b[1mwandb\u001b[0m: W&B API key is configured. Use \u001b[1m`wandb login --relogin`\u001b[0m to force relogin\n",
      "\u001b[34m\u001b[1mwandb\u001b[0m: \u001b[33mWARNING\u001b[0m If you're specifying your api key in code, ensure this code is not shared publicly.\n",
      "\u001b[34m\u001b[1mwandb\u001b[0m: \u001b[33mWARNING\u001b[0m Consider setting the WANDB_API_KEY environment variable, or running `wandb login` from the command line.\n",
      "\u001b[34m\u001b[1mwandb\u001b[0m: Appending key for api.wandb.ai to your netrc file: /root/.netrc\n"
     ]
    },
    {
     "data": {
      "text/plain": [
       "True"
      ]
     },
     "execution_count": 1,
     "metadata": {},
     "output_type": "execute_result"
    }
   ],
   "source": [
    "!pip install wandb\n",
    "from kaggle_secrets import UserSecretsClient\n",
    "import wandb\n",
    "\n",
    "user_secrets = UserSecretsClient()\n",
    "\n",
    "# I have saved my API token with \"wandb_api\" as Label. \n",
    "# If you use some other Label make sure to change the same below. \n",
    "wandb_api = user_secrets.get_secret(\"wandb_api\") \n",
    "\n",
    "wandb.login(key=wandb_api)"
   ]
  },
  {
   "cell_type": "code",
   "execution_count": 2,
   "id": "15fc0032",
   "metadata": {
    "_cell_guid": "b1076dfc-b9ad-4769-8c92-a6c4dae69d19",
    "_uuid": "8f2839f25d086af736a60e9eeb907d3b93b6e0e5",
    "execution": {
     "iopub.execute_input": "2023-12-05T00:00:02.702398Z",
     "iopub.status.busy": "2023-12-05T00:00:02.702073Z",
     "iopub.status.idle": "2023-12-05T00:01:14.385489Z",
     "shell.execute_reply": "2023-12-05T00:01:14.384615Z"
    },
    "papermill": {
     "duration": 71.700982,
     "end_time": "2023-12-05T00:01:14.388031",
     "exception": false,
     "start_time": "2023-12-05T00:00:02.687049",
     "status": "completed"
    },
    "tags": []
   },
   "outputs": [
    {
     "name": "stdout",
     "output_type": "stream",
     "text": [
      "Requirement already satisfied: datasets in /opt/conda/lib/python3.10/site-packages (2.1.0)\r\n",
      "Requirement already satisfied: transformers in /opt/conda/lib/python3.10/site-packages (4.35.0)\r\n",
      "Collecting rouge-score\r\n",
      "  Downloading rouge_score-0.1.2.tar.gz (17 kB)\r\n",
      "  Preparing metadata (setup.py) ... \u001b[?25l-\b \bdone\r\n",
      "\u001b[?25hRequirement already satisfied: nltk in /opt/conda/lib/python3.10/site-packages (3.2.4)\r\n",
      "Requirement already satisfied: numpy>=1.17 in /opt/conda/lib/python3.10/site-packages (from datasets) (1.24.3)\r\n",
      "Requirement already satisfied: pyarrow>=5.0.0 in /opt/conda/lib/python3.10/site-packages (from datasets) (11.0.0)\r\n",
      "Requirement already satisfied: dill in /opt/conda/lib/python3.10/site-packages (from datasets) (0.3.7)\r\n",
      "Requirement already satisfied: pandas in /opt/conda/lib/python3.10/site-packages (from datasets) (2.0.3)\r\n",
      "Requirement already satisfied: requests>=2.19.0 in /opt/conda/lib/python3.10/site-packages (from datasets) (2.31.0)\r\n",
      "Requirement already satisfied: tqdm>=4.62.1 in /opt/conda/lib/python3.10/site-packages (from datasets) (4.66.1)\r\n",
      "Requirement already satisfied: xxhash in /opt/conda/lib/python3.10/site-packages (from datasets) (3.4.1)\r\n",
      "Requirement already satisfied: multiprocess in /opt/conda/lib/python3.10/site-packages (from datasets) (0.70.15)\r\n",
      "Requirement already satisfied: fsspec[http]>=2021.05.0 in /opt/conda/lib/python3.10/site-packages (from datasets) (2023.10.0)\r\n",
      "Requirement already satisfied: aiohttp in /opt/conda/lib/python3.10/site-packages (from datasets) (3.8.5)\r\n",
      "Requirement already satisfied: huggingface-hub<1.0.0,>=0.1.0 in /opt/conda/lib/python3.10/site-packages (from datasets) (0.17.3)\r\n",
      "Requirement already satisfied: packaging in /opt/conda/lib/python3.10/site-packages (from datasets) (21.3)\r\n",
      "Requirement already satisfied: responses<0.19 in /opt/conda/lib/python3.10/site-packages (from datasets) (0.18.0)\r\n",
      "Requirement already satisfied: filelock in /opt/conda/lib/python3.10/site-packages (from transformers) (3.12.2)\r\n",
      "Requirement already satisfied: pyyaml>=5.1 in /opt/conda/lib/python3.10/site-packages (from transformers) (6.0.1)\r\n",
      "Requirement already satisfied: regex!=2019.12.17 in /opt/conda/lib/python3.10/site-packages (from transformers) (2023.8.8)\r\n",
      "Requirement already satisfied: tokenizers<0.15,>=0.14 in /opt/conda/lib/python3.10/site-packages (from transformers) (0.14.1)\r\n",
      "Requirement already satisfied: safetensors>=0.3.1 in /opt/conda/lib/python3.10/site-packages (from transformers) (0.4.0)\r\n",
      "Requirement already satisfied: absl-py in /opt/conda/lib/python3.10/site-packages (from rouge-score) (1.4.0)\r\n",
      "Requirement already satisfied: six>=1.14.0 in /opt/conda/lib/python3.10/site-packages (from rouge-score) (1.16.0)\r\n",
      "Requirement already satisfied: attrs>=17.3.0 in /opt/conda/lib/python3.10/site-packages (from aiohttp->datasets) (23.1.0)\r\n",
      "Requirement already satisfied: charset-normalizer<4.0,>=2.0 in /opt/conda/lib/python3.10/site-packages (from aiohttp->datasets) (3.2.0)\r\n",
      "Requirement already satisfied: multidict<7.0,>=4.5 in /opt/conda/lib/python3.10/site-packages (from aiohttp->datasets) (6.0.4)\r\n",
      "Requirement already satisfied: async-timeout<5.0,>=4.0.0a3 in /opt/conda/lib/python3.10/site-packages (from aiohttp->datasets) (4.0.3)\r\n",
      "Requirement already satisfied: yarl<2.0,>=1.0 in /opt/conda/lib/python3.10/site-packages (from aiohttp->datasets) (1.9.2)\r\n",
      "Requirement already satisfied: frozenlist>=1.1.1 in /opt/conda/lib/python3.10/site-packages (from aiohttp->datasets) (1.4.0)\r\n",
      "Requirement already satisfied: aiosignal>=1.1.2 in /opt/conda/lib/python3.10/site-packages (from aiohttp->datasets) (1.3.1)\r\n",
      "Requirement already satisfied: typing-extensions>=3.7.4.3 in /opt/conda/lib/python3.10/site-packages (from huggingface-hub<1.0.0,>=0.1.0->datasets) (4.5.0)\r\n",
      "Requirement already satisfied: pyparsing!=3.0.5,>=2.0.2 in /opt/conda/lib/python3.10/site-packages (from packaging->datasets) (3.0.9)\r\n",
      "Requirement already satisfied: idna<4,>=2.5 in /opt/conda/lib/python3.10/site-packages (from requests>=2.19.0->datasets) (3.4)\r\n",
      "Requirement already satisfied: urllib3<3,>=1.21.1 in /opt/conda/lib/python3.10/site-packages (from requests>=2.19.0->datasets) (1.26.15)\r\n",
      "Requirement already satisfied: certifi>=2017.4.17 in /opt/conda/lib/python3.10/site-packages (from requests>=2.19.0->datasets) (2023.7.22)\r\n",
      "Requirement already satisfied: python-dateutil>=2.8.2 in /opt/conda/lib/python3.10/site-packages (from pandas->datasets) (2.8.2)\r\n",
      "Requirement already satisfied: pytz>=2020.1 in /opt/conda/lib/python3.10/site-packages (from pandas->datasets) (2023.3)\r\n",
      "Requirement already satisfied: tzdata>=2022.1 in /opt/conda/lib/python3.10/site-packages (from pandas->datasets) (2023.3)\r\n",
      "Building wheels for collected packages: rouge-score\r\n",
      "  Building wheel for rouge-score (setup.py) ... \u001b[?25l-\b \b\\\b \bdone\r\n",
      "\u001b[?25h  Created wheel for rouge-score: filename=rouge_score-0.1.2-py3-none-any.whl size=24932 sha256=b2b524c0f481f503d43369f7d4a97fb0b0cb16d2b39ca91de9954b88e11cc0a9\r\n",
      "  Stored in directory: /root/.cache/pip/wheels/5f/dd/89/461065a73be61a532ff8599a28e9beef17985c9e9c31e541b4\r\n",
      "Successfully built rouge-score\r\n",
      "Installing collected packages: rouge-score\r\n",
      "Successfully installed rouge-score-0.1.2\r\n",
      "Requirement already satisfied: transformers[torch] in /opt/conda/lib/python3.10/site-packages (4.35.0)\r\n",
      "Collecting transformers[torch]\r\n",
      "  Obtaining dependency information for transformers[torch] from https://files.pythonhosted.org/packages/12/dd/f17b11a93a9ca27728e12512d167eb1281c151c4c6881d3ab59eb58f4127/transformers-4.35.2-py3-none-any.whl.metadata\r\n",
      "  Downloading transformers-4.35.2-py3-none-any.whl.metadata (123 kB)\r\n",
      "\u001b[2K     \u001b[90m━━━━━━━━━━━━━━━━━━━━━━━━━━━━━━━━━━━━━━━\u001b[0m \u001b[32m123.5/123.5 kB\u001b[0m \u001b[31m1.7 MB/s\u001b[0m eta \u001b[36m0:00:00\u001b[0m\r\n",
      "\u001b[?25hRequirement already satisfied: accelerate in /opt/conda/lib/python3.10/site-packages (0.24.1)\r\n",
      "Collecting accelerate\r\n",
      "  Obtaining dependency information for accelerate from https://files.pythonhosted.org/packages/f7/fc/c55e5a2da345c9a24aa2e1e0f60eb2ca290b6a41be82da03a6d4baec4f99/accelerate-0.25.0-py3-none-any.whl.metadata\r\n",
      "  Downloading accelerate-0.25.0-py3-none-any.whl.metadata (18 kB)\r\n",
      "Requirement already satisfied: filelock in /opt/conda/lib/python3.10/site-packages (from transformers[torch]) (3.12.2)\r\n",
      "Requirement already satisfied: huggingface-hub<1.0,>=0.16.4 in /opt/conda/lib/python3.10/site-packages (from transformers[torch]) (0.17.3)\r\n",
      "Requirement already satisfied: numpy>=1.17 in /opt/conda/lib/python3.10/site-packages (from transformers[torch]) (1.24.3)\r\n",
      "Requirement already satisfied: packaging>=20.0 in /opt/conda/lib/python3.10/site-packages (from transformers[torch]) (21.3)\r\n",
      "Requirement already satisfied: pyyaml>=5.1 in /opt/conda/lib/python3.10/site-packages (from transformers[torch]) (6.0.1)\r\n",
      "Requirement already satisfied: regex!=2019.12.17 in /opt/conda/lib/python3.10/site-packages (from transformers[torch]) (2023.8.8)\r\n",
      "Requirement already satisfied: requests in /opt/conda/lib/python3.10/site-packages (from transformers[torch]) (2.31.0)\r\n",
      "Requirement already satisfied: tokenizers<0.19,>=0.14 in /opt/conda/lib/python3.10/site-packages (from transformers[torch]) (0.14.1)\r\n",
      "Requirement already satisfied: safetensors>=0.3.1 in /opt/conda/lib/python3.10/site-packages (from transformers[torch]) (0.4.0)\r\n",
      "Requirement already satisfied: tqdm>=4.27 in /opt/conda/lib/python3.10/site-packages (from transformers[torch]) (4.66.1)\r\n",
      "Requirement already satisfied: torch!=1.12.0,>=1.10 in /opt/conda/lib/python3.10/site-packages (from transformers[torch]) (2.0.0)\r\n",
      "Requirement already satisfied: psutil in /opt/conda/lib/python3.10/site-packages (from accelerate) (5.9.3)\r\n",
      "Requirement already satisfied: fsspec in /opt/conda/lib/python3.10/site-packages (from huggingface-hub<1.0,>=0.16.4->transformers[torch]) (2023.10.0)\r\n",
      "Requirement already satisfied: typing-extensions>=3.7.4.3 in /opt/conda/lib/python3.10/site-packages (from huggingface-hub<1.0,>=0.16.4->transformers[torch]) (4.5.0)\r\n",
      "Requirement already satisfied: pyparsing!=3.0.5,>=2.0.2 in /opt/conda/lib/python3.10/site-packages (from packaging>=20.0->transformers[torch]) (3.0.9)\r\n",
      "Requirement already satisfied: sympy in /opt/conda/lib/python3.10/site-packages (from torch!=1.12.0,>=1.10->transformers[torch]) (1.12)\r\n",
      "Requirement already satisfied: networkx in /opt/conda/lib/python3.10/site-packages (from torch!=1.12.0,>=1.10->transformers[torch]) (3.1)\r\n",
      "Requirement already satisfied: jinja2 in /opt/conda/lib/python3.10/site-packages (from torch!=1.12.0,>=1.10->transformers[torch]) (3.1.2)\r\n",
      "Requirement already satisfied: charset-normalizer<4,>=2 in /opt/conda/lib/python3.10/site-packages (from requests->transformers[torch]) (3.2.0)\r\n",
      "Requirement already satisfied: idna<4,>=2.5 in /opt/conda/lib/python3.10/site-packages (from requests->transformers[torch]) (3.4)\r\n",
      "Requirement already satisfied: urllib3<3,>=1.21.1 in /opt/conda/lib/python3.10/site-packages (from requests->transformers[torch]) (1.26.15)\r\n",
      "Requirement already satisfied: certifi>=2017.4.17 in /opt/conda/lib/python3.10/site-packages (from requests->transformers[torch]) (2023.7.22)\r\n",
      "Requirement already satisfied: MarkupSafe>=2.0 in /opt/conda/lib/python3.10/site-packages (from jinja2->torch!=1.12.0,>=1.10->transformers[torch]) (2.1.3)\r\n",
      "Requirement already satisfied: mpmath>=0.19 in /opt/conda/lib/python3.10/site-packages (from sympy->torch!=1.12.0,>=1.10->transformers[torch]) (1.3.0)\r\n",
      "Downloading accelerate-0.25.0-py3-none-any.whl (265 kB)\r\n",
      "\u001b[2K   \u001b[90m━━━━━━━━━━━━━━━━━━━━━━━━━━━━━━━━━━━━━━━━\u001b[0m \u001b[32m265.7/265.7 kB\u001b[0m \u001b[31m6.3 MB/s\u001b[0m eta \u001b[36m0:00:00\u001b[0m\r\n",
      "\u001b[?25hDownloading transformers-4.35.2-py3-none-any.whl (7.9 MB)\r\n",
      "\u001b[2K   \u001b[90m━━━━━━━━━━━━━━━━━━━━━━━━━━━━━━━━━━━━━━━━\u001b[0m \u001b[32m7.9/7.9 MB\u001b[0m \u001b[31m50.1 MB/s\u001b[0m eta \u001b[36m0:00:00\u001b[0m\r\n",
      "\u001b[?25hInstalling collected packages: accelerate, transformers\r\n",
      "  Attempting uninstall: accelerate\r\n",
      "    Found existing installation: accelerate 0.24.1\r\n",
      "    Uninstalling accelerate-0.24.1:\r\n",
      "      Successfully uninstalled accelerate-0.24.1\r\n",
      "  Attempting uninstall: transformers\r\n",
      "    Found existing installation: transformers 4.35.0\r\n",
      "    Uninstalling transformers-4.35.0:\r\n",
      "      Successfully uninstalled transformers-4.35.0\r\n",
      "Successfully installed accelerate-0.25.0 transformers-4.35.2\r\n"
     ]
    },
    {
     "name": "stderr",
     "output_type": "stream",
     "text": [
      "/opt/conda/lib/python3.10/site-packages/scipy/__init__.py:146: UserWarning: A NumPy version >=1.16.5 and <1.23.0 is required for this version of SciPy (detected version 1.24.3\n",
      "  warnings.warn(f\"A NumPy version >={np_minversion} and <{np_maxversion}\"\n"
     ]
    },
    {
     "name": "stdout",
     "output_type": "stream",
     "text": [
      "[nltk_data] Downloading package punkt to /usr/share/nltk_data...\n",
      "[nltk_data]   Package punkt is already up-to-date!\n"
     ]
    }
   ],
   "source": [
    "!pip install datasets transformers rouge-score nltk\n",
    "!pip install transformers[torch] accelerate -U\n",
    "\n",
    "import datasets\n",
    "from datasets import Dataset\n",
    "from datasets import load_dataset, load_metric\n",
    "\n",
    "import nltk\n",
    "nltk.download('punkt')\n",
    "\n",
    "import os\n",
    "import random\n",
    "import pandas as pd\n",
    "import numpy as np\n",
    "from sklearn.model_selection import train_test_split\n",
    "from IPython.display import display, HTML\n",
    "import matplotlib.pyplot as plt\n",
    "\n",
    "import torch\n",
    "from transformers import AutoTokenizer,T5Tokenizer, T5ForConditionalGeneration\n",
    "from transformers import pipeline\n",
    "from transformers import AutoModelForSeq2SeqLM, DataCollatorForSeq2Seq, Seq2SeqTrainingArguments, Seq2SeqTrainer\n",
    "\n",
    "import re\n",
    "from bs4 import BeautifulSoup"
   ]
  },
  {
   "cell_type": "markdown",
   "id": "4e61256d",
   "metadata": {
    "papermill": {
     "duration": 0.018279,
     "end_time": "2023-12-05T00:01:14.432857",
     "exception": false,
     "start_time": "2023-12-05T00:01:14.414578",
     "status": "completed"
    },
    "tags": []
   },
   "source": [
    "### Loading Data"
   ]
  },
  {
   "cell_type": "code",
   "execution_count": 3,
   "id": "d6f57b92",
   "metadata": {
    "execution": {
     "iopub.execute_input": "2023-12-05T00:01:14.471823Z",
     "iopub.status.busy": "2023-12-05T00:01:14.470673Z",
     "iopub.status.idle": "2023-12-05T00:01:15.228430Z",
     "shell.execute_reply": "2023-12-05T00:01:15.227388Z"
    },
    "papermill": {
     "duration": 0.77927,
     "end_time": "2023-12-05T00:01:15.230460",
     "exception": false,
     "start_time": "2023-12-05T00:01:14.451190",
     "status": "completed"
    },
    "tags": []
   },
   "outputs": [
    {
     "data": {
      "text/html": [
       "<div>\n",
       "<style scoped>\n",
       "    .dataframe tbody tr th:only-of-type {\n",
       "        vertical-align: middle;\n",
       "    }\n",
       "\n",
       "    .dataframe tbody tr th {\n",
       "        vertical-align: top;\n",
       "    }\n",
       "\n",
       "    .dataframe thead th {\n",
       "        text-align: right;\n",
       "    }\n",
       "</style>\n",
       "<table border=\"1\" class=\"dataframe\">\n",
       "  <thead>\n",
       "    <tr style=\"text-align: right;\">\n",
       "      <th></th>\n",
       "      <th>text</th>\n",
       "      <th>summary1</th>\n",
       "      <th>summary2</th>\n",
       "    </tr>\n",
       "  </thead>\n",
       "  <tbody>\n",
       "    <tr>\n",
       "      <th>0</th>\n",
       "      <td>My boyfriend and I are long distance. We have ...</td>\n",
       "      <td>Mum is mad at me for not flying on my own tri...</td>\n",
       "      <td>I have made sure my mother is comfortable wit...</td>\n",
       "    </tr>\n",
       "    <tr>\n",
       "      <th>1</th>\n",
       "      <td>My landlord left a falsified message taped to ...</td>\n",
       "      <td>My landlord is harassing me and my neighbours...</td>\n",
       "      <td>landlord pretended to be another tenant and w...</td>\n",
       "    </tr>\n",
       "    <tr>\n",
       "      <th>2</th>\n",
       "      <td>A few months ago, I asked my RA if she wanted ...</td>\n",
       "      <td>RA owes me money, made me buy her toys in a f...</td>\n",
       "      <td>RA verbally abused me and I want to get her t...</td>\n",
       "    </tr>\n",
       "    <tr>\n",
       "      <th>3</th>\n",
       "      <td>1) I got a DWI in 2014\\n\\n2) I have a wonderfu...</td>\n",
       "      <td>10) On a scale from 1-10, how mad would you b...</td>\n",
       "      <td>I am stuck at work, my girlfriend is going to...</td>\n",
       "    </tr>\n",
       "    <tr>\n",
       "      <th>4</th>\n",
       "      <td>So my wedding dress arrived last week. I had s...</td>\n",
       "      <td>My dress looks different to how I wanted it, ...</td>\n",
       "      <td>My mother asked my dress maker to change the ...</td>\n",
       "    </tr>\n",
       "  </tbody>\n",
       "</table>\n",
       "</div>"
      ],
      "text/plain": [
       "                                                text  \\\n",
       "0  My boyfriend and I are long distance. We have ...   \n",
       "1  My landlord left a falsified message taped to ...   \n",
       "2  A few months ago, I asked my RA if she wanted ...   \n",
       "3  1) I got a DWI in 2014\\n\\n2) I have a wonderfu...   \n",
       "4  So my wedding dress arrived last week. I had s...   \n",
       "\n",
       "                                            summary1  \\\n",
       "0   Mum is mad at me for not flying on my own tri...   \n",
       "1   My landlord is harassing me and my neighbours...   \n",
       "2   RA owes me money, made me buy her toys in a f...   \n",
       "3   10) On a scale from 1-10, how mad would you b...   \n",
       "4   My dress looks different to how I wanted it, ...   \n",
       "\n",
       "                                            summary2  \n",
       "0   I have made sure my mother is comfortable wit...  \n",
       "1   landlord pretended to be another tenant and w...  \n",
       "2   RA verbally abused me and I want to get her t...  \n",
       "3   I am stuck at work, my girlfriend is going to...  \n",
       "4   My mother asked my dress maker to change the ...  "
      ]
     },
     "execution_count": 3,
     "metadata": {},
     "output_type": "execute_result"
    }
   ],
   "source": [
    "df = pd.read_csv('/kaggle/input/reddit-data/data.csv')\n",
    "df.head()"
   ]
  },
  {
   "cell_type": "markdown",
   "id": "f57f88f0",
   "metadata": {
    "papermill": {
     "duration": 0.017383,
     "end_time": "2023-12-05T00:01:15.266019",
     "exception": false,
     "start_time": "2023-12-05T00:01:15.248636",
     "status": "completed"
    },
    "tags": []
   },
   "source": [
    "### Preprocessing Data"
   ]
  },
  {
   "cell_type": "code",
   "execution_count": 4,
   "id": "7f4111e1",
   "metadata": {
    "execution": {
     "iopub.execute_input": "2023-12-05T00:01:15.303032Z",
     "iopub.status.busy": "2023-12-05T00:01:15.302368Z",
     "iopub.status.idle": "2023-12-05T00:01:15.344069Z",
     "shell.execute_reply": "2023-12-05T00:01:15.343140Z"
    },
    "papermill": {
     "duration": 0.062494,
     "end_time": "2023-12-05T00:01:15.346228",
     "exception": false,
     "start_time": "2023-12-05T00:01:15.283734",
     "status": "completed"
    },
    "tags": []
   },
   "outputs": [
    {
     "data": {
      "text/plain": [
       "(20998, 3)"
      ]
     },
     "execution_count": 4,
     "metadata": {},
     "output_type": "execute_result"
    }
   ],
   "source": [
    "df.drop_duplicates(subset = ['text'], inplace = True)\n",
    "df.dropna(axis = 0, inplace = True)\n",
    "\n",
    "df.shape"
   ]
  },
  {
   "cell_type": "code",
   "execution_count": 5,
   "id": "43d88446",
   "metadata": {
    "execution": {
     "iopub.execute_input": "2023-12-05T00:01:15.384030Z",
     "iopub.status.busy": "2023-12-05T00:01:15.383342Z",
     "iopub.status.idle": "2023-12-05T00:01:15.396479Z",
     "shell.execute_reply": "2023-12-05T00:01:15.395554Z"
    },
    "papermill": {
     "duration": 0.03417,
     "end_time": "2023-12-05T00:01:15.398662",
     "exception": false,
     "start_time": "2023-12-05T00:01:15.364492",
     "status": "completed"
    },
    "tags": []
   },
   "outputs": [],
   "source": [
    "contraction_mapping = {\"ain't\": \"is not\", \"aren't\": \"are not\",\"can't\": \"cannot\", \"'cause\": \"because\", \"could've\": \"could have\",\n",
    "                       \"couldn't\": \"could not\", \"didn't\": \"did not\",  \"doesn't\": \"does not\", \"don't\": \"do not\", \"hadn't\": \"had not\",\n",
    "                       \"hasn't\": \"has not\", \"haven't\": \"have not\", \"he'd\": \"he would\",\"he'll\": \"he will\", \"he's\": \"he is\", \"how'd\": \"how did\",\n",
    "                       \"how'd'y\": \"how do you\", \"how'll\": \"how will\", \"how's\": \"how is\", \"I'd\": \"I would\", \"I'd've\": \"I would have\",\n",
    "                       \"I'll\": \"I will\", \"I'll've\": \"I will have\",\"I'm\": \"I am\", \"I've\": \"I have\", \"i'd\": \"i would\", \"i'd've\": \"i would have\",\n",
    "                       \"i'll\": \"i will\",  \"i'll've\": \"i will have\",\"i'm\": \"i am\", \"i've\": \"i have\", \"isn't\": \"is not\", \"it'd\": \"it would\",\n",
    "                       \"it'd've\": \"it would have\", \"it'll\": \"it will\", \"it'll've\": \"it will have\",\"it's\": \"it is\", \"let's\": \"let us\",\n",
    "                       \"ma'am\": \"madam\", \"mayn't\": \"may not\", \"might've\": \"might have\",\"mightn't\": \"might not\",\"mightn't've\": \"might not have\",\n",
    "                       \"must've\": \"must have\", \"mustn't\": \"must not\", \"mustn't've\": \"must not have\", \"needn't\": \"need not\",\n",
    "                       \"needn't've\": \"need not have\",\"o'clock\": \"of the clock\", \"oughtn't\": \"ought not\", \"oughtn't've\": \"ought not have\",\n",
    "                       \"shan't\": \"shall not\", \"sha'n't\": \"shall not\", \"shan't've\": \"shall not have\", \"she'd\": \"she would\",\n",
    "                       \"she'd've\": \"she would have\", \"she'll\": \"she will\", \"she'll've\": \"she will have\", \"she's\": \"she is\",\n",
    "                       \"should've\": \"should have\", \"shouldn't\": \"should not\", \"shouldn't've\": \"should not have\", \"so've\": \"so have\",\"so's\": \"so as\",\n",
    "                       \"this's\": \"this is\",\"that'd\": \"that would\", \"that'd've\": \"that would have\", \"that's\": \"that is\", \"there'd\": \"there would\",\n",
    "                       \"there'd've\": \"there would have\", \"there's\": \"there is\", \"here's\": \"here is\",\"they'd\": \"they would\",\n",
    "                       \"they'd've\": \"they would have\", \"they'll\": \"they will\", \"they'll've\": \"they will have\", \"they're\": \"they are\",\n",
    "                       \"they've\": \"they have\", \"to've\": \"to have\", \"wasn't\": \"was not\", \"we'd\": \"we would\", \"we'd've\": \"we would have\",\n",
    "                       \"we'll\": \"we will\", \"we'll've\": \"we will have\", \"we're\": \"we are\", \"we've\": \"we have\", \"weren't\": \"were not\",\n",
    "                       \"what'll\": \"what will\", \"what'll've\": \"what will have\", \"what're\": \"what are\", \"what's\": \"what is\", \"what've\": \"what have\",\n",
    "                       \"when's\": \"when is\", \"when've\": \"when have\", \"where'd\": \"where did\", \"where's\": \"where is\", \"where've\": \"where have\",\n",
    "                       \"who'll\": \"who will\", \"who'll've\": \"who will have\", \"who's\": \"who is\", \"who've\": \"who have\", \"why's\": \"why is\",\n",
    "                       \"why've\": \"why have\", \"will've\": \"will have\", \"won't\": \"will not\", \"won't've\": \"will not have\", \"would've\": \"would have\",\n",
    "                       \"wouldn't\": \"would not\", \"wouldn't've\": \"would not have\", \"y'all\": \"you all\", \"y'all'd\": \"you all would\",\n",
    "                       \"y'all'd've\": \"you all would have\",\"y'all're\": \"you all are\",\"y'all've\": \"you all have\", \"you'd\": \"you would\",\n",
    "                       \"you'd've\": \"you would have\", \"you'll\": \"you will\", \"you'll've\": \"you will have\", \"you're\": \"you are\", \"you've\": \"you have\"}"
   ]
  },
  {
   "cell_type": "code",
   "execution_count": 6,
   "id": "cd5a025f",
   "metadata": {
    "execution": {
     "iopub.execute_input": "2023-12-05T00:01:15.439343Z",
     "iopub.status.busy": "2023-12-05T00:01:15.438538Z",
     "iopub.status.idle": "2023-12-05T00:01:15.445880Z",
     "shell.execute_reply": "2023-12-05T00:01:15.444950Z"
    },
    "papermill": {
     "duration": 0.030294,
     "end_time": "2023-12-05T00:01:15.448023",
     "exception": false,
     "start_time": "2023-12-05T00:01:15.417729",
     "status": "completed"
    },
    "tags": []
   },
   "outputs": [],
   "source": [
    "def text_cleaner(text):\n",
    "    string = text.lower()\n",
    "    string = BeautifulSoup(string, \"lxml\").text\n",
    "    string = re.sub(r'\\([^)]*\\)', '', string)\n",
    "    string = re.sub('\"', '', string)\n",
    "    string = ' '.join([contraction_mapping[t] if t in contraction_mapping else t for t in string.split(\" \")])\n",
    "    string = re.sub(r\"'s\\b\", \"\", string)\n",
    "    string = re.sub(r'\\.{2,}', ' ', string)\n",
    "    string = re.sub(\"[^a-zA-Z.]\", \" \", string)\n",
    "    string = re.sub(r'\\s+', ' ', string).strip()\n",
    "\n",
    "    return string"
   ]
  },
  {
   "cell_type": "code",
   "execution_count": 7,
   "id": "38368553",
   "metadata": {
    "execution": {
     "iopub.execute_input": "2023-12-05T00:01:15.488466Z",
     "iopub.status.busy": "2023-12-05T00:01:15.487593Z",
     "iopub.status.idle": "2023-12-05T00:01:26.539377Z",
     "shell.execute_reply": "2023-12-05T00:01:26.538356Z"
    },
    "papermill": {
     "duration": 11.073838,
     "end_time": "2023-12-05T00:01:26.541653",
     "exception": false,
     "start_time": "2023-12-05T00:01:15.467815",
     "status": "completed"
    },
    "tags": []
   },
   "outputs": [
    {
     "name": "stderr",
     "output_type": "stream",
     "text": [
      "/tmp/ipykernel_26/3170696000.py:3: MarkupResemblesLocatorWarning: The input looks more like a filename than markup. You may want to open this file and pass the filehandle into Beautiful Soup.\n",
      "  string = BeautifulSoup(string, \"lxml\").text\n"
     ]
    }
   ],
   "source": [
    "cleaned_texts = []\n",
    "\n",
    "for t in df['text']:\n",
    "    cleaned_texts.append(text_cleaner(t))"
   ]
  },
  {
   "cell_type": "code",
   "execution_count": 8,
   "id": "9638eb47",
   "metadata": {
    "execution": {
     "iopub.execute_input": "2023-12-05T00:01:26.579804Z",
     "iopub.status.busy": "2023-12-05T00:01:26.579417Z",
     "iopub.status.idle": "2023-12-05T00:01:26.585423Z",
     "shell.execute_reply": "2023-12-05T00:01:26.584487Z"
    },
    "papermill": {
     "duration": 0.027473,
     "end_time": "2023-12-05T00:01:26.587214",
     "exception": false,
     "start_time": "2023-12-05T00:01:26.559741",
     "status": "completed"
    },
    "tags": []
   },
   "outputs": [
    {
     "data": {
      "text/plain": [
       "['my boyfriend and i are long distance. we have a trip planned this summer which involves me going over to him in the usa. this will be the second time i have actually been with him in person. i am flying from the uk with my mum to the east coast. the original plan was for me to fly over to my boyfriend in the west coast but because my mum was freaking out so much about me going to meet my boyfriend i said we can all road trip there together. i even invited her on the trip with us. i have given her all of our dates so that she can travel around with us. the plan was for me to stay on the th july and fly back on the th. mum knew this. i told her i had booked a flight back already from the west coast to east coast . she has gone mad at me because she cannot believe i would book a flight when she told me she did not want me flying on my own. at the time i had booked it she told me she was not gonna road trip with us. she knew the trip was happening how else was i to get home if i do not fly i am fine flying on my own it does not bother me at all. i feel like i have done everything i can to make her feel comfortable with this trip and she is just trying to sabotage it. thoughts',\n",
       " 'my landlord left a falsified message taped to my door for all neighbours to are pretending to be another tenant. evidence she used the same font and size that she uses for all her notes only she would know where we live and correlate it with where we park neighbours have no problem with us we requested from the property management group to have the video tapes looked at and they stated hey did not have time to go on a wild goose chase i want evidence hard evidence and they denied me. i want to pursue this further particularly with the human rights board of canada based in harrassment and predjusice that goes against the human rights code. the letter calls us assholes says we were raised in a barn says because we are young we should be more competent calls us pigs days we make all the neighbours sick. it is defamatory as it was pasted for everyone to see. also we were not born in canada. please see this website for your information on his situation. also this letter was taped on our door for everyone to see. it was prejudice and defamatory on many levels adressed in the the human rights code of manitoba. it was defamation of character for it to be visible to everyone. please see the following it is also contrary to the code for anyone responsible for rental housing to knowingly permit or fail to take reasonable steps to terminate harassment of one participant by another participant such as harassment of one tenant by another tenant.']"
      ]
     },
     "execution_count": 8,
     "metadata": {},
     "output_type": "execute_result"
    }
   ],
   "source": [
    "cleaned_texts[:2]"
   ]
  },
  {
   "cell_type": "code",
   "execution_count": 9,
   "id": "61f6a4e9",
   "metadata": {
    "execution": {
     "iopub.execute_input": "2023-12-05T00:01:26.666338Z",
     "iopub.status.busy": "2023-12-05T00:01:26.665406Z",
     "iopub.status.idle": "2023-12-05T00:01:31.672653Z",
     "shell.execute_reply": "2023-12-05T00:01:31.671642Z"
    },
    "papermill": {
     "duration": 5.028954,
     "end_time": "2023-12-05T00:01:31.675191",
     "exception": false,
     "start_time": "2023-12-05T00:01:26.646237",
     "status": "completed"
    },
    "tags": []
   },
   "outputs": [
    {
     "name": "stderr",
     "output_type": "stream",
     "text": [
      "/tmp/ipykernel_26/3170696000.py:3: MarkupResemblesLocatorWarning: The input looks more like a filename than markup. You may want to open this file and pass the filehandle into Beautiful Soup.\n",
      "  string = BeautifulSoup(string, \"lxml\").text\n"
     ]
    }
   ],
   "source": [
    "cleaned_summaries = []\n",
    "\n",
    "for s in df['summary1']:\n",
    "    cleaned_summaries.append(text_cleaner(s))"
   ]
  },
  {
   "cell_type": "code",
   "execution_count": 10,
   "id": "faecc55c",
   "metadata": {
    "execution": {
     "iopub.execute_input": "2023-12-05T00:01:31.716710Z",
     "iopub.status.busy": "2023-12-05T00:01:31.716379Z",
     "iopub.status.idle": "2023-12-05T00:01:31.722453Z",
     "shell.execute_reply": "2023-12-05T00:01:31.721628Z"
    },
    "papermill": {
     "duration": 0.028395,
     "end_time": "2023-12-05T00:01:31.724485",
     "exception": false,
     "start_time": "2023-12-05T00:01:31.696090",
     "status": "completed"
    },
    "tags": []
   },
   "outputs": [
    {
     "data": {
      "text/plain": [
       "['mum is mad at me for not flying on my own trip to meet my boyfriend.',\n",
       " 'my landlord is harassing me and my neighbours with the same falsified leaflets that she has done in the past. we are seeking to have the evidence examined by the human rights board of canada.']"
      ]
     },
     "execution_count": 10,
     "metadata": {},
     "output_type": "execute_result"
    }
   ],
   "source": [
    "cleaned_summaries[:2]"
   ]
  },
  {
   "cell_type": "code",
   "execution_count": 11,
   "id": "02e0693c",
   "metadata": {
    "execution": {
     "iopub.execute_input": "2023-12-05T00:01:31.762969Z",
     "iopub.status.busy": "2023-12-05T00:01:31.762669Z",
     "iopub.status.idle": "2023-12-05T00:01:31.784923Z",
     "shell.execute_reply": "2023-12-05T00:01:31.783858Z"
    },
    "papermill": {
     "duration": 0.04426,
     "end_time": "2023-12-05T00:01:31.786895",
     "exception": false,
     "start_time": "2023-12-05T00:01:31.742635",
     "status": "completed"
    },
    "tags": []
   },
   "outputs": [
    {
     "data": {
      "text/html": [
       "<div>\n",
       "<style scoped>\n",
       "    .dataframe tbody tr th:only-of-type {\n",
       "        vertical-align: middle;\n",
       "    }\n",
       "\n",
       "    .dataframe tbody tr th {\n",
       "        vertical-align: top;\n",
       "    }\n",
       "\n",
       "    .dataframe thead th {\n",
       "        text-align: right;\n",
       "    }\n",
       "</style>\n",
       "<table border=\"1\" class=\"dataframe\">\n",
       "  <thead>\n",
       "    <tr style=\"text-align: right;\">\n",
       "      <th></th>\n",
       "      <th>text</th>\n",
       "      <th>summary</th>\n",
       "    </tr>\n",
       "  </thead>\n",
       "  <tbody>\n",
       "    <tr>\n",
       "      <th>0</th>\n",
       "      <td>my boyfriend and i are long distance. we have ...</td>\n",
       "      <td>mum is mad at me for not flying on my own trip...</td>\n",
       "    </tr>\n",
       "    <tr>\n",
       "      <th>1</th>\n",
       "      <td>my landlord left a falsified message taped to ...</td>\n",
       "      <td>my landlord is harassing me and my neighbours ...</td>\n",
       "    </tr>\n",
       "    <tr>\n",
       "      <th>2</th>\n",
       "      <td>a few months ago i asked my ra if she wanted t...</td>\n",
       "      <td>ra owes me money made me buy her toys in a fun...</td>\n",
       "    </tr>\n",
       "    <tr>\n",
       "      <th>3</th>\n",
       "      <td>i got a dwi in i have a wonderful girlfriend w...</td>\n",
       "      <td>on a scale from how mad would you be with you ...</td>\n",
       "    </tr>\n",
       "    <tr>\n",
       "      <th>4</th>\n",
       "      <td>so my wedding dress arrived last week. i had s...</td>\n",
       "      <td>my dress looks different to how i wanted it ho...</td>\n",
       "    </tr>\n",
       "  </tbody>\n",
       "</table>\n",
       "</div>"
      ],
      "text/plain": [
       "                                                text  \\\n",
       "0  my boyfriend and i are long distance. we have ...   \n",
       "1  my landlord left a falsified message taped to ...   \n",
       "2  a few months ago i asked my ra if she wanted t...   \n",
       "3  i got a dwi in i have a wonderful girlfriend w...   \n",
       "4  so my wedding dress arrived last week. i had s...   \n",
       "\n",
       "                                             summary  \n",
       "0  mum is mad at me for not flying on my own trip...  \n",
       "1  my landlord is harassing me and my neighbours ...  \n",
       "2  ra owes me money made me buy her toys in a fun...  \n",
       "3  on a scale from how mad would you be with you ...  \n",
       "4  my dress looks different to how i wanted it ho...  "
      ]
     },
     "execution_count": 11,
     "metadata": {},
     "output_type": "execute_result"
    }
   ],
   "source": [
    "cleaned_df = pd.DataFrame(columns=[\"text\", \"summary\"])\n",
    "cleaned_df[\"text\"] = cleaned_texts\n",
    "cleaned_df[\"summary\"] = cleaned_summaries\n",
    "\n",
    "cleaned_df.head()"
   ]
  },
  {
   "cell_type": "code",
   "execution_count": 12,
   "id": "514a82e3",
   "metadata": {
    "execution": {
     "iopub.execute_input": "2023-12-05T00:01:31.825821Z",
     "iopub.status.busy": "2023-12-05T00:01:31.825551Z",
     "iopub.status.idle": "2023-12-05T00:01:31.844855Z",
     "shell.execute_reply": "2023-12-05T00:01:31.843947Z"
    },
    "papermill": {
     "duration": 0.040787,
     "end_time": "2023-12-05T00:01:31.846870",
     "exception": false,
     "start_time": "2023-12-05T00:01:31.806083",
     "status": "completed"
    },
    "tags": []
   },
   "outputs": [
    {
     "data": {
      "text/plain": [
       "(20987, 2)"
      ]
     },
     "execution_count": 12,
     "metadata": {},
     "output_type": "execute_result"
    }
   ],
   "source": [
    "cleaned_df.replace('', np.nan, inplace=True)\n",
    "cleaned_df.dropna(axis=0,inplace=True)\n",
    "\n",
    "cleaned_df.shape"
   ]
  },
  {
   "cell_type": "code",
   "execution_count": 13,
   "id": "69f96332",
   "metadata": {
    "execution": {
     "iopub.execute_input": "2023-12-05T00:01:31.924001Z",
     "iopub.status.busy": "2023-12-05T00:01:31.923700Z",
     "iopub.status.idle": "2023-12-05T00:01:32.962143Z",
     "shell.execute_reply": "2023-12-05T00:01:32.961032Z"
    },
    "papermill": {
     "duration": 1.060663,
     "end_time": "2023-12-05T00:01:32.964676",
     "exception": false,
     "start_time": "2023-12-05T00:01:31.904013",
     "status": "completed"
    },
    "tags": []
   },
   "outputs": [
    {
     "data": {
      "image/png": "[encoded data removed]",
      "text/plain": [
       "<Figure size 640x480 with 2 Axes>"
      ]
     },
     "metadata": {},
     "output_type": "display_data"
    }
   ],
   "source": [
    "text_word_count = []\n",
    "summary_word_count = []\n",
    "\n",
    "for i in df['text']:\n",
    "      text_word_count.append(len(i.split()))\n",
    "\n",
    "for i in df['summary1']:\n",
    "      summary_word_count.append(len(i.split()))\n",
    "\n",
    "length_df = pd.DataFrame({'text':text_word_count, 'summary':summary_word_count})\n",
    "\n",
    "length_df.hist(bins = 50)\n",
    "plt.show()"
   ]
  },
  {
   "cell_type": "markdown",
   "id": "3bdf429b",
   "metadata": {},
   "source": [
    "### Model Finetuning"
   ]
  },
  {
   "cell_type": "code",
   "execution_count": 14,
   "id": "5cc09ceb",
   "metadata": {
    "execution": {
     "iopub.execute_input": "2023-12-05T00:01:33.008589Z",
     "iopub.status.busy": "2023-12-05T00:01:33.007796Z",
     "iopub.status.idle": "2023-12-05T00:01:34.503993Z",
     "shell.execute_reply": "2023-12-05T00:01:34.502218Z"
    },
    "papermill": {
     "duration": 1.521922,
     "end_time": "2023-12-05T00:01:34.507479",
     "exception": false,
     "start_time": "2023-12-05T00:01:32.985557",
     "status": "completed"
    },
    "tags": []
   },
   "outputs": [
    {
     "data": {
      "application/vnd.jupyter.widget-view+json": {
       "model_id": "62a938e170704d95855645f64e4c267a",
       "version_major": 2,
       "version_minor": 0
      },
      "text/plain": [
       "Downloading config.json:   0%|          | 0.00/1.58k [00:00<?, ?B/s]"
      ]
     },
     "metadata": {},
     "output_type": "display_data"
    },
    {
     "data": {
      "application/vnd.jupyter.widget-view+json": {
       "model_id": "4d63ee38b9744c958fe86795bae82c56",
       "version_major": 2,
       "version_minor": 0
      },
      "text/plain": [
       "Downloading vocab.json:   0%|          | 0.00/899k [00:00<?, ?B/s]"
      ]
     },
     "metadata": {},
     "output_type": "display_data"
    },
    {
     "data": {
      "application/vnd.jupyter.widget-view+json": {
       "model_id": "fdc67965425c4418b49e8105a2009648",
       "version_major": 2,
       "version_minor": 0
      },
      "text/plain": [
       "Downloading merges.txt:   0%|          | 0.00/456k [00:00<?, ?B/s]"
      ]
     },
     "metadata": {},
     "output_type": "display_data"
    },
    {
     "data": {
      "application/vnd.jupyter.widget-view+json": {
       "model_id": "7ab52a0ae18049d2b870d3c2fb068116",
       "version_major": 2,
       "version_minor": 0
      },
      "text/plain": [
       "Downloading tokenizer.json:   0%|          | 0.00/1.36M [00:00<?, ?B/s]"
      ]
     },
     "metadata": {},
     "output_type": "display_data"
    }
   ],
   "source": [
    "pretrained_model = 'facebook/bart-large-cnn'\n",
    "tokenizer = AutoTokenizer.from_pretrained(pretrained_model)"
   ]
  },
  {
   "cell_type": "code",
   "execution_count": 15,
   "id": "21f183df",
   "metadata": {
    "execution": {
     "iopub.execute_input": "2023-12-05T00:01:34.557007Z",
     "iopub.status.busy": "2023-12-05T00:01:34.556131Z",
     "iopub.status.idle": "2023-12-05T00:01:34.562484Z",
     "shell.execute_reply": "2023-12-05T00:01:34.561447Z"
    },
    "papermill": {
     "duration": 0.030507,
     "end_time": "2023-12-05T00:01:34.564508",
     "exception": false,
     "start_time": "2023-12-05T00:01:34.534001",
     "status": "completed"
    },
    "tags": []
   },
   "outputs": [],
   "source": [
    "max_input_length = 400\n",
    "max_target_length = 50\n",
    "\n",
    "def make_model_data(data):\n",
    "    text = tokenizer(data['text'], max_length = max_input_length, truncation = True)\n",
    "\n",
    "    with tokenizer.as_target_tokenizer():\n",
    "        summary = tokenizer(data['summary'], max_length = max_target_length, truncation = True)\n",
    "\n",
    "    text[\"labels\"] = summary[\"input_ids\"]\n",
    "\n",
    "    return text"
   ]
  },
  {
   "cell_type": "code",
   "execution_count": 16,
   "id": "2a785be9",
   "metadata": {
    "execution": {
     "iopub.execute_input": "2023-12-05T00:01:34.606410Z",
     "iopub.status.busy": "2023-12-05T00:01:34.606008Z",
     "iopub.status.idle": "2023-12-05T00:01:34.617410Z",
     "shell.execute_reply": "2023-12-05T00:01:34.616490Z"
    },
    "papermill": {
     "duration": 0.03458,
     "end_time": "2023-12-05T00:01:34.619435",
     "exception": false,
     "start_time": "2023-12-05T00:01:34.584855",
     "status": "completed"
    },
    "tags": []
   },
   "outputs": [
    {
     "data": {
      "text/plain": [
       "((16789, 2), (4198, 2))"
      ]
     },
     "execution_count": 16,
     "metadata": {},
     "output_type": "execute_result"
    }
   ],
   "source": [
    "train_df, test_df = train_test_split(cleaned_df, test_size = 0.20, random_state = 42)\n",
    "train_df.shape, test_df.shape"
   ]
  },
  {
   "cell_type": "code",
   "execution_count": 17,
   "id": "5191365d",
   "metadata": {
    "execution": {
     "iopub.execute_input": "2023-12-05T00:01:34.660171Z",
     "iopub.status.busy": "2023-12-05T00:01:34.659922Z",
     "iopub.status.idle": "2023-12-05T00:01:34.761397Z",
     "shell.execute_reply": "2023-12-05T00:01:34.760343Z"
    },
    "papermill": {
     "duration": 0.124325,
     "end_time": "2023-12-05T00:01:34.763622",
     "exception": false,
     "start_time": "2023-12-05T00:01:34.639297",
     "status": "completed"
    },
    "tags": []
   },
   "outputs": [
    {
     "name": "stderr",
     "output_type": "stream",
     "text": [
      "/opt/conda/lib/python3.10/site-packages/pyarrow/pandas_compat.py:373: FutureWarning: is_sparse is deprecated and will be removed in a future version. Check `isinstance(dtype, pd.SparseDtype)` instead.\n",
      "  if _pandas_api.is_sparse(col):\n"
     ]
    },
    {
     "data": {
      "text/plain": [
       "(16789, 4198)"
      ]
     },
     "execution_count": 17,
     "metadata": {},
     "output_type": "execute_result"
    }
   ],
   "source": [
    "train_dataset = Dataset.from_pandas(train_df)\n",
    "test_dataset = Dataset.from_pandas(test_df)\n",
    "\n",
    "len(train_dataset), len(test_dataset)"
   ]
  },
  {
   "cell_type": "code",
   "execution_count": 18,
   "id": "887611bd",
   "metadata": {
    "execution": {
     "iopub.execute_input": "2023-12-05T00:01:34.805794Z",
     "iopub.status.busy": "2023-12-05T00:01:34.805501Z",
     "iopub.status.idle": "2023-12-05T00:01:34.814888Z",
     "shell.execute_reply": "2023-12-05T00:01:34.814069Z"
    },
    "papermill": {
     "duration": 0.032897,
     "end_time": "2023-12-05T00:01:34.816985",
     "exception": false,
     "start_time": "2023-12-05T00:01:34.784088",
     "status": "completed"
    },
    "tags": []
   },
   "outputs": [
    {
     "data": {
      "text/plain": [
       "{'text': 'so here is the situation my girlfriend is living with her mother brother and her brother girlfriend . freeloader has her own apartment but basically just uses it as a storage room. she spends every night at my girlfirend place eats their food uses their utilities etc etc. she does no housework or help out with anything at all and does not pay rent. that is right no rent. why mom thinks her son and freeloader will get married and does not want either of them to be upset at her etc so she does not confront the issue or let her daughter say anything even though they are noticeably annoyed uncomfortable with the situation. it a lot worse than this in fact i am making freeloader look good here. i really want to confront freeloader about all this but this not being my house makes that fairly impossible since i do not want her family to be upset with me none of my business and all that but this is reckless.',\n",
       " 'summary': 'i want to confront freeloader about all the stuff she does on my girlfriend dime but i do not know how to do that.',\n",
       " '__index_level_0__': 12249}"
      ]
     },
     "execution_count": 18,
     "metadata": {},
     "output_type": "execute_result"
    }
   ],
   "source": [
    "train_dataset[0]"
   ]
  },
  {
   "cell_type": "code",
   "execution_count": 19,
   "id": "0582bcab",
   "metadata": {
    "execution": {
     "iopub.execute_input": "2023-12-05T00:01:34.858980Z",
     "iopub.status.busy": "2023-12-05T00:01:34.858680Z",
     "iopub.status.idle": "2023-12-05T00:01:34.873257Z",
     "shell.execute_reply": "2023-12-05T00:01:34.872355Z"
    },
    "papermill": {
     "duration": 0.037609,
     "end_time": "2023-12-05T00:01:34.875248",
     "exception": false,
     "start_time": "2023-12-05T00:01:34.837639",
     "status": "completed"
    },
    "tags": []
   },
   "outputs": [
    {
     "name": "stderr",
     "output_type": "stream",
     "text": [
      "/opt/conda/lib/python3.10/site-packages/transformers/tokenization_utils_base.py:3856: UserWarning: `as_target_tokenizer` is deprecated and will be removed in v5 of Transformers. You can tokenize your labels by using the argument `text_target` of the regular `__call__` method (either in the same call as your input texts if you use the same keyword arguments, or in a separate call.\n",
      "  warnings.warn(\n"
     ]
    },
    {
     "data": {
      "text/plain": [
       "{'input_ids': [[0, 2527, 259, 16, 5, 1068, 127, 6096, 16, 1207, 19, 69, 985, 2138, 8, 69, 2138, 6096, 479, 30270, 20657, 254, 34, 69, 308, 3537, 53, 5072, 95, 2939, 24, 25, 10, 3521, 929, 4, 79, 12500, 358, 363, 23, 127, 821, 49185, 1885, 1187, 317, 24923, 49, 689, 2939, 49, 9987, 4753, 4753, 4, 79, 473, 117, 790, 6014, 50, 244, 66, 19, 932, 23, 70, 8, 473, 45, 582, 5956, 4, 14, 16, 235, 117, 5956, 4, 596, 3795, 4265, 69, 979, 8, 30270, 20657, 254, 40, 120, 2997, 8, 473, 45, 236, 1169, 9, 106, 7, 28, 4904, 23, 69, 4753, 98, 79, 473, 45, 10749, 5, 696, 50, 905, 69, 1354, 224, 932, 190, 600, 51, 32, 28840, 26678, 9800, 19, 5, 1068, 4, 24, 10, 319, 3007, 87, 42, 11, 754, 939, 524, 442, 30270, 20657, 254, 356, 205, 259, 4, 939, 269, 236, 7, 10749, 30270, 20657, 254, 59, 70, 42, 53, 42, 45, 145, 127, 790, 817, 14, 5342, 4703, 187, 939, 109, 45, 236, 69, 284, 7, 28, 4904, 19, 162, 4146, 9, 127, 265, 8, 70, 14, 53, 42, 16, 13508, 4, 2]], 'attention_mask': [[1, 1, 1, 1, 1, 1, 1, 1, 1, 1, 1, 1, 1, 1, 1, 1, 1, 1, 1, 1, 1, 1, 1, 1, 1, 1, 1, 1, 1, 1, 1, 1, 1, 1, 1, 1, 1, 1, 1, 1, 1, 1, 1, 1, 1, 1, 1, 1, 1, 1, 1, 1, 1, 1, 1, 1, 1, 1, 1, 1, 1, 1, 1, 1, 1, 1, 1, 1, 1, 1, 1, 1, 1, 1, 1, 1, 1, 1, 1, 1, 1, 1, 1, 1, 1, 1, 1, 1, 1, 1, 1, 1, 1, 1, 1, 1, 1, 1, 1, 1, 1, 1, 1, 1, 1, 1, 1, 1, 1, 1, 1, 1, 1, 1, 1, 1, 1, 1, 1, 1, 1, 1, 1, 1, 1, 1, 1, 1, 1, 1, 1, 1, 1, 1, 1, 1, 1, 1, 1, 1, 1, 1, 1, 1, 1, 1, 1, 1, 1, 1, 1, 1, 1, 1, 1, 1, 1, 1, 1, 1, 1, 1, 1, 1, 1, 1, 1, 1, 1, 1, 1, 1, 1, 1, 1, 1, 1, 1, 1, 1, 1, 1, 1, 1, 1, 1, 1, 1, 1, 1, 1, 1, 1]], 'labels': [[0, 118, 236, 7, 10749, 30270, 20657, 254, 59, 70, 5, 2682, 79, 473, 15, 127, 6096, 30979, 53, 939, 109, 45, 216, 141, 7, 109, 14, 4, 2]]}"
      ]
     },
     "execution_count": 19,
     "metadata": {},
     "output_type": "execute_result"
    }
   ],
   "source": [
    "make_model_data(train_dataset[:1])"
   ]
  },
  {
   "cell_type": "code",
   "execution_count": 20,
   "id": "b9aced12",
   "metadata": {
    "execution": {
     "iopub.execute_input": "2023-12-05T00:01:34.922088Z",
     "iopub.status.busy": "2023-12-05T00:01:34.921791Z",
     "iopub.status.idle": "2023-12-05T00:01:45.413336Z",
     "shell.execute_reply": "2023-12-05T00:01:45.412286Z"
    },
    "papermill": {
     "duration": 10.517508,
     "end_time": "2023-12-05T00:01:45.415423",
     "exception": false,
     "start_time": "2023-12-05T00:01:34.897915",
     "status": "completed"
    },
    "tags": []
   },
   "outputs": [
    {
     "data": {
      "application/vnd.jupyter.widget-view+json": {
       "model_id": "af5394b30f8641d79faf9b4b5813fc0a",
       "version_major": 2,
       "version_minor": 0
      },
      "text/plain": [
       "  0%|          | 0/17 [00:00<?, ?ba/s]"
      ]
     },
     "metadata": {},
     "output_type": "display_data"
    },
    {
     "data": {
      "application/vnd.jupyter.widget-view+json": {
       "model_id": "8b69e245934e47c7ae972aaec2ae6f59",
       "version_major": 2,
       "version_minor": 0
      },
      "text/plain": [
       "  0%|          | 0/5 [00:00<?, ?ba/s]"
      ]
     },
     "metadata": {},
     "output_type": "display_data"
    }
   ],
   "source": [
    "tokenized_train_data = train_dataset.map(make_model_data, batched = True)\n",
    "tokenized_test_data = test_dataset.map(make_model_data, batched = True)"
   ]
  },
  {
   "cell_type": "code",
   "execution_count": 21,
   "id": "eee5d2c3",
   "metadata": {
    "execution": {
     "iopub.execute_input": "2023-12-05T00:01:45.460922Z",
     "iopub.status.busy": "2023-12-05T00:01:45.460557Z",
     "iopub.status.idle": "2023-12-05T00:01:45.467078Z",
     "shell.execute_reply": "2023-12-05T00:01:45.465972Z"
    },
    "papermill": {
     "duration": 0.031872,
     "end_time": "2023-12-05T00:01:45.469157",
     "exception": false,
     "start_time": "2023-12-05T00:01:45.437285",
     "status": "completed"
    },
    "tags": []
   },
   "outputs": [
    {
     "data": {
      "text/plain": [
       "(16789, 4198)"
      ]
     },
     "execution_count": 21,
     "metadata": {},
     "output_type": "execute_result"
    }
   ],
   "source": [
    "len(tokenized_train_data), len(tokenized_test_data)"
   ]
  },
  {
   "cell_type": "code",
   "execution_count": 22,
   "id": "40c9ac66",
   "metadata": {
    "execution": {
     "iopub.execute_input": "2023-12-05T00:01:45.512629Z",
     "iopub.status.busy": "2023-12-05T00:01:45.512139Z",
     "iopub.status.idle": "2023-12-05T00:01:45.518082Z",
     "shell.execute_reply": "2023-12-05T00:01:45.517219Z"
    },
    "papermill": {
     "duration": 0.029887,
     "end_time": "2023-12-05T00:01:45.520148",
     "exception": false,
     "start_time": "2023-12-05T00:01:45.490261",
     "status": "completed"
    },
    "tags": []
   },
   "outputs": [
    {
     "name": "stdout",
     "output_type": "stream",
     "text": [
      "dict_keys(['text', 'summary', '__index_level_0__', 'input_ids', 'attention_mask', 'labels'])\n",
      "{'text': 'so here is the situation my girlfriend is living with her mother brother and her brother girlfriend . freeloader has her own apartment but basically just uses it as a storage room. she spends every night at my girlfirend place eats their food uses their utilities etc etc. she does no housework or help out with anything at all and does not pay rent. that is right no rent. why mom thinks her son and freeloader will get married and does not want either of them to be upset at her etc so she does not confront the issue or let her daughter say anything even though they are noticeably annoyed uncomfortable with the situation. it a lot worse than this in fact i am making freeloader look good here. i really want to confront freeloader about all this but this not being my house makes that fairly impossible since i do not want her family to be upset with me none of my business and all that but this is reckless.', 'summary': 'i want to confront freeloader about all the stuff she does on my girlfriend dime but i do not know how to do that.', '__index_level_0__': 12249, 'input_ids': [0, 2527, 259, 16, 5, 1068, 127, 6096, 16, 1207, 19, 69, 985, 2138, 8, 69, 2138, 6096, 479, 30270, 20657, 254, 34, 69, 308, 3537, 53, 5072, 95, 2939, 24, 25, 10, 3521, 929, 4, 79, 12500, 358, 363, 23, 127, 821, 49185, 1885, 1187, 317, 24923, 49, 689, 2939, 49, 9987, 4753, 4753, 4, 79, 473, 117, 790, 6014, 50, 244, 66, 19, 932, 23, 70, 8, 473, 45, 582, 5956, 4, 14, 16, 235, 117, 5956, 4, 596, 3795, 4265, 69, 979, 8, 30270, 20657, 254, 40, 120, 2997, 8, 473, 45, 236, 1169, 9, 106, 7, 28, 4904, 23, 69, 4753, 98, 79, 473, 45, 10749, 5, 696, 50, 905, 69, 1354, 224, 932, 190, 600, 51, 32, 28840, 26678, 9800, 19, 5, 1068, 4, 24, 10, 319, 3007, 87, 42, 11, 754, 939, 524, 442, 30270, 20657, 254, 356, 205, 259, 4, 939, 269, 236, 7, 10749, 30270, 20657, 254, 59, 70, 42, 53, 42, 45, 145, 127, 790, 817, 14, 5342, 4703, 187, 939, 109, 45, 236, 69, 284, 7, 28, 4904, 19, 162, 4146, 9, 127, 265, 8, 70, 14, 53, 42, 16, 13508, 4, 2], 'attention_mask': [1, 1, 1, 1, 1, 1, 1, 1, 1, 1, 1, 1, 1, 1, 1, 1, 1, 1, 1, 1, 1, 1, 1, 1, 1, 1, 1, 1, 1, 1, 1, 1, 1, 1, 1, 1, 1, 1, 1, 1, 1, 1, 1, 1, 1, 1, 1, 1, 1, 1, 1, 1, 1, 1, 1, 1, 1, 1, 1, 1, 1, 1, 1, 1, 1, 1, 1, 1, 1, 1, 1, 1, 1, 1, 1, 1, 1, 1, 1, 1, 1, 1, 1, 1, 1, 1, 1, 1, 1, 1, 1, 1, 1, 1, 1, 1, 1, 1, 1, 1, 1, 1, 1, 1, 1, 1, 1, 1, 1, 1, 1, 1, 1, 1, 1, 1, 1, 1, 1, 1, 1, 1, 1, 1, 1, 1, 1, 1, 1, 1, 1, 1, 1, 1, 1, 1, 1, 1, 1, 1, 1, 1, 1, 1, 1, 1, 1, 1, 1, 1, 1, 1, 1, 1, 1, 1, 1, 1, 1, 1, 1, 1, 1, 1, 1, 1, 1, 1, 1, 1, 1, 1, 1, 1, 1, 1, 1, 1, 1, 1, 1, 1, 1, 1, 1, 1, 1, 1, 1, 1, 1, 1, 1], 'labels': [0, 118, 236, 7, 10749, 30270, 20657, 254, 59, 70, 5, 2682, 79, 473, 15, 127, 6096, 30979, 53, 939, 109, 45, 216, 141, 7, 109, 14, 4, 2]}\n"
     ]
    }
   ],
   "source": [
    "print(tokenized_train_data[0].keys())\n",
    "print(tokenized_test_data[0])"
   ]
  },
  {
   "cell_type": "code",
   "execution_count": 23,
   "id": "328f3e86",
   "metadata": {
    "execution": {
     "iopub.execute_input": "2023-12-05T00:01:45.563201Z",
     "iopub.status.busy": "2023-12-05T00:01:45.562897Z",
     "iopub.status.idle": "2023-12-05T00:02:00.709359Z",
     "shell.execute_reply": "2023-12-05T00:02:00.708099Z"
    },
    "papermill": {
     "duration": 15.170866,
     "end_time": "2023-12-05T00:02:00.711870",
     "exception": false,
     "start_time": "2023-12-05T00:01:45.541004",
     "status": "completed"
    },
    "tags": []
   },
   "outputs": [
    {
     "data": {
      "application/vnd.jupyter.widget-view+json": {
       "model_id": "9289aa1d0a384ec1bdc709a9f368d3e7",
       "version_major": 2,
       "version_minor": 0
      },
      "text/plain": [
       "Downloading builder script:   0%|          | 0.00/2.16k [00:00<?, ?B/s]"
      ]
     },
     "metadata": {},
     "output_type": "display_data"
    },
    {
     "data": {
      "application/vnd.jupyter.widget-view+json": {
       "model_id": "4fee7bfd0de149ee8650c0603b8c8b57",
       "version_major": 2,
       "version_minor": 0
      },
      "text/plain": [
       "Downloading model.safetensors:   0%|          | 0.00/1.63G [00:00<?, ?B/s]"
      ]
     },
     "metadata": {},
     "output_type": "display_data"
    },
    {
     "data": {
      "application/vnd.jupyter.widget-view+json": {
       "model_id": "c505f078fbee4d5ca0f65af7cc234d69",
       "version_major": 2,
       "version_minor": 0
      },
      "text/plain": [
       "Downloading generation_config.json:   0%|          | 0.00/363 [00:00<?, ?B/s]"
      ]
     },
     "metadata": {},
     "output_type": "display_data"
    }
   ],
   "source": [
    "eval_metric = load_metric(\"rouge\")\n",
    "summary_model = AutoModelForSeq2SeqLM.from_pretrained(pretrained_model)"
   ]
  },
  {
   "cell_type": "code",
   "execution_count": 24,
   "id": "ba213f07",
   "metadata": {
    "execution": {
     "iopub.execute_input": "2023-12-05T00:02:00.772215Z",
     "iopub.status.busy": "2023-12-05T00:02:00.771158Z",
     "iopub.status.idle": "2023-12-05T00:02:00.781538Z",
     "shell.execute_reply": "2023-12-05T00:02:00.780464Z"
    },
    "papermill": {
     "duration": 0.043565,
     "end_time": "2023-12-05T00:02:00.784517",
     "exception": false,
     "start_time": "2023-12-05T00:02:00.740952",
     "status": "completed"
    },
    "tags": []
   },
   "outputs": [],
   "source": [
    "def generate_summary(summarizer_object, text, min_length = 10, max_length = 50):\n",
    "    summary = [elem['summary_text'] for elem in summarizer_object(text, min_length = min_length, max_length = max_length)]\n",
    "    display(HTML(pd.DataFrame({\"text\":text, \"summary\":summary}).to_html()))"
   ]
  },
  {
   "cell_type": "code",
   "execution_count": 25,
   "id": "20725cee",
   "metadata": {
    "execution": {
     "iopub.execute_input": "2023-12-05T00:02:00.851012Z",
     "iopub.status.busy": "2023-12-05T00:02:00.850650Z",
     "iopub.status.idle": "2023-12-05T00:02:10.090203Z",
     "shell.execute_reply": "2023-12-05T00:02:10.089341Z"
    },
    "papermill": {
     "duration": 9.269404,
     "end_time": "2023-12-05T00:02:10.092742",
     "exception": false,
     "start_time": "2023-12-05T00:02:00.823338",
     "status": "completed"
    },
    "tags": []
   },
   "outputs": [],
   "source": [
    "summarizer_wo_finetune = pipeline(\"summarization\", model = summary_model, tokenizer = tokenizer, device = 0)"
   ]
  },
  {
   "cell_type": "code",
   "execution_count": 26,
   "id": "e2e84a26",
   "metadata": {
    "execution": {
     "iopub.execute_input": "2023-12-05T00:02:10.139200Z",
     "iopub.status.busy": "2023-12-05T00:02:10.138859Z",
     "iopub.status.idle": "2023-12-05T00:02:14.511172Z",
     "shell.execute_reply": "2023-12-05T00:02:14.510172Z"
    },
    "papermill": {
     "duration": 4.397502,
     "end_time": "2023-12-05T00:02:14.513556",
     "exception": false,
     "start_time": "2023-12-05T00:02:10.116054",
     "status": "completed"
    },
    "tags": []
   },
   "outputs": [
    {
     "data": {
      "text/plain": [
       "[{'summary_text': ''}]"
      ]
     },
     "execution_count": 26,
     "metadata": {},
     "output_type": "execute_result"
    }
   ],
   "source": [
    "input_text = \"This is quite good. Hello World\"\n",
    "cleaned_input = text_cleaner(input_text)\n",
    "\n",
    "summarizer_wo_finetune(cleaned_input, min_length = 3, max_length = 3)"
   ]
  },
  {
   "cell_type": "code",
   "execution_count": 27,
   "id": "05fcc7c1",
   "metadata": {
    "execution": {
     "iopub.execute_input": "2023-12-05T00:02:14.559803Z",
     "iopub.status.busy": "2023-12-05T00:02:14.559504Z",
     "iopub.status.idle": "2023-12-05T00:02:15.971967Z",
     "shell.execute_reply": "2023-12-05T00:02:15.971067Z"
    },
    "papermill": {
     "duration": 1.438346,
     "end_time": "2023-12-05T00:02:15.974254",
     "exception": false,
     "start_time": "2023-12-05T00:02:14.535908",
     "status": "completed"
    },
    "tags": []
   },
   "outputs": [
    {
     "data": {
      "text/html": [
       "<table border=\"1\" class=\"dataframe\">\n",
       "  <thead>\n",
       "    <tr style=\"text-align: right;\">\n",
       "      <th></th>\n",
       "      <th>text</th>\n",
       "      <th>summary</th>\n",
       "    </tr>\n",
       "  </thead>\n",
       "  <tbody>\n",
       "    <tr>\n",
       "      <th>0</th>\n",
       "      <td>so here is the situation my girlfriend is living with her mother brother and her brother girlfriend . freeloader has her own apartment but basically just uses it as a storage room. she spends every night at my girlfirend place eats their food uses their utilities etc etc. she does no housework or help out with anything at all and does not pay rent. that is right no rent. why mom thinks her son and freeloader will get married and does not want either of them to be upset at her etc so she does not confront the issue or let her daughter say anything even though they are noticeably annoyed uncomfortable with the situation. it a lot worse than this in fact i am making freeloader look good here. i really want to confront freeloader about all this but this not being my house makes that fairly impossible since i do not want her family to be upset with me none of my business and all that but this is reckless.</td>\n",
       "      <td>My girlfriend is living with her mother brother and her brother girlfriend. freeloader has her own apartment but basically just uses it as a storage room. she spends every night at my girlfirend place eats their food uses their utilities etc etc. does no housework or help out with anything at all and does not pay rent.</td>\n",
       "    </tr>\n",
       "  </tbody>\n",
       "</table>"
      ],
      "text/plain": [
       "<IPython.core.display.HTML object>"
      ]
     },
     "metadata": {},
     "output_type": "display_data"
    }
   ],
   "source": [
    "generate_summary(summarizer_wo_finetune, train_df[:1].text.tolist())"
   ]
  },
  {
   "cell_type": "code",
   "execution_count": 28,
   "id": "2747ed95",
   "metadata": {
    "execution": {
     "iopub.execute_input": "2023-12-05T00:02:16.019915Z",
     "iopub.status.busy": "2023-12-05T00:02:16.019630Z",
     "iopub.status.idle": "2023-12-05T00:02:17.998728Z",
     "shell.execute_reply": "2023-12-05T00:02:17.997799Z"
    },
    "papermill": {
     "duration": 2.004472,
     "end_time": "2023-12-05T00:02:18.000952",
     "exception": false,
     "start_time": "2023-12-05T00:02:15.996480",
     "status": "completed"
    },
    "tags": []
   },
   "outputs": [
    {
     "data": {
      "text/html": [
       "<table border=\"1\" class=\"dataframe\">\n",
       "  <thead>\n",
       "    <tr style=\"text-align: right;\">\n",
       "      <th></th>\n",
       "      <th>text</th>\n",
       "      <th>summary</th>\n",
       "    </tr>\n",
       "  </thead>\n",
       "  <tbody>\n",
       "    <tr>\n",
       "      <th>0</th>\n",
       "      <td>i have been dating my girlfriend for about months now but we were friends for about years beforehand. we have a mutual friend and when my girlfriend hangs out with her i genuinely get upset. in the past she has tried to stop other people who were her friends from dating because it upset her. i feel like she might be trying to do that with me and my girlfriend. whenever my girlfriend hangs out with k it is this huge thing where i feel like i cannot even go into the same room as them. my girlfriend will not answer my texts because k says that it is her time. the main reason why i am upset is because k bad mouthed me in front of someone who used to have a crush on my girlfriend. that girl then proceeded to set me aside at a party and have a full blown conversation with me for over minutes that i really did not want to be a part of. whenever my girlfriend hangs out with k it feels like a little stab in the back. like she does not care that k trash talked me to someone. who knows that other shit k has said about me to other people or even to my own girlfriend i do not know what to do. everyone coddles k because she will just start crying or bitch and moan about how everyone is being mean to her but why does not anyone care about the way i feel one of these occurrences happened last night where my girlfriend and i were supposed to facetime because i am at home for a couple of weeks but she could not because k just took up all of her time.my girlfriend keeps asking me if i am mad and i am not. i am upset and hurt and i do not know how to talk to her or if i should.</td>\n",
       "      <td>i have been dating my girlfriend for about months now but we were friends for about years beforehand. whenever my girlfriend hangs out with k it feels like a little stab in the back. who knows that other shit k has said about me to other people or even to my own girlfriend i do not know what to do. everyone coddles k because she will just start crying or bitch and moan about how everyone is being mean to her but why does not anyone care about the way i feel</td>\n",
       "    </tr>\n",
       "  </tbody>\n",
       "</table>"
      ],
      "text/plain": [
       "<IPython.core.display.HTML object>"
      ]
     },
     "metadata": {},
     "output_type": "display_data"
    }
   ],
   "source": [
    "generate_summary(summarizer_wo_finetune, test_df[:1].text.tolist())"
   ]
  },
  {
   "cell_type": "code",
   "execution_count": 29,
   "id": "0b3022dc",
   "metadata": {
    "execution": {
     "iopub.execute_input": "2023-12-05T00:02:18.048252Z",
     "iopub.status.busy": "2023-12-05T00:02:18.047558Z",
     "iopub.status.idle": "2023-12-05T00:02:18.055937Z",
     "shell.execute_reply": "2023-12-05T00:02:18.055183Z"
    },
    "papermill": {
     "duration": 0.033676,
     "end_time": "2023-12-05T00:02:18.057953",
     "exception": false,
     "start_time": "2023-12-05T00:02:18.024277",
     "status": "completed"
    },
    "tags": []
   },
   "outputs": [],
   "source": [
    "batch_size = 8\n",
    "epochs = 5\n",
    "\n",
    "args = Seq2SeqTrainingArguments('summarization_bart_large_cnn',\n",
    "                                num_train_epochs = epochs,\n",
    "                                evaluation_strategy = \"epoch\",\n",
    "                                logging_steps = 100,\n",
    "                                learning_rate = 2e-5,\n",
    "                                weight_decay = 0.01,\n",
    "                                per_device_train_batch_size = batch_size,\n",
    "                                per_device_eval_batch_size = batch_size,\n",
    "                                save_total_limit = 3,\n",
    "                                predict_with_generate = True,\n",
    "                                fp16 = True\n",
    "                                )"
   ]
  },
  {
   "cell_type": "code",
   "execution_count": 30,
   "id": "cbedf9a6",
   "metadata": {
    "execution": {
     "iopub.execute_input": "2023-12-05T00:02:18.103633Z",
     "iopub.status.busy": "2023-12-05T00:02:18.103344Z",
     "iopub.status.idle": "2023-12-05T00:02:18.111065Z",
     "shell.execute_reply": "2023-12-05T00:02:18.110256Z"
    },
    "papermill": {
     "duration": 0.033052,
     "end_time": "2023-12-05T00:02:18.112925",
     "exception": false,
     "start_time": "2023-12-05T00:02:18.079873",
     "status": "completed"
    },
    "tags": []
   },
   "outputs": [],
   "source": [
    "def generate_metrics(eval_pred):\n",
    "    predictions, labels = eval_pred\n",
    "    decoded_preds = tokenizer.batch_decode(predictions, skip_special_tokens = True)\n",
    "\n",
    "    labels = np.where(labels != -100, labels, tokenizer.pad_token_id)\n",
    "    decoded_labels = tokenizer.batch_decode(labels, skip_special_tokens = True)\n",
    "\n",
    "    decoded_preds = [\"\\n\".join(nltk.sent_tokenize(pred.strip())) for pred in decoded_preds]\n",
    "    decoded_labels = [\"\\n\".join(nltk.sent_tokenize(label.strip())) for label in decoded_labels]\n",
    "\n",
    "    result = eval_metric.compute(predictions = decoded_preds, references = decoded_labels, use_stemmer = True)\n",
    "    result = {key: value.mid.fmeasure * 100 for key, value in result.items()}\n",
    "\n",
    "    prediction_lens = [np.count_nonzero(pred != tokenizer.pad_token_id) for pred in predictions]\n",
    "    result[\"gen_len\"] = np.mean(prediction_lens)\n",
    "\n",
    "    return {k: round(v, 4) for k, v in result.items()}"
   ]
  },
  {
   "cell_type": "code",
   "execution_count": 31,
   "id": "da7a2ed7",
   "metadata": {
    "execution": {
     "iopub.execute_input": "2023-12-05T00:02:18.159462Z",
     "iopub.status.busy": "2023-12-05T00:02:18.159157Z",
     "iopub.status.idle": "2023-12-05T00:02:18.163255Z",
     "shell.execute_reply": "2023-12-05T00:02:18.162349Z"
    },
    "papermill": {
     "duration": 0.029003,
     "end_time": "2023-12-05T00:02:18.165172",
     "exception": false,
     "start_time": "2023-12-05T00:02:18.136169",
     "status": "completed"
    },
    "tags": []
   },
   "outputs": [],
   "source": [
    "data_collator = DataCollatorForSeq2Seq(tokenizer, model = summary_model)"
   ]
  },
  {
   "cell_type": "code",
   "execution_count": 32,
   "id": "b0e157a5",
   "metadata": {
    "execution": {
     "iopub.execute_input": "2023-12-05T00:02:18.211723Z",
     "iopub.status.busy": "2023-12-05T00:02:18.211433Z",
     "iopub.status.idle": "2023-12-05T00:02:18.257115Z",
     "shell.execute_reply": "2023-12-05T00:02:18.256316Z"
    },
    "papermill": {
     "duration": 0.071537,
     "end_time": "2023-12-05T00:02:18.259052",
     "exception": false,
     "start_time": "2023-12-05T00:02:18.187515",
     "status": "completed"
    },
    "tags": []
   },
   "outputs": [],
   "source": [
    "finetune_model = Seq2SeqTrainer(summary_model,\n",
    "                               args,\n",
    "                               train_dataset = tokenized_train_data,\n",
    "                               eval_dataset = tokenized_test_data,\n",
    "                               data_collator = data_collator,\n",
    "                               tokenizer = tokenizer,\n",
    "                               compute_metrics = generate_metrics)"
   ]
  },
  {
   "cell_type": "code",
   "execution_count": 33,
   "id": "9c893b95",
   "metadata": {
    "execution": {
     "iopub.execute_input": "2023-12-05T00:02:18.304261Z",
     "iopub.status.busy": "2023-12-05T00:02:18.303905Z",
     "iopub.status.idle": "2023-12-05T00:02:18.319529Z",
     "shell.execute_reply": "2023-12-05T00:02:18.318681Z"
    },
    "papermill": {
     "duration": 0.040475,
     "end_time": "2023-12-05T00:02:18.321332",
     "exception": false,
     "start_time": "2023-12-05T00:02:18.280857",
     "status": "completed"
    },
    "tags": []
   },
   "outputs": [
    {
     "data": {
      "text/plain": [
       "BartForConditionalGeneration(\n",
       "  (model): BartModel(\n",
       "    (shared): Embedding(50264, 1024, padding_idx=1)\n",
       "    (encoder): BartEncoder(\n",
       "      (embed_tokens): Embedding(50264, 1024, padding_idx=1)\n",
       "      (embed_positions): BartLearnedPositionalEmbedding(1026, 1024)\n",
       "      (layers): ModuleList(\n",
       "        (0-11): 12 x BartEncoderLayer(\n",
       "          (self_attn): BartAttention(\n",
       "            (k_proj): Linear(in_features=1024, out_features=1024, bias=True)\n",
       "            (v_proj): Linear(in_features=1024, out_features=1024, bias=True)\n",
       "            (q_proj): Linear(in_features=1024, out_features=1024, bias=True)\n",
       "            (out_proj): Linear(in_features=1024, out_features=1024, bias=True)\n",
       "          )\n",
       "          (self_attn_layer_norm): LayerNorm((1024,), eps=1e-05, elementwise_affine=True)\n",
       "          (activation_fn): GELUActivation()\n",
       "          (fc1): Linear(in_features=1024, out_features=4096, bias=True)\n",
       "          (fc2): Linear(in_features=4096, out_features=1024, bias=True)\n",
       "          (final_layer_norm): LayerNorm((1024,), eps=1e-05, elementwise_affine=True)\n",
       "        )\n",
       "      )\n",
       "      (layernorm_embedding): LayerNorm((1024,), eps=1e-05, elementwise_affine=True)\n",
       "    )\n",
       "    (decoder): BartDecoder(\n",
       "      (embed_tokens): Embedding(50264, 1024, padding_idx=1)\n",
       "      (embed_positions): BartLearnedPositionalEmbedding(1026, 1024)\n",
       "      (layers): ModuleList(\n",
       "        (0-11): 12 x BartDecoderLayer(\n",
       "          (self_attn): BartAttention(\n",
       "            (k_proj): Linear(in_features=1024, out_features=1024, bias=True)\n",
       "            (v_proj): Linear(in_features=1024, out_features=1024, bias=True)\n",
       "            (q_proj): Linear(in_features=1024, out_features=1024, bias=True)\n",
       "            (out_proj): Linear(in_features=1024, out_features=1024, bias=True)\n",
       "          )\n",
       "          (activation_fn): GELUActivation()\n",
       "          (self_attn_layer_norm): LayerNorm((1024,), eps=1e-05, elementwise_affine=True)\n",
       "          (encoder_attn): BartAttention(\n",
       "            (k_proj): Linear(in_features=1024, out_features=1024, bias=True)\n",
       "            (v_proj): Linear(in_features=1024, out_features=1024, bias=True)\n",
       "            (q_proj): Linear(in_features=1024, out_features=1024, bias=True)\n",
       "            (out_proj): Linear(in_features=1024, out_features=1024, bias=True)\n",
       "          )\n",
       "          (encoder_attn_layer_norm): LayerNorm((1024,), eps=1e-05, elementwise_affine=True)\n",
       "          (fc1): Linear(in_features=1024, out_features=4096, bias=True)\n",
       "          (fc2): Linear(in_features=4096, out_features=1024, bias=True)\n",
       "          (final_layer_norm): LayerNorm((1024,), eps=1e-05, elementwise_affine=True)\n",
       "        )\n",
       "      )\n",
       "      (layernorm_embedding): LayerNorm((1024,), eps=1e-05, elementwise_affine=True)\n",
       "    )\n",
       "  )\n",
       "  (lm_head): Linear(in_features=1024, out_features=50264, bias=False)\n",
       ")"
      ]
     },
     "execution_count": 33,
     "metadata": {},
     "output_type": "execute_result"
    }
   ],
   "source": [
    "device = torch.device(\"cuda\") if torch.cuda.is_available() else torch.device(\"cpu\")\n",
    "summary_model.to(device)"
   ]
  },
  {
   "cell_type": "code",
   "execution_count": 34,
   "id": "cd82f93f",
   "metadata": {
    "execution": {
     "iopub.execute_input": "2023-12-05T00:02:18.367291Z",
     "iopub.status.busy": "2023-12-05T00:02:18.367023Z",
     "iopub.status.idle": "2023-12-05T00:02:18.372523Z",
     "shell.execute_reply": "2023-12-05T00:02:18.371576Z"
    },
    "papermill": {
     "duration": 0.030911,
     "end_time": "2023-12-05T00:02:18.374672",
     "exception": false,
     "start_time": "2023-12-05T00:02:18.343761",
     "status": "completed"
    },
    "tags": []
   },
   "outputs": [
    {
     "data": {
      "text/plain": [
       "device(type='cuda')"
      ]
     },
     "execution_count": 34,
     "metadata": {},
     "output_type": "execute_result"
    }
   ],
   "source": [
    "device"
   ]
  },
  {
   "cell_type": "code",
   "execution_count": 35,
   "id": "a9528cb3",
   "metadata": {
    "execution": {
     "iopub.execute_input": "2023-12-05T00:02:18.424173Z",
     "iopub.status.busy": "2023-12-05T00:02:18.423875Z",
     "iopub.status.idle": "2023-12-05T04:18:58.680714Z",
     "shell.execute_reply": "2023-12-05T04:18:58.679702Z"
    },
    "papermill": {
     "duration": 15400.285019,
     "end_time": "2023-12-05T04:18:58.683080",
     "exception": false,
     "start_time": "2023-12-05T00:02:18.398061",
     "status": "completed"
    },
    "tags": []
   },
   "outputs": [
    {
     "name": "stderr",
     "output_type": "stream",
     "text": [
      "\u001b[34m\u001b[1mwandb\u001b[0m: Currently logged in as: \u001b[33mnikhilmishra210103\u001b[0m. Use \u001b[1m`wandb login --relogin`\u001b[0m to force relogin\n",
      "\u001b[34m\u001b[1mwandb\u001b[0m: Tracking run with wandb version 0.16.0\n",
      "\u001b[34m\u001b[1mwandb\u001b[0m: Run data is saved locally in \u001b[35m\u001b[1m/kaggle/working/wandb/run-20231205_000218-hdae4xjn\u001b[0m\n",
      "\u001b[34m\u001b[1mwandb\u001b[0m: Run \u001b[1m`wandb offline`\u001b[0m to turn off syncing.\n",
      "\u001b[34m\u001b[1mwandb\u001b[0m: Syncing run \u001b[33mrestful-valley-2\u001b[0m\n",
      "\u001b[34m\u001b[1mwandb\u001b[0m: ⭐️ View project at \u001b[34m\u001b[4mhttps://wandb.ai/nikhilmishra210103/huggingface\u001b[0m\n",
      "\u001b[34m\u001b[1mwandb\u001b[0m: 🚀 View run at \u001b[34m\u001b[4mhttps://wandb.ai/nikhilmishra210103/huggingface/runs/hdae4xjn\u001b[0m\n",
      "You're using a BartTokenizerFast tokenizer. Please note that with a fast tokenizer, using the `__call__` method is faster than using a method to encode the text followed by a call to the `pad` method to get a padded encoding.\n",
      "/opt/conda/lib/python3.10/site-packages/torch/nn/parallel/_functions.py:68: UserWarning: Was asked to gather along dimension 0, but all input tensors were scalars; will instead unsqueeze and return a vector.\n",
      "  warnings.warn('Was asked to gather along dimension 0, but all '\n"
     ]
    },
    {
     "data": {
      "text/html": [
       "\n",
       "    <div>\n",
       "      \n",
       "      <progress value='5250' max='5250' style='width:300px; height:20px; vertical-align: middle;'></progress>\n",
       "      [5250/5250 4:16:05, Epoch 5/5]\n",
       "    </div>\n",
       "    <table border=\"1\" class=\"dataframe\">\n",
       "  <thead>\n",
       " <tr style=\"text-align: left;\">\n",
       "      <th>Epoch</th>\n",
       "      <th>Training Loss</th>\n",
       "      <th>Validation Loss</th>\n",
       "      <th>Rouge1</th>\n",
       "      <th>Rouge2</th>\n",
       "      <th>Rougel</th>\n",
       "      <th>Rougelsum</th>\n",
       "      <th>Gen Len</th>\n",
       "    </tr>\n",
       "  </thead>\n",
       "  <tbody>\n",
       "    <tr>\n",
       "      <td>1</td>\n",
       "      <td>1.942200</td>\n",
       "      <td>2.005625</td>\n",
       "      <td>33.823100</td>\n",
       "      <td>13.753300</td>\n",
       "      <td>24.962800</td>\n",
       "      <td>28.683400</td>\n",
       "      <td>61.825900</td>\n",
       "    </tr>\n",
       "    <tr>\n",
       "      <td>2</td>\n",
       "      <td>1.664100</td>\n",
       "      <td>1.992284</td>\n",
       "      <td>33.718000</td>\n",
       "      <td>13.590900</td>\n",
       "      <td>24.934200</td>\n",
       "      <td>28.561000</td>\n",
       "      <td>62.400400</td>\n",
       "    </tr>\n",
       "    <tr>\n",
       "      <td>3</td>\n",
       "      <td>1.426400</td>\n",
       "      <td>2.036550</td>\n",
       "      <td>34.228600</td>\n",
       "      <td>13.978900</td>\n",
       "      <td>25.218000</td>\n",
       "      <td>28.886700</td>\n",
       "      <td>61.053800</td>\n",
       "    </tr>\n",
       "    <tr>\n",
       "      <td>4</td>\n",
       "      <td>1.262600</td>\n",
       "      <td>2.089701</td>\n",
       "      <td>34.197500</td>\n",
       "      <td>13.868700</td>\n",
       "      <td>25.222200</td>\n",
       "      <td>28.818800</td>\n",
       "      <td>61.193400</td>\n",
       "    </tr>\n",
       "    <tr>\n",
       "      <td>5</td>\n",
       "      <td>1.142500</td>\n",
       "      <td>2.189351</td>\n",
       "      <td>34.054400</td>\n",
       "      <td>13.672500</td>\n",
       "      <td>25.007400</td>\n",
       "      <td>28.638600</td>\n",
       "      <td>61.106700</td>\n",
       "    </tr>\n",
       "  </tbody>\n",
       "</table><p>"
      ],
      "text/plain": [
       "<IPython.core.display.HTML object>"
      ]
     },
     "metadata": {},
     "output_type": "display_data"
    },
    {
     "name": "stderr",
     "output_type": "stream",
     "text": [
      "/opt/conda/lib/python3.10/site-packages/torch/nn/parallel/_functions.py:68: UserWarning: Was asked to gather along dimension 0, but all input tensors were scalars; will instead unsqueeze and return a vector.\n",
      "  warnings.warn('Was asked to gather along dimension 0, but all '\n",
      "/opt/conda/lib/python3.10/site-packages/torch/nn/parallel/_functions.py:68: UserWarning: Was asked to gather along dimension 0, but all input tensors were scalars; will instead unsqueeze and return a vector.\n",
      "  warnings.warn('Was asked to gather along dimension 0, but all '\n",
      "/opt/conda/lib/python3.10/site-packages/torch/nn/parallel/_functions.py:68: UserWarning: Was asked to gather along dimension 0, but all input tensors were scalars; will instead unsqueeze and return a vector.\n",
      "  warnings.warn('Was asked to gather along dimension 0, but all '\n",
      "/opt/conda/lib/python3.10/site-packages/torch/nn/parallel/_functions.py:68: UserWarning: Was asked to gather along dimension 0, but all input tensors were scalars; will instead unsqueeze and return a vector.\n",
      "  warnings.warn('Was asked to gather along dimension 0, but all '\n",
      "/opt/conda/lib/python3.10/site-packages/torch/nn/parallel/_functions.py:68: UserWarning: Was asked to gather along dimension 0, but all input tensors were scalars; will instead unsqueeze and return a vector.\n",
      "  warnings.warn('Was asked to gather along dimension 0, but all '\n",
      "/opt/conda/lib/python3.10/site-packages/torch/nn/parallel/_functions.py:68: UserWarning: Was asked to gather along dimension 0, but all input tensors were scalars; will instead unsqueeze and return a vector.\n",
      "  warnings.warn('Was asked to gather along dimension 0, but all '\n",
      "/opt/conda/lib/python3.10/site-packages/torch/nn/parallel/_functions.py:68: UserWarning: Was asked to gather along dimension 0, but all input tensors were scalars; will instead unsqueeze and return a vector.\n",
      "  warnings.warn('Was asked to gather along dimension 0, but all '\n",
      "/opt/conda/lib/python3.10/site-packages/torch/nn/parallel/_functions.py:68: UserWarning: Was asked to gather along dimension 0, but all input tensors were scalars; will instead unsqueeze and return a vector.\n",
      "  warnings.warn('Was asked to gather along dimension 0, but all '\n",
      "/opt/conda/lib/python3.10/site-packages/torch/nn/parallel/_functions.py:68: UserWarning: Was asked to gather along dimension 0, but all input tensors were scalars; will instead unsqueeze and return a vector.\n",
      "  warnings.warn('Was asked to gather along dimension 0, but all '\n",
      "/opt/conda/lib/python3.10/site-packages/torch/nn/parallel/_functions.py:68: UserWarning: Was asked to gather along dimension 0, but all input tensors were scalars; will instead unsqueeze and return a vector.\n",
      "  warnings.warn('Was asked to gather along dimension 0, but all '\n"
     ]
    },
    {
     "data": {
      "text/plain": [
       "TrainOutput(global_step=5250, training_loss=1.503502930414109, metrics={'train_runtime': 15399.8948, 'train_samples_per_second': 5.451, 'train_steps_per_second': 0.341, 'total_flos': 6.899243309747405e+16, 'train_loss': 1.503502930414109, 'epoch': 5.0})"
      ]
     },
     "execution_count": 35,
     "metadata": {},
     "output_type": "execute_result"
    }
   ],
   "source": [
    "finetune_model.train()"
   ]
  },
  {
   "cell_type": "markdown",
   "id": "0f513f8f",
   "metadata": {},
   "source": [
    "### Saving finetuned model"
   ]
  },
  {
   "cell_type": "code",
   "execution_count": 36,
   "id": "d7789c4d",
   "metadata": {
    "execution": {
     "iopub.execute_input": "2023-12-05T04:18:58.741923Z",
     "iopub.status.busy": "2023-12-05T04:18:58.741069Z",
     "iopub.status.idle": "2023-12-05T04:19:01.950091Z",
     "shell.execute_reply": "2023-12-05T04:19:01.949103Z"
    },
    "papermill": {
     "duration": 3.241124,
     "end_time": "2023-12-05T04:19:01.952705",
     "exception": false,
     "start_time": "2023-12-05T04:18:58.711581",
     "status": "completed"
    },
    "tags": []
   },
   "outputs": [],
   "source": [
    "PATH = '/kaggle/working/summarization_bart_large_cnn/model'\n",
    "\n",
    "if not os.path.isdir(PATH):\n",
    "    os.mkdir(PATH)\n",
    "    summary_model.save_pretrained(PATH)\n",
    "else:\n",
    "    print('Model already exists')"
   ]
  },
  {
   "cell_type": "markdown",
   "id": "ed13cbe0",
   "metadata": {},
   "source": [
    "### Model Evaluation"
   ]
  },
  {
   "cell_type": "code",
   "execution_count": 37,
   "id": "c0b8a271",
   "metadata": {
    "execution": {
     "iopub.execute_input": "2023-12-05T04:19:02.010072Z",
     "iopub.status.busy": "2023-12-05T04:19:02.009665Z",
     "iopub.status.idle": "2023-12-05T04:19:02.022753Z",
     "shell.execute_reply": "2023-12-05T04:19:02.021629Z"
    },
    "papermill": {
     "duration": 0.044654,
     "end_time": "2023-12-05T04:19:02.025283",
     "exception": false,
     "start_time": "2023-12-05T04:19:01.980629",
     "status": "completed"
    },
    "tags": []
   },
   "outputs": [],
   "source": [
    "finetuned_summarizer = pipeline(\"summarization\", model = summary_model, tokenizer = tokenizer, device = 0)"
   ]
  },
  {
   "cell_type": "code",
   "execution_count": 38,
   "id": "4ba78bef",
   "metadata": {
    "execution": {
     "iopub.execute_input": "2023-12-05T04:19:02.084115Z",
     "iopub.status.busy": "2023-12-05T04:19:02.083159Z",
     "iopub.status.idle": "2023-12-05T04:19:05.105091Z",
     "shell.execute_reply": "2023-12-05T04:19:05.103964Z"
    },
    "papermill": {
     "duration": 3.054319,
     "end_time": "2023-12-05T04:19:05.107492",
     "exception": false,
     "start_time": "2023-12-05T04:19:02.053173",
     "status": "completed"
    },
    "tags": []
   },
   "outputs": [
    {
     "data": {
      "text/html": [
       "<table border=\"1\" class=\"dataframe\">\n",
       "  <thead>\n",
       "    <tr style=\"text-align: right;\">\n",
       "      <th></th>\n",
       "      <th>text</th>\n",
       "      <th>summary</th>\n",
       "    </tr>\n",
       "  </thead>\n",
       "  <tbody>\n",
       "    <tr>\n",
       "      <th>0</th>\n",
       "      <td>so my father has been struggling with an unknown skin condition for the past few months. after several doctors visits referrals prescriptions and trying every home remedy and lotion under the sun it has persisted. the skin is almost leather like and very thick from his face all the way down his arms chest and back and he develops painful lumps or nodules under the skin that grow and shrink at various spots along the neck front shoulder and upper arm. these lumps start the size of a pea and grow to small ping pong balls and then shrink again over the course of a few days time. he was referred to have an outpatient surgery early last week to remove one of these lumps so that they could perform a biopsy and find out what exactly is going on with him. he returned today to have his stitches removed and find out some preliminary results. the doctor very frankly said that he was sorry but they have lost the sample that they extracted from his body. no recourse was offered and my father left the office completely stunned at the situation after having the stitches removed. the surgery referral was covered by his medicare and supplementary insurance all but . . now this is not an obscene amount but we are by no means well off. but i find it very disturbing that my father is still left with no idea of what is wrong with him and now will most likely have to undergo another surgery in the near future. is there anything i can do reddit is this grounds for a negligence or malpractice lawsuit i know that this is no place for seeking legal advice but there has to be someone out there that might have gone through something similar or can offer some advice.</td>\n",
       "      <td>my father has a skin condition that is causing him to develop painful nodules and lumps that grow and shrink over the course of a few days time. he had surgery to remove one of these nodules but the doctor that did the surgery has lost the sample that they extracted from his body. is there anything i can do</td>\n",
       "    </tr>\n",
       "    <tr>\n",
       "      <th>1</th>\n",
       "      <td>hi all. my boyfriend and i have been dating for sixteen months. we would be hypothetically moving in together in august. apartments in our city are very expensive and it would make good financial sense for us to live together and split rent not only for me but for him since he is graduating this year and will have to start paying his own rent as soon as he leaves school . living with him would reassure my parents about my safety which they would otherwise worry about. he is also dealing with a difficult roommate at his current place and i think he would be eager to leave the situation. i just have two reservations. one is that i do not know if i want to think about a serious future with a guy i met when i was nineteen and i feel like moving in together is a precursor to that. another is that we had been having difficulties lately due to how he was treating me due to his own insecurities. at one point i was so upset i was thinking about breaking up with him. but after a come to jesus talk a month ago he sincerely apologized to me and acknowledged that he was behaving wrongly ever since he has been making a marked effort to do better and it has really helped. but i just worry that having this feelings so recently makes moving in together a bad idea. what do you guys think</td>\n",
       "      <td>should i live with my boyfriend of months if we are moving in together in august</td>\n",
       "    </tr>\n",
       "    <tr>\n",
       "      <th>2</th>\n",
       "      <td>hi all a few quick questions i met this girl through a couple of friends. we did not talk much that first night but we have some mutual friends and they said she is awesome. i liked her enough to ask her out we went on a first date about weeks ago. it was really pleasant i felt very relaxed but excited to hang out with her. she was traveling in europe for past . weeks but she has since returned. we went on a second date yesterday . i had a great time last night and i would like to ask her out again. i have not really dated very much . so here are my questions . i did not make a move last time because i felt like she is a conservative girl and also since i had not seen her in almost weeks i personally felt like holding off. that is ok right . when i first reached out to her it was via facebook. thus far we have only communicated about dates via facebook but we exchanged phone numbers when we were to meet up last time . should i message her on facebook or should i text her . i am thinking of either taking her to a cool art show or to my favorite park in our little city during the day on saturday or sunday. does that sound like a good progression sensible date i do not want it to feel very intense but i obviously do want her to have fun and do something interesting thanks for your help</td>\n",
       "      <td>went on a second date with a girl last night and i want to ask her out again. should i message her on facebook or text her to set up a date</td>\n",
       "    </tr>\n",
       "  </tbody>\n",
       "</table>"
      ],
      "text/plain": [
       "<IPython.core.display.HTML object>"
      ]
     },
     "metadata": {},
     "output_type": "display_data"
    }
   ],
   "source": [
    "idxs = random.sample(range(0, len(test_df)), k = 3)\n",
    "generate_summary(finetuned_summarizer, test_df.iloc[idxs].text.tolist())"
   ]
  },
  {
   "cell_type": "code",
   "execution_count": 39,
   "id": "61aa0bd7",
   "metadata": {
    "execution": {
     "iopub.execute_input": "2023-12-05T04:19:05.165188Z",
     "iopub.status.busy": "2023-12-05T04:19:05.164397Z",
     "iopub.status.idle": "2023-12-05T04:19:05.170401Z",
     "shell.execute_reply": "2023-12-05T04:19:05.169259Z"
    },
    "papermill": {
     "duration": 0.037482,
     "end_time": "2023-12-05T04:19:05.172674",
     "exception": false,
     "start_time": "2023-12-05T04:19:05.135192",
     "status": "completed"
    },
    "tags": []
   },
   "outputs": [],
   "source": [
    "text_test = test_df.text.tolist()\n",
    "summary_test = test_df.summary.tolist()\n",
    "summary_pred = []"
   ]
  },
  {
   "cell_type": "code",
   "execution_count": 40,
   "id": "de9c8d8b",
   "metadata": {
    "execution": {
     "iopub.execute_input": "2023-12-05T04:19:05.230192Z",
     "iopub.status.busy": "2023-12-05T04:19:05.229255Z",
     "iopub.status.idle": "2023-12-05T04:19:27.051013Z",
     "shell.execute_reply": "2023-12-05T04:19:27.049951Z"
    },
    "papermill": {
     "duration": 21.853101,
     "end_time": "2023-12-05T04:19:27.053530",
     "exception": false,
     "start_time": "2023-12-05T04:19:05.200429",
     "status": "completed"
    },
    "tags": []
   },
   "outputs": [],
   "source": [
    "batch_size = 8\n",
    "start_idx = 0\n",
    "\n",
    "for i in range(0, len(text_test[start_idx:]), batch_size):\n",
    "    batch = int(i/batch_size)\n",
    "    batch_text = text_test[start_idx+i : start_idx+i+batch_size]\n",
    "    summary_pred += [elem['summary_text'] for elem in finetuned_summarizer(batch_text, min_length = 10, max_length = 50)]\n",
    "    if batch == 2:\n",
    "        break"
   ]
  },
  {
   "cell_type": "code",
   "execution_count": 41,
   "id": "09d2d139",
   "metadata": {
    "execution": {
     "iopub.execute_input": "2023-12-05T04:19:27.110693Z",
     "iopub.status.busy": "2023-12-05T04:19:27.110290Z",
     "iopub.status.idle": "2023-12-05T04:19:27.431260Z",
     "shell.execute_reply": "2023-12-05T04:19:27.429812Z"
    },
    "papermill": {
     "duration": 0.352223,
     "end_time": "2023-12-05T04:19:27.433967",
     "exception": false,
     "start_time": "2023-12-05T04:19:27.081744",
     "status": "completed"
    },
    "tags": []
   },
   "outputs": [
    {
     "name": "stdout",
     "output_type": "stream",
     "text": [
      "{'rouge1': AggregateScore(low=Score(precision=0.2895313108948829, recall=0.3464790840908168, fmeasure=0.30773864913656135), mid=Score(precision=0.35113954231326056, recall=0.4075123316810921, fmeasure=0.3672643398339053), high=Score(precision=0.41244883878244726, recall=0.4689980109061273, fmeasure=0.42371678272426616)), 'rouge2': AggregateScore(low=Score(precision=0.09823992525652299, recall=0.11216444113494832, fmeasure=0.10380584426623558), mid=Score(precision=0.14512595007111567, recall=0.16579685614731765, fmeasure=0.15062528939382377), high=Score(precision=0.193491124283362, recall=0.22457562749033919, fmeasure=0.20082803694914625)), 'rougeL': AggregateScore(low=Score(precision=0.22601199817695675, recall=0.2645609195470537, fmeasure=0.23915273689449798), mid=Score(precision=0.2755623393749853, recall=0.3173269610140057, fmeasure=0.2864544065385999), high=Score(precision=0.3349750429377851, recall=0.3780992302616889, fmeasure=0.3419915677854837)), 'rougeLsum': AggregateScore(low=Score(precision=0.22128708475787298, recall=0.26191353315949706, fmeasure=0.2341255117645387), mid=Score(precision=0.2776112289762264, recall=0.31858616096992326, fmeasure=0.2892583820725167), high=Score(precision=0.3374726702078794, recall=0.37677120886700416, fmeasure=0.3409079158389452))}\n",
      "rouge1 low: 0.30773864913656135\n",
      "rouge1 mid: 0.3672643398339053\n",
      "rouge1 high: 0.42371678272426616\n",
      "\n",
      "rouge2 low: 0.10380584426623558\n",
      "rouge2 mid: 0.15062528939382377\n",
      "rouge2 high: 0.20082803694914625\n",
      "\n",
      "rougeL low: 0.23915273689449798\n",
      "rougeL mid: 0.2864544065385999\n",
      "rougeL high: 0.3419915677854837\n",
      "\n"
     ]
    }
   ],
   "source": [
    "results = eval_metric.compute(predictions = summary_pred, references = summary_test[:len(summary_pred)])\n",
    "print(results)\n",
    "\n",
    "for key in [\"rouge1\", \"rouge2\", \"rougeL\"]:\n",
    "    print(key, \"low:\", results[key].low.fmeasure)\n",
    "    print(key, \"mid:\", results[key].mid.fmeasure)\n",
    "    print(key, \"high:\", results[key].high.fmeasure, end = \"\\n\\n\")"
   ]
  },
  {
   "cell_type": "code",
   "execution_count": 42,
   "id": "ae6b496e",
   "metadata": {
    "execution": {
     "iopub.execute_input": "2023-12-05T04:19:27.493438Z",
     "iopub.status.busy": "2023-12-05T04:19:27.492566Z",
     "iopub.status.idle": "2023-12-05T04:19:33.665024Z",
     "shell.execute_reply": "2023-12-05T04:19:33.663855Z"
    },
    "papermill": {
     "duration": 6.20475,
     "end_time": "2023-12-05T04:19:33.667682",
     "exception": false,
     "start_time": "2023-12-05T04:19:27.462932",
     "status": "completed"
    },
    "tags": []
   },
   "outputs": [],
   "source": [
    "rouge1 = []\n",
    "rouge2 = []\n",
    "rougeL = []\n",
    "\n",
    "for i in range(len(summary_pred)):\n",
    "    results = eval_metric.compute(predictions = [summary_pred[i]], references = [summary_test[i]])\n",
    "    for key in [\"rouge1\", \"rouge2\", \"rougeL\"]:\n",
    "        if key == \"rouge1\":\n",
    "            rouge1.append(results[key].mid.fmeasure)\n",
    "        elif key == \"rouge2\":\n",
    "            rouge2.append(results[key].mid.fmeasure)\n",
    "        else:\n",
    "            rougeL.append(results[key].mid.fmeasure)"
   ]
  },
  {
   "cell_type": "code",
   "execution_count": 43,
   "id": "e930b590",
   "metadata": {
    "execution": {
     "iopub.execute_input": "2023-12-05T04:19:33.726639Z",
     "iopub.status.busy": "2023-12-05T04:19:33.726220Z",
     "iopub.status.idle": "2023-12-05T04:19:33.746226Z",
     "shell.execute_reply": "2023-12-05T04:19:33.745125Z"
    },
    "papermill": {
     "duration": 0.052248,
     "end_time": "2023-12-05T04:19:33.748768",
     "exception": false,
     "start_time": "2023-12-05T04:19:33.696520",
     "status": "completed"
    },
    "tags": []
   },
   "outputs": [
    {
     "data": {
      "text/html": [
       "<div>\n",
       "<style scoped>\n",
       "    .dataframe tbody tr th:only-of-type {\n",
       "        vertical-align: middle;\n",
       "    }\n",
       "\n",
       "    .dataframe tbody tr th {\n",
       "        vertical-align: top;\n",
       "    }\n",
       "\n",
       "    .dataframe thead th {\n",
       "        text-align: right;\n",
       "    }\n",
       "</style>\n",
       "<table border=\"1\" class=\"dataframe\">\n",
       "  <thead>\n",
       "    <tr style=\"text-align: right;\">\n",
       "      <th></th>\n",
       "      <th>text</th>\n",
       "      <th>summary</th>\n",
       "      <th>summary_pred</th>\n",
       "      <th>rouge1</th>\n",
       "      <th>rouge2</th>\n",
       "      <th>rougeL</th>\n",
       "    </tr>\n",
       "  </thead>\n",
       "  <tbody>\n",
       "    <tr>\n",
       "      <th>0</th>\n",
       "      <td>i have been dating my girlfriend for about mon...</td>\n",
       "      <td>gf hangs out with a mutual friend who used to ...</td>\n",
       "      <td>my girlfriend hangs out with a girl who is a b...</td>\n",
       "      <td>0.366667</td>\n",
       "      <td>0.137931</td>\n",
       "      <td>0.266667</td>\n",
       "    </tr>\n",
       "    <tr>\n",
       "      <th>1</th>\n",
       "      <td>he is a classmate. he is never had a girlfrien...</td>\n",
       "      <td>i have been with guys and have been in abusive...</td>\n",
       "      <td>i am in love with a guy i have known for a lon...</td>\n",
       "      <td>0.200000</td>\n",
       "      <td>0.029412</td>\n",
       "      <td>0.142857</td>\n",
       "    </tr>\n",
       "    <tr>\n",
       "      <th>2</th>\n",
       "      <td>i need to some help. sometimes i feel like i c...</td>\n",
       "      <td>i maybe still in love with my abusive ex and i...</td>\n",
       "      <td>i am in a relationship with a strong minded ma...</td>\n",
       "      <td>0.469136</td>\n",
       "      <td>0.278481</td>\n",
       "      <td>0.246914</td>\n",
       "    </tr>\n",
       "    <tr>\n",
       "      <th>3</th>\n",
       "      <td>reddit i come to you for advice. below is a cl...</td>\n",
       "      <td>friend is in a bad relationship and keeps comi...</td>\n",
       "      <td>my best friend is in a toxic emotionally abusi...</td>\n",
       "      <td>0.428571</td>\n",
       "      <td>0.185185</td>\n",
       "      <td>0.357143</td>\n",
       "    </tr>\n",
       "    <tr>\n",
       "      <th>4</th>\n",
       "      <td>me m her f him m . i asked out my female best ...</td>\n",
       "      <td>want to tell my best friend that i am going ou...</td>\n",
       "      <td>how do i tell my best friend that i am dating ...</td>\n",
       "      <td>0.594595</td>\n",
       "      <td>0.457143</td>\n",
       "      <td>0.540541</td>\n",
       "    </tr>\n",
       "  </tbody>\n",
       "</table>\n",
       "</div>"
      ],
      "text/plain": [
       "                                                text  \\\n",
       "0  i have been dating my girlfriend for about mon...   \n",
       "1  he is a classmate. he is never had a girlfrien...   \n",
       "2  i need to some help. sometimes i feel like i c...   \n",
       "3  reddit i come to you for advice. below is a cl...   \n",
       "4  me m her f him m . i asked out my female best ...   \n",
       "\n",
       "                                             summary  \\\n",
       "0  gf hangs out with a mutual friend who used to ...   \n",
       "1  i have been with guys and have been in abusive...   \n",
       "2  i maybe still in love with my abusive ex and i...   \n",
       "3  friend is in a bad relationship and keeps comi...   \n",
       "4  want to tell my best friend that i am going ou...   \n",
       "\n",
       "                                        summary_pred    rouge1    rouge2  \\\n",
       "0  my girlfriend hangs out with a girl who is a b...  0.366667  0.137931   \n",
       "1  i am in love with a guy i have known for a lon...  0.200000  0.029412   \n",
       "2  i am in a relationship with a strong minded ma...  0.469136  0.278481   \n",
       "3  my best friend is in a toxic emotionally abusi...  0.428571  0.185185   \n",
       "4  how do i tell my best friend that i am dating ...  0.594595  0.457143   \n",
       "\n",
       "     rougeL  \n",
       "0  0.266667  \n",
       "1  0.142857  \n",
       "2  0.246914  \n",
       "3  0.357143  \n",
       "4  0.540541  "
      ]
     },
     "execution_count": 43,
     "metadata": {},
     "output_type": "execute_result"
    }
   ],
   "source": [
    "n = len(summary_pred)\n",
    "results_df = pd.DataFrame({\"text\": text_test[:n],\n",
    "                                 \"summary\": summary_test[:n],\n",
    "                                 \"summary_pred\": summary_pred[:n],\n",
    "                                 \"rouge1\": rouge1,\n",
    "                                 \"rouge2\": rouge2,\n",
    "                                 \"rougeL\": rougeL}\n",
    "                                 )\n",
    "\n",
    "results_df.head()"
   ]
  },
  {
   "cell_type": "code",
   "execution_count": 44,
   "id": "af7785fa",
   "metadata": {
    "execution": {
     "iopub.execute_input": "2023-12-05T04:19:33.809460Z",
     "iopub.status.busy": "2023-12-05T04:19:33.808758Z",
     "iopub.status.idle": "2023-12-05T04:19:33.826124Z",
     "shell.execute_reply": "2023-12-05T04:19:33.825049Z"
    },
    "papermill": {
     "duration": 0.048445,
     "end_time": "2023-12-05T04:19:33.828380",
     "exception": false,
     "start_time": "2023-12-05T04:19:33.779935",
     "status": "completed"
    },
    "tags": []
   },
   "outputs": [],
   "source": [
    "text = \"\"\"I 27F am vehemently childfree, I am sterilized and have no intention of having or caring for any child. I married my husband, 33M, last year and did not know he had any children until 5 days ago. I travel for work, work for myself, and have amazing pay for very few active working hours (I am a honeymoon planner, owning my own business); we have a joint account for bills and our own separate accounts for savings and fun money.\n",
    "\n",
    "My husband sat me down 5 days ago and told me he hadn't been completely honest with me. And revealed he has 2 children 10M and 7F. He pays regular child support, however, it dips into his fun money and he wants to be able to have fun like I am, so he said he would fight for 50/50 custody.\n",
    "\n",
    "I was furious he had lied to me and was even more angry when he told me he wanted 50/50. He works 12-16 hour shifts as a nurse and that would mean I would have to take care of the children when I'm not working or are working from home. I told him if he fights for custody, I will leave him. We have a prenup, so a divorce will be rather simple; I get 100% of my business, all of my savings and fun money, and the house, as I inherited it from my grandmother.\n",
    "\n",
    "He called me an asshole and told me I should step up so that he can have more money in his savings and for fun. And because the kids won't be much hassle due to their ages. So AITA for telling him I will divorce him if he goes through with filing for custody?\"\"\"\n",
    "\n",
    "text = text_cleaner(text)"
   ]
  },
  {
   "cell_type": "code",
   "execution_count": 45,
   "id": "dc165228",
   "metadata": {
    "execution": {
     "iopub.execute_input": "2023-12-05T04:19:33.885801Z",
     "iopub.status.busy": "2023-12-05T04:19:33.885144Z",
     "iopub.status.idle": "2023-12-05T04:19:34.494837Z",
     "shell.execute_reply": "2023-12-05T04:19:34.493773Z"
    },
    "papermill": {
     "duration": 0.641133,
     "end_time": "2023-12-05T04:19:34.497196",
     "exception": false,
     "start_time": "2023-12-05T04:19:33.856063",
     "status": "completed"
    },
    "tags": []
   },
   "outputs": [
    {
     "data": {
      "text/html": [
       "<table border=\"1\" class=\"dataframe\">\n",
       "  <thead>\n",
       "    <tr style=\"text-align: right;\">\n",
       "      <th></th>\n",
       "      <th>text</th>\n",
       "      <th>summary</th>\n",
       "    </tr>\n",
       "  </thead>\n",
       "  <tbody>\n",
       "    <tr>\n",
       "      <th>0</th>\n",
       "      <td>i f am vehemently childfree i am sterilized and have no intention of having or caring for any child. i married my husband m last year and did not know he had any children until days ago. i travel for work work for myself and have amazing pay for very few active working hours we have a joint account for bills and our own separate accounts for savings and fun money. my husband sat me down days ago and told me he had not been completely honest with me. and revealed he has children m and f. he pays regular child support however it dips into his fun money and he wants to be able to have fun like i am so he said he would fight for custody. i was furious he had lied to me and was even more angry when he told me he wanted . he works hour shifts as a nurse and that would mean i would have to take care of the children when i am not working or are working from home. i told him if he fights for custody i will leave him. we have a prenup so a divorce will be rather simple i get of my business all of my savings and fun money and the house as i inherited it from my grandmother. he called me an asshole and told me i should step up so that he can have more money in his savings and for fun. and because the kids will not be much hassle due to their ages. so aita for telling him i will divorce him if he goes through with filing for custody</td>\n",
       "      <td>husband has children and wants to fight for custody. i will divorce him if he goes through with it.</td>\n",
       "    </tr>\n",
       "  </tbody>\n",
       "</table>"
      ],
      "text/plain": [
       "<IPython.core.display.HTML object>"
      ]
     },
     "metadata": {},
     "output_type": "display_data"
    }
   ],
   "source": [
    "generate_summary(finetuned_summarizer, text)"
   ]
  },
  {
   "cell_type": "code",
   "execution_count": 46,
   "id": "65dd5661",
   "metadata": {
    "execution": {
     "iopub.execute_input": "2023-12-05T04:19:34.554622Z",
     "iopub.status.busy": "2023-12-05T04:19:34.553833Z",
     "iopub.status.idle": "2023-12-05T04:19:35.463442Z",
     "shell.execute_reply": "2023-12-05T04:19:35.462357Z"
    },
    "papermill": {
     "duration": 0.940939,
     "end_time": "2023-12-05T04:19:35.465711",
     "exception": false,
     "start_time": "2023-12-05T04:19:34.524772",
     "status": "completed"
    },
    "tags": []
   },
   "outputs": [
    {
     "data": {
      "text/html": [
       "<table border=\"1\" class=\"dataframe\">\n",
       "  <thead>\n",
       "    <tr style=\"text-align: right;\">\n",
       "      <th></th>\n",
       "      <th>text</th>\n",
       "      <th>summary</th>\n",
       "    </tr>\n",
       "  </thead>\n",
       "  <tbody>\n",
       "    <tr>\n",
       "      <th>0</th>\n",
       "      <td>i normally do not let things get to me but i am obsessing over minor issues today first the gas station with free air started charging for air. then the dog failed to greet me when i got home. and bobfromaccounting.com has apparently departed the internet. the gas station and i have an understanding i pay the cents more for gas on my debit card and i do not have to keep quarters stocked for the air machine. and yeah it is more of a tacit agreement than what you call a contract but dammit we had a deal. the dog is supposed to be jumping up and down in the window as i drive up making high pitched doggy squeals as i put my key in the lock barely able to contain herself as she waits for me to stash my purse and laptop before greeting her. after years she is getting a little old for the happy dance but dozing on the bed finally after a conversation with my sister i was reminded of something i once read and went to the site to send her a link only to discover the site is gone. wtf internet you may not be permanent but i always thought i could count on you to be redundant. i was confident a quick search would find a cache a mirror a plagiarized ripoff. something anything if it exists my google goggles are too clouded to find it today. none of these is anything that matters. truly a roll of quarters a milk bone and a shrug are all that i really need. so why am i still thinking about these things</td>\n",
       "      <td>bobfromaccounting.com has apparently departed the internet. the gas station with free air started charging for air. the dog failed to greet me when i got home.</td>\n",
       "    </tr>\n",
       "  </tbody>\n",
       "</table>"
      ],
      "text/plain": [
       "<IPython.core.display.HTML object>"
      ]
     },
     "metadata": {},
     "output_type": "display_data"
    }
   ],
   "source": [
    "generate_summary(finetuned_summarizer, train_df[1:2].text.tolist())"
   ]
  },
  {
   "cell_type": "code",
   "execution_count": 47,
   "id": "91764e7c",
   "metadata": {
    "execution": {
     "iopub.execute_input": "2023-12-05T04:19:35.523573Z",
     "iopub.status.busy": "2023-12-05T04:19:35.523175Z",
     "iopub.status.idle": "2023-12-05T04:19:35.530036Z",
     "shell.execute_reply": "2023-12-05T04:19:35.529011Z"
    },
    "papermill": {
     "duration": 0.038396,
     "end_time": "2023-12-05T04:19:35.532192",
     "exception": false,
     "start_time": "2023-12-05T04:19:35.493796",
     "status": "completed"
    },
    "tags": []
   },
   "outputs": [
    {
     "data": {
      "text/plain": [
       "'gf hangs out with a mutual friend who used to have a crush on her. i am upset that she hangs out with this girl.'"
      ]
     },
     "execution_count": 47,
     "metadata": {},
     "output_type": "execute_result"
    }
   ],
   "source": [
    "results_df['summary'][0]"
   ]
  },
  {
   "cell_type": "code",
   "execution_count": 48,
   "id": "85be3d13",
   "metadata": {
    "execution": {
     "iopub.execute_input": "2023-12-05T04:19:35.590501Z",
     "iopub.status.busy": "2023-12-05T04:19:35.589790Z",
     "iopub.status.idle": "2023-12-05T04:19:35.596715Z",
     "shell.execute_reply": "2023-12-05T04:19:35.595686Z"
    },
    "papermill": {
     "duration": 0.038963,
     "end_time": "2023-12-05T04:19:35.599044",
     "exception": false,
     "start_time": "2023-12-05T04:19:35.560081",
     "status": "completed"
    },
    "tags": []
   },
   "outputs": [
    {
     "data": {
      "text/plain": [
       "'my girlfriend hangs out with a girl who is a bitch and i feel like i cannot even go into the same room with her because of her. i do not know what to do.'"
      ]
     },
     "execution_count": 48,
     "metadata": {},
     "output_type": "execute_result"
    }
   ],
   "source": [
    "results_df['summary_pred'][0]"
   ]
  }
 ],
 "metadata": {
  "kaggle": {
   "accelerator": "nvidiaTeslaT4",
   "dataSources": [
    {
     "datasetId": 4033356,
     "sourceId": 7015112,
     "sourceType": "datasetVersion"
    },
    {
     "datasetId": 4092880,
     "sourceId": 7100284,
     "sourceType": "datasetVersion"
    }
   ],
   "dockerImageVersionId": 30588,
   "isGpuEnabled": true,
   "isInternetEnabled": true,
   "language": "python",
   "sourceType": "notebook"
  },
  "kernelspec": {
   "display_name": "Python 3",
   "language": "python",
   "name": "python3"
  },
  "language_info": {
   "codemirror_mode": {
    "name": "ipython",
    "version": 3
   },
   "file_extension": ".py",
   "mimetype": "text/x-python",
   "name": "python",
   "nbconvert_exporter": "python",
   "pygments_lexer": "ipython3",
   "version": "3.10.12"
  },
  "papermill": {
   "default_parameters": {},
   "duration": 15599.163892,
   "end_time": "2023-12-05T04:19:38.790176",
   "environment_variables": {},
   "exception": null,
   "input_path": "__notebook__.ipynb",
   "output_path": "__notebook__.ipynb",
   "parameters": {},
   "start_time": "2023-12-04T23:59:39.626284",
   "version": "2.4.0"
  },
  "widgets": {
   "application/vnd.jupyter.widget-state+json": {
    "state": {
     "0129e61e103b494ebaa7db3e1d1152f5": {
      "model_module": "@jupyter-widgets/controls",
      "model_module_version": "1.5.0",
      "model_name": "DescriptionStyleModel",
      "state": {
       "_model_module": "@jupyter-widgets/controls",
       "_model_module_version": "1.5.0",
       "_model_name": "DescriptionStyleModel",
       "_view_count": null,
       "_view_module": "@jupyter-widgets/base",
       "_view_module_version": "1.2.0",
       "_view_name": "StyleView",
       "description_width": ""
      }
     },
     "0289faa7401543f4a6a1f5a1ef981764": {
      "model_module": "@jupyter-widgets/controls",
      "model_module_version": "1.5.0",
      "model_name": "DescriptionStyleModel",
      "state": {
       "_model_module": "@jupyter-widgets/controls",
       "_model_module_version": "1.5.0",
       "_model_name": "DescriptionStyleModel",
       "_view_count": null,
       "_view_module": "@jupyter-widgets/base",
       "_view_module_version": "1.2.0",
       "_view_name": "StyleView",
       "description_width": ""
      }
     },
     "036e75d7aa184431a9488c3f887d7490": {
      "model_module": "@jupyter-widgets/controls",
      "model_module_version": "1.5.0",
      "model_name": "HTMLModel",
      "state": {
       "_dom_classes": [],
       "_model_module": "@jupyter-widgets/controls",
       "_model_module_version": "1.5.0",
       "_model_name": "HTMLModel",
       "_view_count": null,
       "_view_module": "@jupyter-widgets/controls",
       "_view_module_version": "1.5.0",
       "_view_name": "HTMLView",
       "description": "",
       "description_tooltip": null,
       "layout": "IPY_MODEL_a04540f924294690904fc28a6eb8f321",
       "placeholder": "​",
       "style": "IPY_MODEL_e59a909fb9314f1bbd78751e453e9e38",
       "value": "100%"
      }
     },
     "05537a2fc1644db4839c8a86a8971c70": {
      "model_module": "@jupyter-widgets/controls",
      "model_module_version": "1.5.0",
      "model_name": "FloatProgressModel",
      "state": {
       "_dom_classes": [],
       "_model_module": "@jupyter-widgets/controls",
       "_model_module_version": "1.5.0",
       "_model_name": "FloatProgressModel",
       "_view_count": null,
       "_view_module": "@jupyter-widgets/controls",
       "_view_module_version": "1.5.0",
       "_view_name": "ProgressView",
       "bar_style": "success",
       "description": "",
       "description_tooltip": null,
       "layout": "IPY_MODEL_c0225f2014fb49a4ab17c0cf534fc1da",
       "max": 456318,
       "min": 0,
       "orientation": "horizontal",
       "style": "IPY_MODEL_f311937534c5428ca01ac64a6f171efc",
       "value": 456318
      }
     },
     "06d70754cb524d448c915e0282517f79": {
      "model_module": "@jupyter-widgets/controls",
      "model_module_version": "1.5.0",
      "model_name": "ProgressStyleModel",
      "state": {
       "_model_module": "@jupyter-widgets/controls",
       "_model_module_version": "1.5.0",
       "_model_name": "ProgressStyleModel",
       "_view_count": null,
       "_view_module": "@jupyter-widgets/base",
       "_view_module_version": "1.2.0",
       "_view_name": "StyleView",
       "bar_color": null,
       "description_width": ""
      }
     },
     "0d6fd8cfc6cc4cb89dbb4ae1bc16bfd6": {
      "model_module": "@jupyter-widgets/base",
      "model_module_version": "1.2.0",
      "model_name": "LayoutModel",
      "state": {
       "_model_module": "@jupyter-widgets/base",
       "_model_module_version": "1.2.0",
       "_model_name": "LayoutModel",
       "_view_count": null,
       "_view_module": "@jupyter-widgets/base",
       "_view_module_version": "1.2.0",
       "_view_name": "LayoutView",
       "align_content": null,
       "align_items": null,
       "align_self": null,
       "border": null,
       "bottom": null,
       "display": null,
       "flex": null,
       "flex_flow": null,
       "grid_area": null,
       "grid_auto_columns": null,
       "grid_auto_flow": null,
       "grid_auto_rows": null,
       "grid_column": null,
       "grid_gap": null,
       "grid_row": null,
       "grid_template_areas": null,
       "grid_template_columns": null,
       "grid_template_rows": null,
       "height": null,
       "justify_content": null,
       "justify_items": null,
       "left": null,
       "margin": null,
       "max_height": null,
       "max_width": null,
       "min_height": null,
       "min_width": null,
       "object_fit": null,
       "object_position": null,
       "order": null,
       "overflow": null,
       "overflow_x": null,
       "overflow_y": null,
       "padding": null,
       "right": null,
       "top": null,
       "visibility": null,
       "width": null
      }
     },
     "0f4de40f8ae44f2fa7697a8d02d202ce": {
      "model_module": "@jupyter-widgets/base",
      "model_module_version": "1.2.0",
      "model_name": "LayoutModel",
      "state": {
       "_model_module": "@jupyter-widgets/base",
       "_model_module_version": "1.2.0",
       "_model_name": "LayoutModel",
       "_view_count": null,
       "_view_module": "@jupyter-widgets/base",
       "_view_module_version": "1.2.0",
       "_view_name": "LayoutView",
       "align_content": null,
       "align_items": null,
       "align_self": null,
       "border": null,
       "bottom": null,
       "display": null,
       "flex": null,
       "flex_flow": null,
       "grid_area": null,
       "grid_auto_columns": null,
       "grid_auto_flow": null,
       "grid_auto_rows": null,
       "grid_column": null,
       "grid_gap": null,
       "grid_row": null,
       "grid_template_areas": null,
       "grid_template_columns": null,
       "grid_template_rows": null,
       "height": null,
       "justify_content": null,
       "justify_items": null,
       "left": null,
       "margin": null,
       "max_height": null,
       "max_width": null,
       "min_height": null,
       "min_width": null,
       "object_fit": null,
       "object_position": null,
       "order": null,
       "overflow": null,
       "overflow_x": null,
       "overflow_y": null,
       "padding": null,
       "right": null,
       "top": null,
       "visibility": null,
       "width": null
      }
     },
     "107d263494ec4733b1df170baa2d53a1": {
      "model_module": "@jupyter-widgets/controls",
      "model_module_version": "1.5.0",
      "model_name": "HTMLModel",
      "state": {
       "_dom_classes": [],
       "_model_module": "@jupyter-widgets/controls",
       "_model_module_version": "1.5.0",
       "_model_name": "HTMLModel",
       "_view_count": null,
       "_view_module": "@jupyter-widgets/controls",
       "_view_module_version": "1.5.0",
       "_view_name": "HTMLView",
       "description": "",
       "description_tooltip": null,
       "layout": "IPY_MODEL_91bb4ac559a042188ae42ab7adeae37b",
       "placeholder": "​",
       "style": "IPY_MODEL_188465bd8fa64478a671173484ca396a",
       "value": "Downloading merges.txt: 100%"
      }
     },
     "141ded3daff24a5591a63161b7814541": {
      "model_module": "@jupyter-widgets/base",
      "model_module_version": "1.2.0",
      "model_name": "LayoutModel",
      "state": {
       "_model_module": "@jupyter-widgets/base",
       "_model_module_version": "1.2.0",
       "_model_name": "LayoutModel",
       "_view_count": null,
       "_view_module": "@jupyter-widgets/base",
       "_view_module_version": "1.2.0",
       "_view_name": "LayoutView",
       "align_content": null,
       "align_items": null,
       "align_self": null,
       "border": null,
       "bottom": null,
       "display": null,
       "flex": null,
       "flex_flow": null,
       "grid_area": null,
       "grid_auto_columns": null,
       "grid_auto_flow": null,
       "grid_auto_rows": null,
       "grid_column": null,
       "grid_gap": null,
       "grid_row": null,
       "grid_template_areas": null,
       "grid_template_columns": null,
       "grid_template_rows": null,
       "height": null,
       "justify_content": null,
       "justify_items": null,
       "left": null,
       "margin": null,
       "max_height": null,
       "max_width": null,
       "min_height": null,
       "min_width": null,
       "object_fit": null,
       "object_position": null,
       "order": null,
       "overflow": null,
       "overflow_x": null,
       "overflow_y": null,
       "padding": null,
       "right": null,
       "top": null,
       "visibility": null,
       "width": null
      }
     },
     "156132d1ef2146db91fd9595b010057e": {
      "model_module": "@jupyter-widgets/base",
      "model_module_version": "1.2.0",
      "model_name": "LayoutModel",
      "state": {
       "_model_module": "@jupyter-widgets/base",
       "_model_module_version": "1.2.0",
       "_model_name": "LayoutModel",
       "_view_count": null,
       "_view_module": "@jupyter-widgets/base",
       "_view_module_version": "1.2.0",
       "_view_name": "LayoutView",
       "align_content": null,
       "align_items": null,
       "align_self": null,
       "border": null,
       "bottom": null,
       "display": null,
       "flex": null,
       "flex_flow": null,
       "grid_area": null,
       "grid_auto_columns": null,
       "grid_auto_flow": null,
       "grid_auto_rows": null,
       "grid_column": null,
       "grid_gap": null,
       "grid_row": null,
       "grid_template_areas": null,
       "grid_template_columns": null,
       "grid_template_rows": null,
       "height": null,
       "justify_content": null,
       "justify_items": null,
       "left": null,
       "margin": null,
       "max_height": null,
       "max_width": null,
       "min_height": null,
       "min_width": null,
       "object_fit": null,
       "object_position": null,
       "order": null,
       "overflow": null,
       "overflow_x": null,
       "overflow_y": null,
       "padding": null,
       "right": null,
       "top": null,
       "visibility": null,
       "width": null
      }
     },
     "188465bd8fa64478a671173484ca396a": {
      "model_module": "@jupyter-widgets/controls",
      "model_module_version": "1.5.0",
      "model_name": "DescriptionStyleModel",
      "state": {
       "_model_module": "@jupyter-widgets/controls",
       "_model_module_version": "1.5.0",
       "_model_name": "DescriptionStyleModel",
       "_view_count": null,
       "_view_module": "@jupyter-widgets/base",
       "_view_module_version": "1.2.0",
       "_view_name": "StyleView",
       "description_width": ""
      }
     },
     "18e52b74661947369c056d2d15d1f23e": {
      "model_module": "@jupyter-widgets/base",
      "model_module_version": "1.2.0",
      "model_name": "LayoutModel",
      "state": {
       "_model_module": "@jupyter-widgets/base",
       "_model_module_version": "1.2.0",
       "_model_name": "LayoutModel",
       "_view_count": null,
       "_view_module": "@jupyter-widgets/base",
       "_view_module_version": "1.2.0",
       "_view_name": "LayoutView",
       "align_content": null,
       "align_items": null,
       "align_self": null,
       "border": null,
       "bottom": null,
       "display": null,
       "flex": null,
       "flex_flow": null,
       "grid_area": null,
       "grid_auto_columns": null,
       "grid_auto_flow": null,
       "grid_auto_rows": null,
       "grid_column": null,
       "grid_gap": null,
       "grid_row": null,
       "grid_template_areas": null,
       "grid_template_columns": null,
       "grid_template_rows": null,
       "height": null,
       "justify_content": null,
       "justify_items": null,
       "left": null,
       "margin": null,
       "max_height": null,
       "max_width": null,
       "min_height": null,
       "min_width": null,
       "object_fit": null,
       "object_position": null,
       "order": null,
       "overflow": null,
       "overflow_x": null,
       "overflow_y": null,
       "padding": null,
       "right": null,
       "top": null,
       "visibility": null,
       "width": null
      }
     },
     "192be0ac9bda4fbfbf9fb8bd4577cb4c": {
      "model_module": "@jupyter-widgets/controls",
      "model_module_version": "1.5.0",
      "model_name": "FloatProgressModel",
      "state": {
       "_dom_classes": [],
       "_model_module": "@jupyter-widgets/controls",
       "_model_module_version": "1.5.0",
       "_model_name": "FloatProgressModel",
       "_view_count": null,
       "_view_module": "@jupyter-widgets/controls",
       "_view_module_version": "1.5.0",
       "_view_name": "ProgressView",
       "bar_style": "success",
       "description": "",
       "description_tooltip": null,
       "layout": "IPY_MODEL_a66ed8b76a454e40bd16a2a6ac5e2e16",
       "max": 1355863,
       "min": 0,
       "orientation": "horizontal",
       "style": "IPY_MODEL_4b2447a0f85443a4a111a30fbce18139",
       "value": 1355863
      }
     },
     "1f234c31749e42d0a6b09cd8a624a4ad": {
      "model_module": "@jupyter-widgets/base",
      "model_module_version": "1.2.0",
      "model_name": "LayoutModel",
      "state": {
       "_model_module": "@jupyter-widgets/base",
       "_model_module_version": "1.2.0",
       "_model_name": "LayoutModel",
       "_view_count": null,
       "_view_module": "@jupyter-widgets/base",
       "_view_module_version": "1.2.0",
       "_view_name": "LayoutView",
       "align_content": null,
       "align_items": null,
       "align_self": null,
       "border": null,
       "bottom": null,
       "display": null,
       "flex": null,
       "flex_flow": null,
       "grid_area": null,
       "grid_auto_columns": null,
       "grid_auto_flow": null,
       "grid_auto_rows": null,
       "grid_column": null,
       "grid_gap": null,
       "grid_row": null,
       "grid_template_areas": null,
       "grid_template_columns": null,
       "grid_template_rows": null,
       "height": null,
       "justify_content": null,
       "justify_items": null,
       "left": null,
       "margin": null,
       "max_height": null,
       "max_width": null,
       "min_height": null,
       "min_width": null,
       "object_fit": null,
       "object_position": null,
       "order": null,
       "overflow": null,
       "overflow_x": null,
       "overflow_y": null,
       "padding": null,
       "right": null,
       "top": null,
       "visibility": null,
       "width": null
      }
     },
     "208eff380f484f2c820f0550d094c4ab": {
      "model_module": "@jupyter-widgets/controls",
      "model_module_version": "1.5.0",
      "model_name": "HTMLModel",
      "state": {
       "_dom_classes": [],
       "_model_module": "@jupyter-widgets/controls",
       "_model_module_version": "1.5.0",
       "_model_name": "HTMLModel",
       "_view_count": null,
       "_view_module": "@jupyter-widgets/controls",
       "_view_module_version": "1.5.0",
       "_view_name": "HTMLView",
       "description": "",
       "description_tooltip": null,
       "layout": "IPY_MODEL_c8c4bc4992484c88b3c4fc40108f0ab2",
       "placeholder": "​",
       "style": "IPY_MODEL_fd1dff3ba10f4e9f90b3ea35464f5e9a",
       "value": " 17/17 [00:08&lt;00:00,  2.18ba/s]"
      }
     },
     "21b62b53e3dc48a286820850867c3fb6": {
      "model_module": "@jupyter-widgets/controls",
      "model_module_version": "1.5.0",
      "model_name": "ProgressStyleModel",
      "state": {
       "_model_module": "@jupyter-widgets/controls",
       "_model_module_version": "1.5.0",
       "_model_name": "ProgressStyleModel",
       "_view_count": null,
       "_view_module": "@jupyter-widgets/base",
       "_view_module_version": "1.2.0",
       "_view_name": "StyleView",
       "bar_color": null,
       "description_width": ""
      }
     },
     "25511b355da347beac5f111a4bf903f6": {
      "model_module": "@jupyter-widgets/base",
      "model_module_version": "1.2.0",
      "model_name": "LayoutModel",
      "state": {
       "_model_module": "@jupyter-widgets/base",
       "_model_module_version": "1.2.0",
       "_model_name": "LayoutModel",
       "_view_count": null,
       "_view_module": "@jupyter-widgets/base",
       "_view_module_version": "1.2.0",
       "_view_name": "LayoutView",
       "align_content": null,
       "align_items": null,
       "align_self": null,
       "border": null,
       "bottom": null,
       "display": null,
       "flex": null,
       "flex_flow": null,
       "grid_area": null,
       "grid_auto_columns": null,
       "grid_auto_flow": null,
       "grid_auto_rows": null,
       "grid_column": null,
       "grid_gap": null,
       "grid_row": null,
       "grid_template_areas": null,
       "grid_template_columns": null,
       "grid_template_rows": null,
       "height": null,
       "justify_content": null,
       "justify_items": null,
       "left": null,
       "margin": null,
       "max_height": null,
       "max_width": null,
       "min_height": null,
       "min_width": null,
       "object_fit": null,
       "object_position": null,
       "order": null,
       "overflow": null,
       "overflow_x": null,
       "overflow_y": null,
       "padding": null,
       "right": null,
       "top": null,
       "visibility": null,
       "width": null
      }
     },
     "2dc8d54d479f4ff9b8e93d8c585fb819": {
      "model_module": "@jupyter-widgets/controls",
      "model_module_version": "1.5.0",
      "model_name": "HTMLModel",
      "state": {
       "_dom_classes": [],
       "_model_module": "@jupyter-widgets/controls",
       "_model_module_version": "1.5.0",
       "_model_name": "HTMLModel",
       "_view_count": null,
       "_view_module": "@jupyter-widgets/controls",
       "_view_module_version": "1.5.0",
       "_view_name": "HTMLView",
       "description": "",
       "description_tooltip": null,
       "layout": "IPY_MODEL_aed29ee7e80d417fa63fa80376abb75c",
       "placeholder": "​",
       "style": "IPY_MODEL_e2c67fbec4a947d2b60dd168a7568892",
       "value": " 899k/899k [00:00&lt;00:00, 6.44MB/s]"
      }
     },
     "31ec5176da0040599d6baf5c518a02e3": {
      "model_module": "@jupyter-widgets/controls",
      "model_module_version": "1.5.0",
      "model_name": "DescriptionStyleModel",
      "state": {
       "_model_module": "@jupyter-widgets/controls",
       "_model_module_version": "1.5.0",
       "_model_name": "DescriptionStyleModel",
       "_view_count": null,
       "_view_module": "@jupyter-widgets/base",
       "_view_module_version": "1.2.0",
       "_view_name": "StyleView",
       "description_width": ""
      }
     },
     "39d86ab1560c4facb8b003ca3eff7bb7": {
      "model_module": "@jupyter-widgets/base",
      "model_module_version": "1.2.0",
      "model_name": "LayoutModel",
      "state": {
       "_model_module": "@jupyter-widgets/base",
       "_model_module_version": "1.2.0",
       "_model_name": "LayoutModel",
       "_view_count": null,
       "_view_module": "@jupyter-widgets/base",
       "_view_module_version": "1.2.0",
       "_view_name": "LayoutView",
       "align_content": null,
       "align_items": null,
       "align_self": null,
       "border": null,
       "bottom": null,
       "display": null,
       "flex": null,
       "flex_flow": null,
       "grid_area": null,
       "grid_auto_columns": null,
       "grid_auto_flow": null,
       "grid_auto_rows": null,
       "grid_column": null,
       "grid_gap": null,
       "grid_row": null,
       "grid_template_areas": null,
       "grid_template_columns": null,
       "grid_template_rows": null,
       "height": null,
       "justify_content": null,
       "justify_items": null,
       "left": null,
       "margin": null,
       "max_height": null,
       "max_width": null,
       "min_height": null,
       "min_width": null,
       "object_fit": null,
       "object_position": null,
       "order": null,
       "overflow": null,
       "overflow_x": null,
       "overflow_y": null,
       "padding": null,
       "right": null,
       "top": null,
       "visibility": null,
       "width": null
      }
     },
     "3eb36c6805764d12890ccb3cb44d0bb0": {
      "model_module": "@jupyter-widgets/controls",
      "model_module_version": "1.5.0",
      "model_name": "DescriptionStyleModel",
      "state": {
       "_model_module": "@jupyter-widgets/controls",
       "_model_module_version": "1.5.0",
       "_model_name": "DescriptionStyleModel",
       "_view_count": null,
       "_view_module": "@jupyter-widgets/base",
       "_view_module_version": "1.2.0",
       "_view_name": "StyleView",
       "description_width": ""
      }
     },
     "3f2bf51af04a4ad7a3b15d18c572df2b": {
      "model_module": "@jupyter-widgets/base",
      "model_module_version": "1.2.0",
      "model_name": "LayoutModel",
      "state": {
       "_model_module": "@jupyter-widgets/base",
       "_model_module_version": "1.2.0",
       "_model_name": "LayoutModel",
       "_view_count": null,
       "_view_module": "@jupyter-widgets/base",
       "_view_module_version": "1.2.0",
       "_view_name": "LayoutView",
       "align_content": null,
       "align_items": null,
       "align_self": null,
       "border": null,
       "bottom": null,
       "display": null,
       "flex": null,
       "flex_flow": null,
       "grid_area": null,
       "grid_auto_columns": null,
       "grid_auto_flow": null,
       "grid_auto_rows": null,
       "grid_column": null,
       "grid_gap": null,
       "grid_row": null,
       "grid_template_areas": null,
       "grid_template_columns": null,
       "grid_template_rows": null,
       "height": null,
       "justify_content": null,
       "justify_items": null,
       "left": null,
       "margin": null,
       "max_height": null,
       "max_width": null,
       "min_height": null,
       "min_width": null,
       "object_fit": null,
       "object_position": null,
       "order": null,
       "overflow": null,
       "overflow_x": null,
       "overflow_y": null,
       "padding": null,
       "right": null,
       "top": null,
       "visibility": null,
       "width": null
      }
     },
     "42e47a069cf143378fe60432388916e8": {
      "model_module": "@jupyter-widgets/controls",
      "model_module_version": "1.5.0",
      "model_name": "DescriptionStyleModel",
      "state": {
       "_model_module": "@jupyter-widgets/controls",
       "_model_module_version": "1.5.0",
       "_model_name": "DescriptionStyleModel",
       "_view_count": null,
       "_view_module": "@jupyter-widgets/base",
       "_view_module_version": "1.2.0",
       "_view_name": "StyleView",
       "description_width": ""
      }
     },
     "436f1fe687b848b99a3ce2157a704c37": {
      "model_module": "@jupyter-widgets/base",
      "model_module_version": "1.2.0",
      "model_name": "LayoutModel",
      "state": {
       "_model_module": "@jupyter-widgets/base",
       "_model_module_version": "1.2.0",
       "_model_name": "LayoutModel",
       "_view_count": null,
       "_view_module": "@jupyter-widgets/base",
       "_view_module_version": "1.2.0",
       "_view_name": "LayoutView",
       "align_content": null,
       "align_items": null,
       "align_self": null,
       "border": null,
       "bottom": null,
       "display": null,
       "flex": null,
       "flex_flow": null,
       "grid_area": null,
       "grid_auto_columns": null,
       "grid_auto_flow": null,
       "grid_auto_rows": null,
       "grid_column": null,
       "grid_gap": null,
       "grid_row": null,
       "grid_template_areas": null,
       "grid_template_columns": null,
       "grid_template_rows": null,
       "height": null,
       "justify_content": null,
       "justify_items": null,
       "left": null,
       "margin": null,
       "max_height": null,
       "max_width": null,
       "min_height": null,
       "min_width": null,
       "object_fit": null,
       "object_position": null,
       "order": null,
       "overflow": null,
       "overflow_x": null,
       "overflow_y": null,
       "padding": null,
       "right": null,
       "top": null,
       "visibility": null,
       "width": null
      }
     },
     "458c353c599d4e3ab7b4cdcbc20f0f2c": {
      "model_module": "@jupyter-widgets/controls",
      "model_module_version": "1.5.0",
      "model_name": "ProgressStyleModel",
      "state": {
       "_model_module": "@jupyter-widgets/controls",
       "_model_module_version": "1.5.0",
       "_model_name": "ProgressStyleModel",
       "_view_count": null,
       "_view_module": "@jupyter-widgets/base",
       "_view_module_version": "1.2.0",
       "_view_name": "StyleView",
       "bar_color": null,
       "description_width": ""
      }
     },
     "4608879c72f94e2fad40fb9933aec237": {
      "model_module": "@jupyter-widgets/base",
      "model_module_version": "1.2.0",
      "model_name": "LayoutModel",
      "state": {
       "_model_module": "@jupyter-widgets/base",
       "_model_module_version": "1.2.0",
       "_model_name": "LayoutModel",
       "_view_count": null,
       "_view_module": "@jupyter-widgets/base",
       "_view_module_version": "1.2.0",
       "_view_name": "LayoutView",
       "align_content": null,
       "align_items": null,
       "align_self": null,
       "border": null,
       "bottom": null,
       "display": null,
       "flex": null,
       "flex_flow": null,
       "grid_area": null,
       "grid_auto_columns": null,
       "grid_auto_flow": null,
       "grid_auto_rows": null,
       "grid_column": null,
       "grid_gap": null,
       "grid_row": null,
       "grid_template_areas": null,
       "grid_template_columns": null,
       "grid_template_rows": null,
       "height": null,
       "justify_content": null,
       "justify_items": null,
       "left": null,
       "margin": null,
       "max_height": null,
       "max_width": null,
       "min_height": null,
       "min_width": null,
       "object_fit": null,
       "object_position": null,
       "order": null,
       "overflow": null,
       "overflow_x": null,
       "overflow_y": null,
       "padding": null,
       "right": null,
       "top": null,
       "visibility": null,
       "width": null
      }
     },
     "4b2447a0f85443a4a111a30fbce18139": {
      "model_module": "@jupyter-widgets/controls",
      "model_module_version": "1.5.0",
      "model_name": "ProgressStyleModel",
      "state": {
       "_model_module": "@jupyter-widgets/controls",
       "_model_module_version": "1.5.0",
       "_model_name": "ProgressStyleModel",
       "_view_count": null,
       "_view_module": "@jupyter-widgets/base",
       "_view_module_version": "1.2.0",
       "_view_name": "StyleView",
       "bar_color": null,
       "description_width": ""
      }
     },
     "4d63ee38b9744c958fe86795bae82c56": {
      "model_module": "@jupyter-widgets/controls",
      "model_module_version": "1.5.0",
      "model_name": "HBoxModel",
      "state": {
       "_dom_classes": [],
       "_model_module": "@jupyter-widgets/controls",
       "_model_module_version": "1.5.0",
       "_model_name": "HBoxModel",
       "_view_count": null,
       "_view_module": "@jupyter-widgets/controls",
       "_view_module_version": "1.5.0",
       "_view_name": "HBoxView",
       "box_style": "",
       "children": [
        "IPY_MODEL_8e01e60eafca46078f705859718312ee",
        "IPY_MODEL_51a64fe5ff4141229c8b22421013e8ff",
        "IPY_MODEL_2dc8d54d479f4ff9b8e93d8c585fb819"
       ],
       "layout": "IPY_MODEL_39d86ab1560c4facb8b003ca3eff7bb7"
      }
     },
     "4fee7bfd0de149ee8650c0603b8c8b57": {
      "model_module": "@jupyter-widgets/controls",
      "model_module_version": "1.5.0",
      "model_name": "HBoxModel",
      "state": {
       "_dom_classes": [],
       "_model_module": "@jupyter-widgets/controls",
       "_model_module_version": "1.5.0",
       "_model_name": "HBoxModel",
       "_view_count": null,
       "_view_module": "@jupyter-widgets/controls",
       "_view_module_version": "1.5.0",
       "_view_name": "HBoxView",
       "box_style": "",
       "children": [
        "IPY_MODEL_be31fd5b67784e7cbbd9d02e68656783",
        "IPY_MODEL_8747da2acbfd45298d264e916401fd45",
        "IPY_MODEL_ebefa6d9947d46bb8841e3b13ef1fee0"
       ],
       "layout": "IPY_MODEL_141ded3daff24a5591a63161b7814541"
      }
     },
     "51a64fe5ff4141229c8b22421013e8ff": {
      "model_module": "@jupyter-widgets/controls",
      "model_module_version": "1.5.0",
      "model_name": "FloatProgressModel",
      "state": {
       "_dom_classes": [],
       "_model_module": "@jupyter-widgets/controls",
       "_model_module_version": "1.5.0",
       "_model_name": "FloatProgressModel",
       "_view_count": null,
       "_view_module": "@jupyter-widgets/controls",
       "_view_module_version": "1.5.0",
       "_view_name": "ProgressView",
       "bar_style": "success",
       "description": "",
       "description_tooltip": null,
       "layout": "IPY_MODEL_7a48b09078d348dcbc5f8413b9ba2204",
       "max": 898823,
       "min": 0,
       "orientation": "horizontal",
       "style": "IPY_MODEL_f3ba660a1ded403c9f35c41766e6e85c",
       "value": 898823
      }
     },
     "567480ab21b04d0385b779c9c76d1f6b": {
      "model_module": "@jupyter-widgets/controls",
      "model_module_version": "1.5.0",
      "model_name": "ProgressStyleModel",
      "state": {
       "_model_module": "@jupyter-widgets/controls",
       "_model_module_version": "1.5.0",
       "_model_name": "ProgressStyleModel",
       "_view_count": null,
       "_view_module": "@jupyter-widgets/base",
       "_view_module_version": "1.2.0",
       "_view_name": "StyleView",
       "bar_color": null,
       "description_width": ""
      }
     },
     "575b1be3a1524aeeab9b5a164bae3766": {
      "model_module": "@jupyter-widgets/controls",
      "model_module_version": "1.5.0",
      "model_name": "HTMLModel",
      "state": {
       "_dom_classes": [],
       "_model_module": "@jupyter-widgets/controls",
       "_model_module_version": "1.5.0",
       "_model_name": "HTMLModel",
       "_view_count": null,
       "_view_module": "@jupyter-widgets/controls",
       "_view_module_version": "1.5.0",
       "_view_name": "HTMLView",
       "description": "",
       "description_tooltip": null,
       "layout": "IPY_MODEL_a534e73364b346809462062278b129ec",
       "placeholder": "​",
       "style": "IPY_MODEL_a8aed7f788a74bfb90c37d9d8ab96aa4",
       "value": "Downloading builder script: "
      }
     },
     "580dbabfb9004d82b990b895e5b25fbb": {
      "model_module": "@jupyter-widgets/base",
      "model_module_version": "1.2.0",
      "model_name": "LayoutModel",
      "state": {
       "_model_module": "@jupyter-widgets/base",
       "_model_module_version": "1.2.0",
       "_model_name": "LayoutModel",
       "_view_count": null,
       "_view_module": "@jupyter-widgets/base",
       "_view_module_version": "1.2.0",
       "_view_name": "LayoutView",
       "align_content": null,
       "align_items": null,
       "align_self": null,
       "border": null,
       "bottom": null,
       "display": null,
       "flex": null,
       "flex_flow": null,
       "grid_area": null,
       "grid_auto_columns": null,
       "grid_auto_flow": null,
       "grid_auto_rows": null,
       "grid_column": null,
       "grid_gap": null,
       "grid_row": null,
       "grid_template_areas": null,
       "grid_template_columns": null,
       "grid_template_rows": null,
       "height": null,
       "justify_content": null,
       "justify_items": null,
       "left": null,
       "margin": null,
       "max_height": null,
       "max_width": null,
       "min_height": null,
       "min_width": null,
       "object_fit": null,
       "object_position": null,
       "order": null,
       "overflow": null,
       "overflow_x": null,
       "overflow_y": null,
       "padding": null,
       "right": null,
       "top": null,
       "visibility": null,
       "width": null
      }
     },
     "61afc4acbd274394bf03ea21c930f1e4": {
      "model_module": "@jupyter-widgets/controls",
      "model_module_version": "1.5.0",
      "model_name": "HTMLModel",
      "state": {
       "_dom_classes": [],
       "_model_module": "@jupyter-widgets/controls",
       "_model_module_version": "1.5.0",
       "_model_name": "HTMLModel",
       "_view_count": null,
       "_view_module": "@jupyter-widgets/controls",
       "_view_module_version": "1.5.0",
       "_view_name": "HTMLView",
       "description": "",
       "description_tooltip": null,
       "layout": "IPY_MODEL_7cea0d9de8624472b42065792fe04ec9",
       "placeholder": "​",
       "style": "IPY_MODEL_e00d8a6b2c204ccc8c87d0e513711aad",
       "value": " 1.58k/1.58k [00:00&lt;00:00, 72.6kB/s]"
      }
     },
     "62a938e170704d95855645f64e4c267a": {
      "model_module": "@jupyter-widgets/controls",
      "model_module_version": "1.5.0",
      "model_name": "HBoxModel",
      "state": {
       "_dom_classes": [],
       "_model_module": "@jupyter-widgets/controls",
       "_model_module_version": "1.5.0",
       "_model_name": "HBoxModel",
       "_view_count": null,
       "_view_module": "@jupyter-widgets/controls",
       "_view_module_version": "1.5.0",
       "_view_name": "HBoxView",
       "box_style": "",
       "children": [
        "IPY_MODEL_d5f12f68faa14df8802dd580ed9c46f2",
        "IPY_MODEL_768e2de7ded545789b632153b0f703c3",
        "IPY_MODEL_61afc4acbd274394bf03ea21c930f1e4"
       ],
       "layout": "IPY_MODEL_78b56ea01d08452ca9de368103bafaf6"
      }
     },
     "6846a89f8277421c8570c8a1b736d668": {
      "model_module": "@jupyter-widgets/base",
      "model_module_version": "1.2.0",
      "model_name": "LayoutModel",
      "state": {
       "_model_module": "@jupyter-widgets/base",
       "_model_module_version": "1.2.0",
       "_model_name": "LayoutModel",
       "_view_count": null,
       "_view_module": "@jupyter-widgets/base",
       "_view_module_version": "1.2.0",
       "_view_name": "LayoutView",
       "align_content": null,
       "align_items": null,
       "align_self": null,
       "border": null,
       "bottom": null,
       "display": null,
       "flex": null,
       "flex_flow": null,
       "grid_area": null,
       "grid_auto_columns": null,
       "grid_auto_flow": null,
       "grid_auto_rows": null,
       "grid_column": null,
       "grid_gap": null,
       "grid_row": null,
       "grid_template_areas": null,
       "grid_template_columns": null,
       "grid_template_rows": null,
       "height": null,
       "justify_content": null,
       "justify_items": null,
       "left": null,
       "margin": null,
       "max_height": null,
       "max_width": null,
       "min_height": null,
       "min_width": null,
       "object_fit": null,
       "object_position": null,
       "order": null,
       "overflow": null,
       "overflow_x": null,
       "overflow_y": null,
       "padding": null,
       "right": null,
       "top": null,
       "visibility": null,
       "width": null
      }
     },
     "6a04a03e4d444b1f80650b6441f04735": {
      "model_module": "@jupyter-widgets/base",
      "model_module_version": "1.2.0",
      "model_name": "LayoutModel",
      "state": {
       "_model_module": "@jupyter-widgets/base",
       "_model_module_version": "1.2.0",
       "_model_name": "LayoutModel",
       "_view_count": null,
       "_view_module": "@jupyter-widgets/base",
       "_view_module_version": "1.2.0",
       "_view_name": "LayoutView",
       "align_content": null,
       "align_items": null,
       "align_self": null,
       "border": null,
       "bottom": null,
       "display": null,
       "flex": null,
       "flex_flow": null,
       "grid_area": null,
       "grid_auto_columns": null,
       "grid_auto_flow": null,
       "grid_auto_rows": null,
       "grid_column": null,
       "grid_gap": null,
       "grid_row": null,
       "grid_template_areas": null,
       "grid_template_columns": null,
       "grid_template_rows": null,
       "height": null,
       "justify_content": null,
       "justify_items": null,
       "left": null,
       "margin": null,
       "max_height": null,
       "max_width": null,
       "min_height": null,
       "min_width": null,
       "object_fit": null,
       "object_position": null,
       "order": null,
       "overflow": null,
       "overflow_x": null,
       "overflow_y": null,
       "padding": null,
       "right": null,
       "top": null,
       "visibility": null,
       "width": null
      }
     },
     "6d42aa2c3bb44d198ee6df4619b94769": {
      "model_module": "@jupyter-widgets/controls",
      "model_module_version": "1.5.0",
      "model_name": "HTMLModel",
      "state": {
       "_dom_classes": [],
       "_model_module": "@jupyter-widgets/controls",
       "_model_module_version": "1.5.0",
       "_model_name": "HTMLModel",
       "_view_count": null,
       "_view_module": "@jupyter-widgets/controls",
       "_view_module_version": "1.5.0",
       "_view_name": "HTMLView",
       "description": "",
       "description_tooltip": null,
       "layout": "IPY_MODEL_580dbabfb9004d82b990b895e5b25fbb",
       "placeholder": "​",
       "style": "IPY_MODEL_0289faa7401543f4a6a1f5a1ef981764",
       "value": " 5/5 [00:02&lt;00:00,  1.99ba/s]"
      }
     },
     "6e2b5a3fb8a549d1a229017de0f1b2c7": {
      "model_module": "@jupyter-widgets/controls",
      "model_module_version": "1.5.0",
      "model_name": "DescriptionStyleModel",
      "state": {
       "_model_module": "@jupyter-widgets/controls",
       "_model_module_version": "1.5.0",
       "_model_name": "DescriptionStyleModel",
       "_view_count": null,
       "_view_module": "@jupyter-widgets/base",
       "_view_module_version": "1.2.0",
       "_view_name": "StyleView",
       "description_width": ""
      }
     },
     "6e520fba28bb4dcbabb853c6045aac8b": {
      "model_module": "@jupyter-widgets/controls",
      "model_module_version": "1.5.0",
      "model_name": "HTMLModel",
      "state": {
       "_dom_classes": [],
       "_model_module": "@jupyter-widgets/controls",
       "_model_module_version": "1.5.0",
       "_model_name": "HTMLModel",
       "_view_count": null,
       "_view_module": "@jupyter-widgets/controls",
       "_view_module_version": "1.5.0",
       "_view_name": "HTMLView",
       "description": "",
       "description_tooltip": null,
       "layout": "IPY_MODEL_ebecc4b3f8b0470cb07ad2265706d731",
       "placeholder": "​",
       "style": "IPY_MODEL_0129e61e103b494ebaa7db3e1d1152f5",
       "value": " 1.36M/1.36M [00:00&lt;00:00, 7.64MB/s]"
      }
     },
     "701714868efe46a08e5620d841a7bf7e": {
      "model_module": "@jupyter-widgets/controls",
      "model_module_version": "1.5.0",
      "model_name": "DescriptionStyleModel",
      "state": {
       "_model_module": "@jupyter-widgets/controls",
       "_model_module_version": "1.5.0",
       "_model_name": "DescriptionStyleModel",
       "_view_count": null,
       "_view_module": "@jupyter-widgets/base",
       "_view_module_version": "1.2.0",
       "_view_name": "StyleView",
       "description_width": ""
      }
     },
     "73b50e486c204c21b337501ab1366941": {
      "model_module": "@jupyter-widgets/base",
      "model_module_version": "1.2.0",
      "model_name": "LayoutModel",
      "state": {
       "_model_module": "@jupyter-widgets/base",
       "_model_module_version": "1.2.0",
       "_model_name": "LayoutModel",
       "_view_count": null,
       "_view_module": "@jupyter-widgets/base",
       "_view_module_version": "1.2.0",
       "_view_name": "LayoutView",
       "align_content": null,
       "align_items": null,
       "align_self": null,
       "border": null,
       "bottom": null,
       "display": null,
       "flex": null,
       "flex_flow": null,
       "grid_area": null,
       "grid_auto_columns": null,
       "grid_auto_flow": null,
       "grid_auto_rows": null,
       "grid_column": null,
       "grid_gap": null,
       "grid_row": null,
       "grid_template_areas": null,
       "grid_template_columns": null,
       "grid_template_rows": null,
       "height": null,
       "justify_content": null,
       "justify_items": null,
       "left": null,
       "margin": null,
       "max_height": null,
       "max_width": null,
       "min_height": null,
       "min_width": null,
       "object_fit": null,
       "object_position": null,
       "order": null,
       "overflow": null,
       "overflow_x": null,
       "overflow_y": null,
       "padding": null,
       "right": null,
       "top": null,
       "visibility": null,
       "width": null
      }
     },
     "768e2de7ded545789b632153b0f703c3": {
      "model_module": "@jupyter-widgets/controls",
      "model_module_version": "1.5.0",
      "model_name": "FloatProgressModel",
      "state": {
       "_dom_classes": [],
       "_model_module": "@jupyter-widgets/controls",
       "_model_module_version": "1.5.0",
       "_model_name": "FloatProgressModel",
       "_view_count": null,
       "_view_module": "@jupyter-widgets/controls",
       "_view_module_version": "1.5.0",
       "_view_name": "ProgressView",
       "bar_style": "success",
       "description": "",
       "description_tooltip": null,
       "layout": "IPY_MODEL_87b5609ce65b4398bf92ef6c338d3911",
       "max": 1585,
       "min": 0,
       "orientation": "horizontal",
       "style": "IPY_MODEL_458c353c599d4e3ab7b4cdcbc20f0f2c",
       "value": 1585
      }
     },
     "78081d47a9ae42cdb3896cfe6fa6385b": {
      "model_module": "@jupyter-widgets/controls",
      "model_module_version": "1.5.0",
      "model_name": "FloatProgressModel",
      "state": {
       "_dom_classes": [],
       "_model_module": "@jupyter-widgets/controls",
       "_model_module_version": "1.5.0",
       "_model_name": "FloatProgressModel",
       "_view_count": null,
       "_view_module": "@jupyter-widgets/controls",
       "_view_module_version": "1.5.0",
       "_view_name": "ProgressView",
       "bar_style": "success",
       "description": "",
       "description_tooltip": null,
       "layout": "IPY_MODEL_0f4de40f8ae44f2fa7697a8d02d202ce",
       "max": 17,
       "min": 0,
       "orientation": "horizontal",
       "style": "IPY_MODEL_21b62b53e3dc48a286820850867c3fb6",
       "value": 17
      }
     },
     "78152abbbde94aa28e845d75d3dbaed1": {
      "model_module": "@jupyter-widgets/base",
      "model_module_version": "1.2.0",
      "model_name": "LayoutModel",
      "state": {
       "_model_module": "@jupyter-widgets/base",
       "_model_module_version": "1.2.0",
       "_model_name": "LayoutModel",
       "_view_count": null,
       "_view_module": "@jupyter-widgets/base",
       "_view_module_version": "1.2.0",
       "_view_name": "LayoutView",
       "align_content": null,
       "align_items": null,
       "align_self": null,
       "border": null,
       "bottom": null,
       "display": null,
       "flex": null,
       "flex_flow": null,
       "grid_area": null,
       "grid_auto_columns": null,
       "grid_auto_flow": null,
       "grid_auto_rows": null,
       "grid_column": null,
       "grid_gap": null,
       "grid_row": null,
       "grid_template_areas": null,
       "grid_template_columns": null,
       "grid_template_rows": null,
       "height": null,
       "justify_content": null,
       "justify_items": null,
       "left": null,
       "margin": null,
       "max_height": null,
       "max_width": null,
       "min_height": null,
       "min_width": null,
       "object_fit": null,
       "object_position": null,
       "order": null,
       "overflow": null,
       "overflow_x": null,
       "overflow_y": null,
       "padding": null,
       "right": null,
       "top": null,
       "visibility": null,
       "width": null
      }
     },
     "78b56ea01d08452ca9de368103bafaf6": {
      "model_module": "@jupyter-widgets/base",
      "model_module_version": "1.2.0",
      "model_name": "LayoutModel",
      "state": {
       "_model_module": "@jupyter-widgets/base",
       "_model_module_version": "1.2.0",
       "_model_name": "LayoutModel",
       "_view_count": null,
       "_view_module": "@jupyter-widgets/base",
       "_view_module_version": "1.2.0",
       "_view_name": "LayoutView",
       "align_content": null,
       "align_items": null,
       "align_self": null,
       "border": null,
       "bottom": null,
       "display": null,
       "flex": null,
       "flex_flow": null,
       "grid_area": null,
       "grid_auto_columns": null,
       "grid_auto_flow": null,
       "grid_auto_rows": null,
       "grid_column": null,
       "grid_gap": null,
       "grid_row": null,
       "grid_template_areas": null,
       "grid_template_columns": null,
       "grid_template_rows": null,
       "height": null,
       "justify_content": null,
       "justify_items": null,
       "left": null,
       "margin": null,
       "max_height": null,
       "max_width": null,
       "min_height": null,
       "min_width": null,
       "object_fit": null,
       "object_position": null,
       "order": null,
       "overflow": null,
       "overflow_x": null,
       "overflow_y": null,
       "padding": null,
       "right": null,
       "top": null,
       "visibility": null,
       "width": null
      }
     },
     "7a48b09078d348dcbc5f8413b9ba2204": {
      "model_module": "@jupyter-widgets/base",
      "model_module_version": "1.2.0",
      "model_name": "LayoutModel",
      "state": {
       "_model_module": "@jupyter-widgets/base",
       "_model_module_version": "1.2.0",
       "_model_name": "LayoutModel",
       "_view_count": null,
       "_view_module": "@jupyter-widgets/base",
       "_view_module_version": "1.2.0",
       "_view_name": "LayoutView",
       "align_content": null,
       "align_items": null,
       "align_self": null,
       "border": null,
       "bottom": null,
       "display": null,
       "flex": null,
       "flex_flow": null,
       "grid_area": null,
       "grid_auto_columns": null,
       "grid_auto_flow": null,
       "grid_auto_rows": null,
       "grid_column": null,
       "grid_gap": null,
       "grid_row": null,
       "grid_template_areas": null,
       "grid_template_columns": null,
       "grid_template_rows": null,
       "height": null,
       "justify_content": null,
       "justify_items": null,
       "left": null,
       "margin": null,
       "max_height": null,
       "max_width": null,
       "min_height": null,
       "min_width": null,
       "object_fit": null,
       "object_position": null,
       "order": null,
       "overflow": null,
       "overflow_x": null,
       "overflow_y": null,
       "padding": null,
       "right": null,
       "top": null,
       "visibility": null,
       "width": null
      }
     },
     "7ab52a0ae18049d2b870d3c2fb068116": {
      "model_module": "@jupyter-widgets/controls",
      "model_module_version": "1.5.0",
      "model_name": "HBoxModel",
      "state": {
       "_dom_classes": [],
       "_model_module": "@jupyter-widgets/controls",
       "_model_module_version": "1.5.0",
       "_model_name": "HBoxModel",
       "_view_count": null,
       "_view_module": "@jupyter-widgets/controls",
       "_view_module_version": "1.5.0",
       "_view_name": "HBoxView",
       "box_style": "",
       "children": [
        "IPY_MODEL_d9037a1b05f547f5828c7539709cf80d",
        "IPY_MODEL_192be0ac9bda4fbfbf9fb8bd4577cb4c",
        "IPY_MODEL_6e520fba28bb4dcbabb853c6045aac8b"
       ],
       "layout": "IPY_MODEL_f7cda69a0dac442695acfeb93bd5eb55"
      }
     },
     "7c84862fcdfd4c038b63d68bff3cba49": {
      "model_module": "@jupyter-widgets/controls",
      "model_module_version": "1.5.0",
      "model_name": "DescriptionStyleModel",
      "state": {
       "_model_module": "@jupyter-widgets/controls",
       "_model_module_version": "1.5.0",
       "_model_name": "DescriptionStyleModel",
       "_view_count": null,
       "_view_module": "@jupyter-widgets/base",
       "_view_module_version": "1.2.0",
       "_view_name": "StyleView",
       "description_width": ""
      }
     },
     "7cea0d9de8624472b42065792fe04ec9": {
      "model_module": "@jupyter-widgets/base",
      "model_module_version": "1.2.0",
      "model_name": "LayoutModel",
      "state": {
       "_model_module": "@jupyter-widgets/base",
       "_model_module_version": "1.2.0",
       "_model_name": "LayoutModel",
       "_view_count": null,
       "_view_module": "@jupyter-widgets/base",
       "_view_module_version": "1.2.0",
       "_view_name": "LayoutView",
       "align_content": null,
       "align_items": null,
       "align_self": null,
       "border": null,
       "bottom": null,
       "display": null,
       "flex": null,
       "flex_flow": null,
       "grid_area": null,
       "grid_auto_columns": null,
       "grid_auto_flow": null,
       "grid_auto_rows": null,
       "grid_column": null,
       "grid_gap": null,
       "grid_row": null,
       "grid_template_areas": null,
       "grid_template_columns": null,
       "grid_template_rows": null,
       "height": null,
       "justify_content": null,
       "justify_items": null,
       "left": null,
       "margin": null,
       "max_height": null,
       "max_width": null,
       "min_height": null,
       "min_width": null,
       "object_fit": null,
       "object_position": null,
       "order": null,
       "overflow": null,
       "overflow_x": null,
       "overflow_y": null,
       "padding": null,
       "right": null,
       "top": null,
       "visibility": null,
       "width": null
      }
     },
     "7e46f64d34c844ca9dafad849d947cb1": {
      "model_module": "@jupyter-widgets/controls",
      "model_module_version": "1.5.0",
      "model_name": "FloatProgressModel",
      "state": {
       "_dom_classes": [],
       "_model_module": "@jupyter-widgets/controls",
       "_model_module_version": "1.5.0",
       "_model_name": "FloatProgressModel",
       "_view_count": null,
       "_view_module": "@jupyter-widgets/controls",
       "_view_module_version": "1.5.0",
       "_view_name": "ProgressView",
       "bar_style": "success",
       "description": "",
       "description_tooltip": null,
       "layout": "IPY_MODEL_18e52b74661947369c056d2d15d1f23e",
       "max": 5,
       "min": 0,
       "orientation": "horizontal",
       "style": "IPY_MODEL_567480ab21b04d0385b779c9c76d1f6b",
       "value": 5
      }
     },
     "86e0a09bb22343c390e757f53427b22b": {
      "model_module": "@jupyter-widgets/controls",
      "model_module_version": "1.5.0",
      "model_name": "DescriptionStyleModel",
      "state": {
       "_model_module": "@jupyter-widgets/controls",
       "_model_module_version": "1.5.0",
       "_model_name": "DescriptionStyleModel",
       "_view_count": null,
       "_view_module": "@jupyter-widgets/base",
       "_view_module_version": "1.2.0",
       "_view_name": "StyleView",
       "description_width": ""
      }
     },
     "8747da2acbfd45298d264e916401fd45": {
      "model_module": "@jupyter-widgets/controls",
      "model_module_version": "1.5.0",
      "model_name": "FloatProgressModel",
      "state": {
       "_dom_classes": [],
       "_model_module": "@jupyter-widgets/controls",
       "_model_module_version": "1.5.0",
       "_model_name": "FloatProgressModel",
       "_view_count": null,
       "_view_module": "@jupyter-widgets/controls",
       "_view_module_version": "1.5.0",
       "_view_name": "ProgressView",
       "bar_style": "success",
       "description": "",
       "description_tooltip": null,
       "layout": "IPY_MODEL_25511b355da347beac5f111a4bf903f6",
       "max": 1625222120,
       "min": 0,
       "orientation": "horizontal",
       "style": "IPY_MODEL_9dfc026d420b4ec79950e24e913271c7",
       "value": 1625222120
      }
     },
     "87b5609ce65b4398bf92ef6c338d3911": {
      "model_module": "@jupyter-widgets/base",
      "model_module_version": "1.2.0",
      "model_name": "LayoutModel",
      "state": {
       "_model_module": "@jupyter-widgets/base",
       "_model_module_version": "1.2.0",
       "_model_name": "LayoutModel",
       "_view_count": null,
       "_view_module": "@jupyter-widgets/base",
       "_view_module_version": "1.2.0",
       "_view_name": "LayoutView",
       "align_content": null,
       "align_items": null,
       "align_self": null,
       "border": null,
       "bottom": null,
       "display": null,
       "flex": null,
       "flex_flow": null,
       "grid_area": null,
       "grid_auto_columns": null,
       "grid_auto_flow": null,
       "grid_auto_rows": null,
       "grid_column": null,
       "grid_gap": null,
       "grid_row": null,
       "grid_template_areas": null,
       "grid_template_columns": null,
       "grid_template_rows": null,
       "height": null,
       "justify_content": null,
       "justify_items": null,
       "left": null,
       "margin": null,
       "max_height": null,
       "max_width": null,
       "min_height": null,
       "min_width": null,
       "object_fit": null,
       "object_position": null,
       "order": null,
       "overflow": null,
       "overflow_x": null,
       "overflow_y": null,
       "padding": null,
       "right": null,
       "top": null,
       "visibility": null,
       "width": null
      }
     },
     "8af9d76df195441b82fb9c7d98c5611e": {
      "model_module": "@jupyter-widgets/base",
      "model_module_version": "1.2.0",
      "model_name": "LayoutModel",
      "state": {
       "_model_module": "@jupyter-widgets/base",
       "_model_module_version": "1.2.0",
       "_model_name": "LayoutModel",
       "_view_count": null,
       "_view_module": "@jupyter-widgets/base",
       "_view_module_version": "1.2.0",
       "_view_name": "LayoutView",
       "align_content": null,
       "align_items": null,
       "align_self": null,
       "border": null,
       "bottom": null,
       "display": null,
       "flex": null,
       "flex_flow": null,
       "grid_area": null,
       "grid_auto_columns": null,
       "grid_auto_flow": null,
       "grid_auto_rows": null,
       "grid_column": null,
       "grid_gap": null,
       "grid_row": null,
       "grid_template_areas": null,
       "grid_template_columns": null,
       "grid_template_rows": null,
       "height": null,
       "justify_content": null,
       "justify_items": null,
       "left": null,
       "margin": null,
       "max_height": null,
       "max_width": null,
       "min_height": null,
       "min_width": null,
       "object_fit": null,
       "object_position": null,
       "order": null,
       "overflow": null,
       "overflow_x": null,
       "overflow_y": null,
       "padding": null,
       "right": null,
       "top": null,
       "visibility": null,
       "width": null
      }
     },
     "8b69e245934e47c7ae972aaec2ae6f59": {
      "model_module": "@jupyter-widgets/controls",
      "model_module_version": "1.5.0",
      "model_name": "HBoxModel",
      "state": {
       "_dom_classes": [],
       "_model_module": "@jupyter-widgets/controls",
       "_model_module_version": "1.5.0",
       "_model_name": "HBoxModel",
       "_view_count": null,
       "_view_module": "@jupyter-widgets/controls",
       "_view_module_version": "1.5.0",
       "_view_name": "HBoxView",
       "box_style": "",
       "children": [
        "IPY_MODEL_036e75d7aa184431a9488c3f887d7490",
        "IPY_MODEL_7e46f64d34c844ca9dafad849d947cb1",
        "IPY_MODEL_6d42aa2c3bb44d198ee6df4619b94769"
       ],
       "layout": "IPY_MODEL_6846a89f8277421c8570c8a1b736d668"
      }
     },
     "8bb23ea3ea4149569a4eea9fb8cdafe0": {
      "model_module": "@jupyter-widgets/controls",
      "model_module_version": "1.5.0",
      "model_name": "HTMLModel",
      "state": {
       "_dom_classes": [],
       "_model_module": "@jupyter-widgets/controls",
       "_model_module_version": "1.5.0",
       "_model_name": "HTMLModel",
       "_view_count": null,
       "_view_module": "@jupyter-widgets/controls",
       "_view_module_version": "1.5.0",
       "_view_name": "HTMLView",
       "description": "",
       "description_tooltip": null,
       "layout": "IPY_MODEL_8af9d76df195441b82fb9c7d98c5611e",
       "placeholder": "​",
       "style": "IPY_MODEL_7c84862fcdfd4c038b63d68bff3cba49",
       "value": " 363/363 [00:00&lt;00:00, 28.6kB/s]"
      }
     },
     "8e01e60eafca46078f705859718312ee": {
      "model_module": "@jupyter-widgets/controls",
      "model_module_version": "1.5.0",
      "model_name": "HTMLModel",
      "state": {
       "_dom_classes": [],
       "_model_module": "@jupyter-widgets/controls",
       "_model_module_version": "1.5.0",
       "_model_name": "HTMLModel",
       "_view_count": null,
       "_view_module": "@jupyter-widgets/controls",
       "_view_module_version": "1.5.0",
       "_view_name": "HTMLView",
       "description": "",
       "description_tooltip": null,
       "layout": "IPY_MODEL_78152abbbde94aa28e845d75d3dbaed1",
       "placeholder": "​",
       "style": "IPY_MODEL_86e0a09bb22343c390e757f53427b22b",
       "value": "Downloading vocab.json: 100%"
      }
     },
     "91bb4ac559a042188ae42ab7adeae37b": {
      "model_module": "@jupyter-widgets/base",
      "model_module_version": "1.2.0",
      "model_name": "LayoutModel",
      "state": {
       "_model_module": "@jupyter-widgets/base",
       "_model_module_version": "1.2.0",
       "_model_name": "LayoutModel",
       "_view_count": null,
       "_view_module": "@jupyter-widgets/base",
       "_view_module_version": "1.2.0",
       "_view_name": "LayoutView",
       "align_content": null,
       "align_items": null,
       "align_self": null,
       "border": null,
       "bottom": null,
       "display": null,
       "flex": null,
       "flex_flow": null,
       "grid_area": null,
       "grid_auto_columns": null,
       "grid_auto_flow": null,
       "grid_auto_rows": null,
       "grid_column": null,
       "grid_gap": null,
       "grid_row": null,
       "grid_template_areas": null,
       "grid_template_columns": null,
       "grid_template_rows": null,
       "height": null,
       "justify_content": null,
       "justify_items": null,
       "left": null,
       "margin": null,
       "max_height": null,
       "max_width": null,
       "min_height": null,
       "min_width": null,
       "object_fit": null,
       "object_position": null,
       "order": null,
       "overflow": null,
       "overflow_x": null,
       "overflow_y": null,
       "padding": null,
       "right": null,
       "top": null,
       "visibility": null,
       "width": null
      }
     },
     "9289aa1d0a384ec1bdc709a9f368d3e7": {
      "model_module": "@jupyter-widgets/controls",
      "model_module_version": "1.5.0",
      "model_name": "HBoxModel",
      "state": {
       "_dom_classes": [],
       "_model_module": "@jupyter-widgets/controls",
       "_model_module_version": "1.5.0",
       "_model_name": "HBoxModel",
       "_view_count": null,
       "_view_module": "@jupyter-widgets/controls",
       "_view_module_version": "1.5.0",
       "_view_name": "HBoxView",
       "box_style": "",
       "children": [
        "IPY_MODEL_575b1be3a1524aeeab9b5a164bae3766",
        "IPY_MODEL_ebfdc3791fe94034b9cc791b4aecc651",
        "IPY_MODEL_df00fe740dbb4b65afdba23189c0ea1e"
       ],
       "layout": "IPY_MODEL_b53ff4f8591b4f8dbf0d5d24a6c635e0"
      }
     },
     "9dfc026d420b4ec79950e24e913271c7": {
      "model_module": "@jupyter-widgets/controls",
      "model_module_version": "1.5.0",
      "model_name": "ProgressStyleModel",
      "state": {
       "_model_module": "@jupyter-widgets/controls",
       "_model_module_version": "1.5.0",
       "_model_name": "ProgressStyleModel",
       "_view_count": null,
       "_view_module": "@jupyter-widgets/base",
       "_view_module_version": "1.2.0",
       "_view_name": "StyleView",
       "bar_color": null,
       "description_width": ""
      }
     },
     "9f0e7d8497c34f48b6b41c0f3a719f2c": {
      "model_module": "@jupyter-widgets/controls",
      "model_module_version": "1.5.0",
      "model_name": "HTMLModel",
      "state": {
       "_dom_classes": [],
       "_model_module": "@jupyter-widgets/controls",
       "_model_module_version": "1.5.0",
       "_model_name": "HTMLModel",
       "_view_count": null,
       "_view_module": "@jupyter-widgets/controls",
       "_view_module_version": "1.5.0",
       "_view_name": "HTMLView",
       "description": "",
       "description_tooltip": null,
       "layout": "IPY_MODEL_436f1fe687b848b99a3ce2157a704c37",
       "placeholder": "​",
       "style": "IPY_MODEL_42e47a069cf143378fe60432388916e8",
       "value": "100%"
      }
     },
     "a04540f924294690904fc28a6eb8f321": {
      "model_module": "@jupyter-widgets/base",
      "model_module_version": "1.2.0",
      "model_name": "LayoutModel",
      "state": {
       "_model_module": "@jupyter-widgets/base",
       "_model_module_version": "1.2.0",
       "_model_name": "LayoutModel",
       "_view_count": null,
       "_view_module": "@jupyter-widgets/base",
       "_view_module_version": "1.2.0",
       "_view_name": "LayoutView",
       "align_content": null,
       "align_items": null,
       "align_self": null,
       "border": null,
       "bottom": null,
       "display": null,
       "flex": null,
       "flex_flow": null,
       "grid_area": null,
       "grid_auto_columns": null,
       "grid_auto_flow": null,
       "grid_auto_rows": null,
       "grid_column": null,
       "grid_gap": null,
       "grid_row": null,
       "grid_template_areas": null,
       "grid_template_columns": null,
       "grid_template_rows": null,
       "height": null,
       "justify_content": null,
       "justify_items": null,
       "left": null,
       "margin": null,
       "max_height": null,
       "max_width": null,
       "min_height": null,
       "min_width": null,
       "object_fit": null,
       "object_position": null,
       "order": null,
       "overflow": null,
       "overflow_x": null,
       "overflow_y": null,
       "padding": null,
       "right": null,
       "top": null,
       "visibility": null,
       "width": null
      }
     },
     "a534e73364b346809462062278b129ec": {
      "model_module": "@jupyter-widgets/base",
      "model_module_version": "1.2.0",
      "model_name": "LayoutModel",
      "state": {
       "_model_module": "@jupyter-widgets/base",
       "_model_module_version": "1.2.0",
       "_model_name": "LayoutModel",
       "_view_count": null,
       "_view_module": "@jupyter-widgets/base",
       "_view_module_version": "1.2.0",
       "_view_name": "LayoutView",
       "align_content": null,
       "align_items": null,
       "align_self": null,
       "border": null,
       "bottom": null,
       "display": null,
       "flex": null,
       "flex_flow": null,
       "grid_area": null,
       "grid_auto_columns": null,
       "grid_auto_flow": null,
       "grid_auto_rows": null,
       "grid_column": null,
       "grid_gap": null,
       "grid_row": null,
       "grid_template_areas": null,
       "grid_template_columns": null,
       "grid_template_rows": null,
       "height": null,
       "justify_content": null,
       "justify_items": null,
       "left": null,
       "margin": null,
       "max_height": null,
       "max_width": null,
       "min_height": null,
       "min_width": null,
       "object_fit": null,
       "object_position": null,
       "order": null,
       "overflow": null,
       "overflow_x": null,
       "overflow_y": null,
       "padding": null,
       "right": null,
       "top": null,
       "visibility": null,
       "width": null
      }
     },
     "a66ed8b76a454e40bd16a2a6ac5e2e16": {
      "model_module": "@jupyter-widgets/base",
      "model_module_version": "1.2.0",
      "model_name": "LayoutModel",
      "state": {
       "_model_module": "@jupyter-widgets/base",
       "_model_module_version": "1.2.0",
       "_model_name": "LayoutModel",
       "_view_count": null,
       "_view_module": "@jupyter-widgets/base",
       "_view_module_version": "1.2.0",
       "_view_name": "LayoutView",
       "align_content": null,
       "align_items": null,
       "align_self": null,
       "border": null,
       "bottom": null,
       "display": null,
       "flex": null,
       "flex_flow": null,
       "grid_area": null,
       "grid_auto_columns": null,
       "grid_auto_flow": null,
       "grid_auto_rows": null,
       "grid_column": null,
       "grid_gap": null,
       "grid_row": null,
       "grid_template_areas": null,
       "grid_template_columns": null,
       "grid_template_rows": null,
       "height": null,
       "justify_content": null,
       "justify_items": null,
       "left": null,
       "margin": null,
       "max_height": null,
       "max_width": null,
       "min_height": null,
       "min_width": null,
       "object_fit": null,
       "object_position": null,
       "order": null,
       "overflow": null,
       "overflow_x": null,
       "overflow_y": null,
       "padding": null,
       "right": null,
       "top": null,
       "visibility": null,
       "width": null
      }
     },
     "a8aed7f788a74bfb90c37d9d8ab96aa4": {
      "model_module": "@jupyter-widgets/controls",
      "model_module_version": "1.5.0",
      "model_name": "DescriptionStyleModel",
      "state": {
       "_model_module": "@jupyter-widgets/controls",
       "_model_module_version": "1.5.0",
       "_model_name": "DescriptionStyleModel",
       "_view_count": null,
       "_view_module": "@jupyter-widgets/base",
       "_view_module_version": "1.2.0",
       "_view_name": "StyleView",
       "description_width": ""
      }
     },
     "ad2d44b0639446d0aababb8c0fba4cc1": {
      "model_module": "@jupyter-widgets/controls",
      "model_module_version": "1.5.0",
      "model_name": "DescriptionStyleModel",
      "state": {
       "_model_module": "@jupyter-widgets/controls",
       "_model_module_version": "1.5.0",
       "_model_name": "DescriptionStyleModel",
       "_view_count": null,
       "_view_module": "@jupyter-widgets/base",
       "_view_module_version": "1.2.0",
       "_view_name": "StyleView",
       "description_width": ""
      }
     },
     "aed29ee7e80d417fa63fa80376abb75c": {
      "model_module": "@jupyter-widgets/base",
      "model_module_version": "1.2.0",
      "model_name": "LayoutModel",
      "state": {
       "_model_module": "@jupyter-widgets/base",
       "_model_module_version": "1.2.0",
       "_model_name": "LayoutModel",
       "_view_count": null,
       "_view_module": "@jupyter-widgets/base",
       "_view_module_version": "1.2.0",
       "_view_name": "LayoutView",
       "align_content": null,
       "align_items": null,
       "align_self": null,
       "border": null,
       "bottom": null,
       "display": null,
       "flex": null,
       "flex_flow": null,
       "grid_area": null,
       "grid_auto_columns": null,
       "grid_auto_flow": null,
       "grid_auto_rows": null,
       "grid_column": null,
       "grid_gap": null,
       "grid_row": null,
       "grid_template_areas": null,
       "grid_template_columns": null,
       "grid_template_rows": null,
       "height": null,
       "justify_content": null,
       "justify_items": null,
       "left": null,
       "margin": null,
       "max_height": null,
       "max_width": null,
       "min_height": null,
       "min_width": null,
       "object_fit": null,
       "object_position": null,
       "order": null,
       "overflow": null,
       "overflow_x": null,
       "overflow_y": null,
       "padding": null,
       "right": null,
       "top": null,
       "visibility": null,
       "width": null
      }
     },
     "af5394b30f8641d79faf9b4b5813fc0a": {
      "model_module": "@jupyter-widgets/controls",
      "model_module_version": "1.5.0",
      "model_name": "HBoxModel",
      "state": {
       "_dom_classes": [],
       "_model_module": "@jupyter-widgets/controls",
       "_model_module_version": "1.5.0",
       "_model_name": "HBoxModel",
       "_view_count": null,
       "_view_module": "@jupyter-widgets/controls",
       "_view_module_version": "1.5.0",
       "_view_name": "HBoxView",
       "box_style": "",
       "children": [
        "IPY_MODEL_9f0e7d8497c34f48b6b41c0f3a719f2c",
        "IPY_MODEL_78081d47a9ae42cdb3896cfe6fa6385b",
        "IPY_MODEL_208eff380f484f2c820f0550d094c4ab"
       ],
       "layout": "IPY_MODEL_0d6fd8cfc6cc4cb89dbb4ae1bc16bfd6"
      }
     },
     "b0ef00b0d3dd4b2787d2e7e8ff7cb221": {
      "model_module": "@jupyter-widgets/controls",
      "model_module_version": "1.5.0",
      "model_name": "FloatProgressModel",
      "state": {
       "_dom_classes": [],
       "_model_module": "@jupyter-widgets/controls",
       "_model_module_version": "1.5.0",
       "_model_name": "FloatProgressModel",
       "_view_count": null,
       "_view_module": "@jupyter-widgets/controls",
       "_view_module_version": "1.5.0",
       "_view_name": "ProgressView",
       "bar_style": "success",
       "description": "",
       "description_tooltip": null,
       "layout": "IPY_MODEL_d0bb97d0170548a793b1886d7b48ae14",
       "max": 363,
       "min": 0,
       "orientation": "horizontal",
       "style": "IPY_MODEL_06d70754cb524d448c915e0282517f79",
       "value": 363
      }
     },
     "b4eb5b5b1a044dd5b145e1359e3bf70d": {
      "model_module": "@jupyter-widgets/controls",
      "model_module_version": "1.5.0",
      "model_name": "DescriptionStyleModel",
      "state": {
       "_model_module": "@jupyter-widgets/controls",
       "_model_module_version": "1.5.0",
       "_model_name": "DescriptionStyleModel",
       "_view_count": null,
       "_view_module": "@jupyter-widgets/base",
       "_view_module_version": "1.2.0",
       "_view_name": "StyleView",
       "description_width": ""
      }
     },
     "b53ff4f8591b4f8dbf0d5d24a6c635e0": {
      "model_module": "@jupyter-widgets/base",
      "model_module_version": "1.2.0",
      "model_name": "LayoutModel",
      "state": {
       "_model_module": "@jupyter-widgets/base",
       "_model_module_version": "1.2.0",
       "_model_name": "LayoutModel",
       "_view_count": null,
       "_view_module": "@jupyter-widgets/base",
       "_view_module_version": "1.2.0",
       "_view_name": "LayoutView",
       "align_content": null,
       "align_items": null,
       "align_self": null,
       "border": null,
       "bottom": null,
       "display": null,
       "flex": null,
       "flex_flow": null,
       "grid_area": null,
       "grid_auto_columns": null,
       "grid_auto_flow": null,
       "grid_auto_rows": null,
       "grid_column": null,
       "grid_gap": null,
       "grid_row": null,
       "grid_template_areas": null,
       "grid_template_columns": null,
       "grid_template_rows": null,
       "height": null,
       "justify_content": null,
       "justify_items": null,
       "left": null,
       "margin": null,
       "max_height": null,
       "max_width": null,
       "min_height": null,
       "min_width": null,
       "object_fit": null,
       "object_position": null,
       "order": null,
       "overflow": null,
       "overflow_x": null,
       "overflow_y": null,
       "padding": null,
       "right": null,
       "top": null,
       "visibility": null,
       "width": null
      }
     },
     "bd9868ef3fc34e32be6753efbb5fb0a7": {
      "model_module": "@jupyter-widgets/controls",
      "model_module_version": "1.5.0",
      "model_name": "HTMLModel",
      "state": {
       "_dom_classes": [],
       "_model_module": "@jupyter-widgets/controls",
       "_model_module_version": "1.5.0",
       "_model_name": "HTMLModel",
       "_view_count": null,
       "_view_module": "@jupyter-widgets/controls",
       "_view_module_version": "1.5.0",
       "_view_name": "HTMLView",
       "description": "",
       "description_tooltip": null,
       "layout": "IPY_MODEL_4608879c72f94e2fad40fb9933aec237",
       "placeholder": "​",
       "style": "IPY_MODEL_b4eb5b5b1a044dd5b145e1359e3bf70d",
       "value": " 456k/456k [00:00&lt;00:00, 20.6MB/s]"
      }
     },
     "be31fd5b67784e7cbbd9d02e68656783": {
      "model_module": "@jupyter-widgets/controls",
      "model_module_version": "1.5.0",
      "model_name": "HTMLModel",
      "state": {
       "_dom_classes": [],
       "_model_module": "@jupyter-widgets/controls",
       "_model_module_version": "1.5.0",
       "_model_name": "HTMLModel",
       "_view_count": null,
       "_view_module": "@jupyter-widgets/controls",
       "_view_module_version": "1.5.0",
       "_view_name": "HTMLView",
       "description": "",
       "description_tooltip": null,
       "layout": "IPY_MODEL_6a04a03e4d444b1f80650b6441f04735",
       "placeholder": "​",
       "style": "IPY_MODEL_3eb36c6805764d12890ccb3cb44d0bb0",
       "value": "Downloading model.safetensors: 100%"
      }
     },
     "c0225f2014fb49a4ab17c0cf534fc1da": {
      "model_module": "@jupyter-widgets/base",
      "model_module_version": "1.2.0",
      "model_name": "LayoutModel",
      "state": {
       "_model_module": "@jupyter-widgets/base",
       "_model_module_version": "1.2.0",
       "_model_name": "LayoutModel",
       "_view_count": null,
       "_view_module": "@jupyter-widgets/base",
       "_view_module_version": "1.2.0",
       "_view_name": "LayoutView",
       "align_content": null,
       "align_items": null,
       "align_self": null,
       "border": null,
       "bottom": null,
       "display": null,
       "flex": null,
       "flex_flow": null,
       "grid_area": null,
       "grid_auto_columns": null,
       "grid_auto_flow": null,
       "grid_auto_rows": null,
       "grid_column": null,
       "grid_gap": null,
       "grid_row": null,
       "grid_template_areas": null,
       "grid_template_columns": null,
       "grid_template_rows": null,
       "height": null,
       "justify_content": null,
       "justify_items": null,
       "left": null,
       "margin": null,
       "max_height": null,
       "max_width": null,
       "min_height": null,
       "min_width": null,
       "object_fit": null,
       "object_position": null,
       "order": null,
       "overflow": null,
       "overflow_x": null,
       "overflow_y": null,
       "padding": null,
       "right": null,
       "top": null,
       "visibility": null,
       "width": null
      }
     },
     "c505f078fbee4d5ca0f65af7cc234d69": {
      "model_module": "@jupyter-widgets/controls",
      "model_module_version": "1.5.0",
      "model_name": "HBoxModel",
      "state": {
       "_dom_classes": [],
       "_model_module": "@jupyter-widgets/controls",
       "_model_module_version": "1.5.0",
       "_model_name": "HBoxModel",
       "_view_count": null,
       "_view_module": "@jupyter-widgets/controls",
       "_view_module_version": "1.5.0",
       "_view_name": "HBoxView",
       "box_style": "",
       "children": [
        "IPY_MODEL_c7c970f319504f38a8b36f3bb3e533dc",
        "IPY_MODEL_b0ef00b0d3dd4b2787d2e7e8ff7cb221",
        "IPY_MODEL_8bb23ea3ea4149569a4eea9fb8cdafe0"
       ],
       "layout": "IPY_MODEL_ca9feef336ee4646a9f28ad1f104a534"
      }
     },
     "c7c970f319504f38a8b36f3bb3e533dc": {
      "model_module": "@jupyter-widgets/controls",
      "model_module_version": "1.5.0",
      "model_name": "HTMLModel",
      "state": {
       "_dom_classes": [],
       "_model_module": "@jupyter-widgets/controls",
       "_model_module_version": "1.5.0",
       "_model_name": "HTMLModel",
       "_view_count": null,
       "_view_module": "@jupyter-widgets/controls",
       "_view_module_version": "1.5.0",
       "_view_name": "HTMLView",
       "description": "",
       "description_tooltip": null,
       "layout": "IPY_MODEL_1f234c31749e42d0a6b09cd8a624a4ad",
       "placeholder": "​",
       "style": "IPY_MODEL_6e2b5a3fb8a549d1a229017de0f1b2c7",
       "value": "Downloading generation_config.json: 100%"
      }
     },
     "c8c4bc4992484c88b3c4fc40108f0ab2": {
      "model_module": "@jupyter-widgets/base",
      "model_module_version": "1.2.0",
      "model_name": "LayoutModel",
      "state": {
       "_model_module": "@jupyter-widgets/base",
       "_model_module_version": "1.2.0",
       "_model_name": "LayoutModel",
       "_view_count": null,
       "_view_module": "@jupyter-widgets/base",
       "_view_module_version": "1.2.0",
       "_view_name": "LayoutView",
       "align_content": null,
       "align_items": null,
       "align_self": null,
       "border": null,
       "bottom": null,
       "display": null,
       "flex": null,
       "flex_flow": null,
       "grid_area": null,
       "grid_auto_columns": null,
       "grid_auto_flow": null,
       "grid_auto_rows": null,
       "grid_column": null,
       "grid_gap": null,
       "grid_row": null,
       "grid_template_areas": null,
       "grid_template_columns": null,
       "grid_template_rows": null,
       "height": null,
       "justify_content": null,
       "justify_items": null,
       "left": null,
       "margin": null,
       "max_height": null,
       "max_width": null,
       "min_height": null,
       "min_width": null,
       "object_fit": null,
       "object_position": null,
       "order": null,
       "overflow": null,
       "overflow_x": null,
       "overflow_y": null,
       "padding": null,
       "right": null,
       "top": null,
       "visibility": null,
       "width": null
      }
     },
     "ca9feef336ee4646a9f28ad1f104a534": {
      "model_module": "@jupyter-widgets/base",
      "model_module_version": "1.2.0",
      "model_name": "LayoutModel",
      "state": {
       "_model_module": "@jupyter-widgets/base",
       "_model_module_version": "1.2.0",
       "_model_name": "LayoutModel",
       "_view_count": null,
       "_view_module": "@jupyter-widgets/base",
       "_view_module_version": "1.2.0",
       "_view_name": "LayoutView",
       "align_content": null,
       "align_items": null,
       "align_self": null,
       "border": null,
       "bottom": null,
       "display": null,
       "flex": null,
       "flex_flow": null,
       "grid_area": null,
       "grid_auto_columns": null,
       "grid_auto_flow": null,
       "grid_auto_rows": null,
       "grid_column": null,
       "grid_gap": null,
       "grid_row": null,
       "grid_template_areas": null,
       "grid_template_columns": null,
       "grid_template_rows": null,
       "height": null,
       "justify_content": null,
       "justify_items": null,
       "left": null,
       "margin": null,
       "max_height": null,
       "max_width": null,
       "min_height": null,
       "min_width": null,
       "object_fit": null,
       "object_position": null,
       "order": null,
       "overflow": null,
       "overflow_x": null,
       "overflow_y": null,
       "padding": null,
       "right": null,
       "top": null,
       "visibility": null,
       "width": null
      }
     },
     "cf8befcfdfd5481083d3be6b9ca746f8": {
      "model_module": "@jupyter-widgets/base",
      "model_module_version": "1.2.0",
      "model_name": "LayoutModel",
      "state": {
       "_model_module": "@jupyter-widgets/base",
       "_model_module_version": "1.2.0",
       "_model_name": "LayoutModel",
       "_view_count": null,
       "_view_module": "@jupyter-widgets/base",
       "_view_module_version": "1.2.0",
       "_view_name": "LayoutView",
       "align_content": null,
       "align_items": null,
       "align_self": null,
       "border": null,
       "bottom": null,
       "display": null,
       "flex": null,
       "flex_flow": null,
       "grid_area": null,
       "grid_auto_columns": null,
       "grid_auto_flow": null,
       "grid_auto_rows": null,
       "grid_column": null,
       "grid_gap": null,
       "grid_row": null,
       "grid_template_areas": null,
       "grid_template_columns": null,
       "grid_template_rows": null,
       "height": null,
       "justify_content": null,
       "justify_items": null,
       "left": null,
       "margin": null,
       "max_height": null,
       "max_width": null,
       "min_height": null,
       "min_width": null,
       "object_fit": null,
       "object_position": null,
       "order": null,
       "overflow": null,
       "overflow_x": null,
       "overflow_y": null,
       "padding": null,
       "right": null,
       "top": null,
       "visibility": null,
       "width": null
      }
     },
     "d0bb97d0170548a793b1886d7b48ae14": {
      "model_module": "@jupyter-widgets/base",
      "model_module_version": "1.2.0",
      "model_name": "LayoutModel",
      "state": {
       "_model_module": "@jupyter-widgets/base",
       "_model_module_version": "1.2.0",
       "_model_name": "LayoutModel",
       "_view_count": null,
       "_view_module": "@jupyter-widgets/base",
       "_view_module_version": "1.2.0",
       "_view_name": "LayoutView",
       "align_content": null,
       "align_items": null,
       "align_self": null,
       "border": null,
       "bottom": null,
       "display": null,
       "flex": null,
       "flex_flow": null,
       "grid_area": null,
       "grid_auto_columns": null,
       "grid_auto_flow": null,
       "grid_auto_rows": null,
       "grid_column": null,
       "grid_gap": null,
       "grid_row": null,
       "grid_template_areas": null,
       "grid_template_columns": null,
       "grid_template_rows": null,
       "height": null,
       "justify_content": null,
       "justify_items": null,
       "left": null,
       "margin": null,
       "max_height": null,
       "max_width": null,
       "min_height": null,
       "min_width": null,
       "object_fit": null,
       "object_position": null,
       "order": null,
       "overflow": null,
       "overflow_x": null,
       "overflow_y": null,
       "padding": null,
       "right": null,
       "top": null,
       "visibility": null,
       "width": null
      }
     },
     "d5f12f68faa14df8802dd580ed9c46f2": {
      "model_module": "@jupyter-widgets/controls",
      "model_module_version": "1.5.0",
      "model_name": "HTMLModel",
      "state": {
       "_dom_classes": [],
       "_model_module": "@jupyter-widgets/controls",
       "_model_module_version": "1.5.0",
       "_model_name": "HTMLModel",
       "_view_count": null,
       "_view_module": "@jupyter-widgets/controls",
       "_view_module_version": "1.5.0",
       "_view_name": "HTMLView",
       "description": "",
       "description_tooltip": null,
       "layout": "IPY_MODEL_e7cacec2190d4ded92a37171277d6eed",
       "placeholder": "​",
       "style": "IPY_MODEL_701714868efe46a08e5620d841a7bf7e",
       "value": "Downloading config.json: 100%"
      }
     },
     "d9037a1b05f547f5828c7539709cf80d": {
      "model_module": "@jupyter-widgets/controls",
      "model_module_version": "1.5.0",
      "model_name": "HTMLModel",
      "state": {
       "_dom_classes": [],
       "_model_module": "@jupyter-widgets/controls",
       "_model_module_version": "1.5.0",
       "_model_name": "HTMLModel",
       "_view_count": null,
       "_view_module": "@jupyter-widgets/controls",
       "_view_module_version": "1.5.0",
       "_view_name": "HTMLView",
       "description": "",
       "description_tooltip": null,
       "layout": "IPY_MODEL_daf5e04cf10a4c6fbea445ac61570084",
       "placeholder": "​",
       "style": "IPY_MODEL_ad2d44b0639446d0aababb8c0fba4cc1",
       "value": "Downloading tokenizer.json: 100%"
      }
     },
     "daf5e04cf10a4c6fbea445ac61570084": {
      "model_module": "@jupyter-widgets/base",
      "model_module_version": "1.2.0",
      "model_name": "LayoutModel",
      "state": {
       "_model_module": "@jupyter-widgets/base",
       "_model_module_version": "1.2.0",
       "_model_name": "LayoutModel",
       "_view_count": null,
       "_view_module": "@jupyter-widgets/base",
       "_view_module_version": "1.2.0",
       "_view_name": "LayoutView",
       "align_content": null,
       "align_items": null,
       "align_self": null,
       "border": null,
       "bottom": null,
       "display": null,
       "flex": null,
       "flex_flow": null,
       "grid_area": null,
       "grid_auto_columns": null,
       "grid_auto_flow": null,
       "grid_auto_rows": null,
       "grid_column": null,
       "grid_gap": null,
       "grid_row": null,
       "grid_template_areas": null,
       "grid_template_columns": null,
       "grid_template_rows": null,
       "height": null,
       "justify_content": null,
       "justify_items": null,
       "left": null,
       "margin": null,
       "max_height": null,
       "max_width": null,
       "min_height": null,
       "min_width": null,
       "object_fit": null,
       "object_position": null,
       "order": null,
       "overflow": null,
       "overflow_x": null,
       "overflow_y": null,
       "padding": null,
       "right": null,
       "top": null,
       "visibility": null,
       "width": null
      }
     },
     "db9e49ffeb56446fa63faccd33013521": {
      "model_module": "@jupyter-widgets/controls",
      "model_module_version": "1.5.0",
      "model_name": "DescriptionStyleModel",
      "state": {
       "_model_module": "@jupyter-widgets/controls",
       "_model_module_version": "1.5.0",
       "_model_name": "DescriptionStyleModel",
       "_view_count": null,
       "_view_module": "@jupyter-widgets/base",
       "_view_module_version": "1.2.0",
       "_view_name": "StyleView",
       "description_width": ""
      }
     },
     "dde62d9c08944d25a2a8feae0b2b0839": {
      "model_module": "@jupyter-widgets/controls",
      "model_module_version": "1.5.0",
      "model_name": "ProgressStyleModel",
      "state": {
       "_model_module": "@jupyter-widgets/controls",
       "_model_module_version": "1.5.0",
       "_model_name": "ProgressStyleModel",
       "_view_count": null,
       "_view_module": "@jupyter-widgets/base",
       "_view_module_version": "1.2.0",
       "_view_name": "StyleView",
       "bar_color": null,
       "description_width": ""
      }
     },
     "df00fe740dbb4b65afdba23189c0ea1e": {
      "model_module": "@jupyter-widgets/controls",
      "model_module_version": "1.5.0",
      "model_name": "HTMLModel",
      "state": {
       "_dom_classes": [],
       "_model_module": "@jupyter-widgets/controls",
       "_model_module_version": "1.5.0",
       "_model_name": "HTMLModel",
       "_view_count": null,
       "_view_module": "@jupyter-widgets/controls",
       "_view_module_version": "1.5.0",
       "_view_name": "HTMLView",
       "description": "",
       "description_tooltip": null,
       "layout": "IPY_MODEL_156132d1ef2146db91fd9595b010057e",
       "placeholder": "​",
       "style": "IPY_MODEL_31ec5176da0040599d6baf5c518a02e3",
       "value": " 5.60k/? [00:00&lt;00:00, 377kB/s]"
      }
     },
     "e00d8a6b2c204ccc8c87d0e513711aad": {
      "model_module": "@jupyter-widgets/controls",
      "model_module_version": "1.5.0",
      "model_name": "DescriptionStyleModel",
      "state": {
       "_model_module": "@jupyter-widgets/controls",
       "_model_module_version": "1.5.0",
       "_model_name": "DescriptionStyleModel",
       "_view_count": null,
       "_view_module": "@jupyter-widgets/base",
       "_view_module_version": "1.2.0",
       "_view_name": "StyleView",
       "description_width": ""
      }
     },
     "e2c67fbec4a947d2b60dd168a7568892": {
      "model_module": "@jupyter-widgets/controls",
      "model_module_version": "1.5.0",
      "model_name": "DescriptionStyleModel",
      "state": {
       "_model_module": "@jupyter-widgets/controls",
       "_model_module_version": "1.5.0",
       "_model_name": "DescriptionStyleModel",
       "_view_count": null,
       "_view_module": "@jupyter-widgets/base",
       "_view_module_version": "1.2.0",
       "_view_name": "StyleView",
       "description_width": ""
      }
     },
     "e59a909fb9314f1bbd78751e453e9e38": {
      "model_module": "@jupyter-widgets/controls",
      "model_module_version": "1.5.0",
      "model_name": "DescriptionStyleModel",
      "state": {
       "_model_module": "@jupyter-widgets/controls",
       "_model_module_version": "1.5.0",
       "_model_name": "DescriptionStyleModel",
       "_view_count": null,
       "_view_module": "@jupyter-widgets/base",
       "_view_module_version": "1.2.0",
       "_view_name": "StyleView",
       "description_width": ""
      }
     },
     "e7cacec2190d4ded92a37171277d6eed": {
      "model_module": "@jupyter-widgets/base",
      "model_module_version": "1.2.0",
      "model_name": "LayoutModel",
      "state": {
       "_model_module": "@jupyter-widgets/base",
       "_model_module_version": "1.2.0",
       "_model_name": "LayoutModel",
       "_view_count": null,
       "_view_module": "@jupyter-widgets/base",
       "_view_module_version": "1.2.0",
       "_view_name": "LayoutView",
       "align_content": null,
       "align_items": null,
       "align_self": null,
       "border": null,
       "bottom": null,
       "display": null,
       "flex": null,
       "flex_flow": null,
       "grid_area": null,
       "grid_auto_columns": null,
       "grid_auto_flow": null,
       "grid_auto_rows": null,
       "grid_column": null,
       "grid_gap": null,
       "grid_row": null,
       "grid_template_areas": null,
       "grid_template_columns": null,
       "grid_template_rows": null,
       "height": null,
       "justify_content": null,
       "justify_items": null,
       "left": null,
       "margin": null,
       "max_height": null,
       "max_width": null,
       "min_height": null,
       "min_width": null,
       "object_fit": null,
       "object_position": null,
       "order": null,
       "overflow": null,
       "overflow_x": null,
       "overflow_y": null,
       "padding": null,
       "right": null,
       "top": null,
       "visibility": null,
       "width": null
      }
     },
     "ebecc4b3f8b0470cb07ad2265706d731": {
      "model_module": "@jupyter-widgets/base",
      "model_module_version": "1.2.0",
      "model_name": "LayoutModel",
      "state": {
       "_model_module": "@jupyter-widgets/base",
       "_model_module_version": "1.2.0",
       "_model_name": "LayoutModel",
       "_view_count": null,
       "_view_module": "@jupyter-widgets/base",
       "_view_module_version": "1.2.0",
       "_view_name": "LayoutView",
       "align_content": null,
       "align_items": null,
       "align_self": null,
       "border": null,
       "bottom": null,
       "display": null,
       "flex": null,
       "flex_flow": null,
       "grid_area": null,
       "grid_auto_columns": null,
       "grid_auto_flow": null,
       "grid_auto_rows": null,
       "grid_column": null,
       "grid_gap": null,
       "grid_row": null,
       "grid_template_areas": null,
       "grid_template_columns": null,
       "grid_template_rows": null,
       "height": null,
       "justify_content": null,
       "justify_items": null,
       "left": null,
       "margin": null,
       "max_height": null,
       "max_width": null,
       "min_height": null,
       "min_width": null,
       "object_fit": null,
       "object_position": null,
       "order": null,
       "overflow": null,
       "overflow_x": null,
       "overflow_y": null,
       "padding": null,
       "right": null,
       "top": null,
       "visibility": null,
       "width": null
      }
     },
     "ebefa6d9947d46bb8841e3b13ef1fee0": {
      "model_module": "@jupyter-widgets/controls",
      "model_module_version": "1.5.0",
      "model_name": "HTMLModel",
      "state": {
       "_dom_classes": [],
       "_model_module": "@jupyter-widgets/controls",
       "_model_module_version": "1.5.0",
       "_model_name": "HTMLModel",
       "_view_count": null,
       "_view_module": "@jupyter-widgets/controls",
       "_view_module_version": "1.5.0",
       "_view_name": "HTMLView",
       "description": "",
       "description_tooltip": null,
       "layout": "IPY_MODEL_73b50e486c204c21b337501ab1366941",
       "placeholder": "​",
       "style": "IPY_MODEL_db9e49ffeb56446fa63faccd33013521",
       "value": " 1.63G/1.63G [00:07&lt;00:00, 225MB/s]"
      }
     },
     "ebfdc3791fe94034b9cc791b4aecc651": {
      "model_module": "@jupyter-widgets/controls",
      "model_module_version": "1.5.0",
      "model_name": "FloatProgressModel",
      "state": {
       "_dom_classes": [],
       "_model_module": "@jupyter-widgets/controls",
       "_model_module_version": "1.5.0",
       "_model_name": "FloatProgressModel",
       "_view_count": null,
       "_view_module": "@jupyter-widgets/controls",
       "_view_module_version": "1.5.0",
       "_view_name": "ProgressView",
       "bar_style": "success",
       "description": "",
       "description_tooltip": null,
       "layout": "IPY_MODEL_cf8befcfdfd5481083d3be6b9ca746f8",
       "max": 2160,
       "min": 0,
       "orientation": "horizontal",
       "style": "IPY_MODEL_dde62d9c08944d25a2a8feae0b2b0839",
       "value": 2160
      }
     },
     "f311937534c5428ca01ac64a6f171efc": {
      "model_module": "@jupyter-widgets/controls",
      "model_module_version": "1.5.0",
      "model_name": "ProgressStyleModel",
      "state": {
       "_model_module": "@jupyter-widgets/controls",
       "_model_module_version": "1.5.0",
       "_model_name": "ProgressStyleModel",
       "_view_count": null,
       "_view_module": "@jupyter-widgets/base",
       "_view_module_version": "1.2.0",
       "_view_name": "StyleView",
       "bar_color": null,
       "description_width": ""
      }
     },
     "f3ba660a1ded403c9f35c41766e6e85c": {
      "model_module": "@jupyter-widgets/controls",
      "model_module_version": "1.5.0",
      "model_name": "ProgressStyleModel",
      "state": {
       "_model_module": "@jupyter-widgets/controls",
       "_model_module_version": "1.5.0",
       "_model_name": "ProgressStyleModel",
       "_view_count": null,
       "_view_module": "@jupyter-widgets/base",
       "_view_module_version": "1.2.0",
       "_view_name": "StyleView",
       "bar_color": null,
       "description_width": ""
      }
     },
     "f7cda69a0dac442695acfeb93bd5eb55": {
      "model_module": "@jupyter-widgets/base",
      "model_module_version": "1.2.0",
      "model_name": "LayoutModel",
      "state": {
       "_model_module": "@jupyter-widgets/base",
       "_model_module_version": "1.2.0",
       "_model_name": "LayoutModel",
       "_view_count": null,
       "_view_module": "@jupyter-widgets/base",
       "_view_module_version": "1.2.0",
       "_view_name": "LayoutView",
       "align_content": null,
       "align_items": null,
       "align_self": null,
       "border": null,
       "bottom": null,
       "display": null,
       "flex": null,
       "flex_flow": null,
       "grid_area": null,
       "grid_auto_columns": null,
       "grid_auto_flow": null,
       "grid_auto_rows": null,
       "grid_column": null,
       "grid_gap": null,
       "grid_row": null,
       "grid_template_areas": null,
       "grid_template_columns": null,
       "grid_template_rows": null,
       "height": null,
       "justify_content": null,
       "justify_items": null,
       "left": null,
       "margin": null,
       "max_height": null,
       "max_width": null,
       "min_height": null,
       "min_width": null,
       "object_fit": null,
       "object_position": null,
       "order": null,
       "overflow": null,
       "overflow_x": null,
       "overflow_y": null,
       "padding": null,
       "right": null,
       "top": null,
       "visibility": null,
       "width": null
      }
     },
     "fd1dff3ba10f4e9f90b3ea35464f5e9a": {
      "model_module": "@jupyter-widgets/controls",
      "model_module_version": "1.5.0",
      "model_name": "DescriptionStyleModel",
      "state": {
       "_model_module": "@jupyter-widgets/controls",
       "_model_module_version": "1.5.0",
       "_model_name": "DescriptionStyleModel",
       "_view_count": null,
       "_view_module": "@jupyter-widgets/base",
       "_view_module_version": "1.2.0",
       "_view_name": "StyleView",
       "description_width": ""
      }
     },
     "fdc67965425c4418b49e8105a2009648": {
      "model_module": "@jupyter-widgets/controls",
      "model_module_version": "1.5.0",
      "model_name": "HBoxModel",
      "state": {
       "_dom_classes": [],
       "_model_module": "@jupyter-widgets/controls",
       "_model_module_version": "1.5.0",
       "_model_name": "HBoxModel",
       "_view_count": null,
       "_view_module": "@jupyter-widgets/controls",
       "_view_module_version": "1.5.0",
       "_view_name": "HBoxView",
       "box_style": "",
       "children": [
        "IPY_MODEL_107d263494ec4733b1df170baa2d53a1",
        "IPY_MODEL_05537a2fc1644db4839c8a86a8971c70",
        "IPY_MODEL_bd9868ef3fc34e32be6753efbb5fb0a7"
       ],
       "layout": "IPY_MODEL_3f2bf51af04a4ad7a3b15d18c572df2b"
      }
     }
    },
    "version_major": 2,
    "version_minor": 0
   }
  }
 },
 "nbformat": 4,
 "nbformat_minor": 5
}
