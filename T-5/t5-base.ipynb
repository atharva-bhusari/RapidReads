{
  "cells": [
    {
      "cell_type": "markdown",
      "source": [
        "### Importing required Packages"
      ],
      "metadata": {
        "id": "5ZWlik19Sixu"
      },
      "id": "5ZWlik19Sixu"
    },
    {
      "cell_type": "code",
      "execution_count": null,
      "id": "ea2d2eaf",
      "metadata": {
        "execution": {
          "iopub.execute_input": "2023-12-16T05:38:53.164019Z",
          "iopub.status.busy": "2023-12-16T05:38:53.163730Z",
          "iopub.status.idle": "2023-12-16T05:39:08.884871Z",
          "shell.execute_reply": "2023-12-16T05:39:08.883994Z"
        },
        "papermill": {
          "duration": 15.744008,
          "end_time": "2023-12-16T05:39:08.886869",
          "exception": false,
          "start_time": "2023-12-16T05:38:53.142861",
          "status": "completed"
        },
        "tags": [],
        "id": "ea2d2eaf",
        "outputId": "0b78b0b6-c497-4e3e-896f-ab47010dac67"
      },
      "outputs": [
        {
          "name": "stdout",
          "output_type": "stream",
          "text": [
            "Requirement already satisfied: wandb in /opt/conda/lib/python3.10/site-packages (0.16.0)\r\n",
            "Requirement already satisfied: Click!=8.0.0,>=7.1 in /opt/conda/lib/python3.10/site-packages (from wandb) (8.1.7)\r\n",
            "Requirement already satisfied: GitPython!=3.1.29,>=1.0.0 in /opt/conda/lib/python3.10/site-packages (from wandb) (3.1.32)\r\n",
            "Requirement already satisfied: requests<3,>=2.0.0 in /opt/conda/lib/python3.10/site-packages (from wandb) (2.31.0)\r\n",
            "Requirement already satisfied: psutil>=5.0.0 in /opt/conda/lib/python3.10/site-packages (from wandb) (5.9.3)\r\n",
            "Requirement already satisfied: sentry-sdk>=1.0.0 in /opt/conda/lib/python3.10/site-packages (from wandb) (1.34.0)\r\n",
            "Requirement already satisfied: docker-pycreds>=0.4.0 in /opt/conda/lib/python3.10/site-packages (from wandb) (0.4.0)\r\n",
            "Requirement already satisfied: PyYAML in /opt/conda/lib/python3.10/site-packages (from wandb) (6.0.1)\r\n",
            "Requirement already satisfied: setproctitle in /opt/conda/lib/python3.10/site-packages (from wandb) (1.3.3)\r\n",
            "Requirement already satisfied: setuptools in /opt/conda/lib/python3.10/site-packages (from wandb) (68.1.2)\r\n",
            "Requirement already satisfied: appdirs>=1.4.3 in /opt/conda/lib/python3.10/site-packages (from wandb) (1.4.4)\r\n",
            "Requirement already satisfied: protobuf!=4.21.0,<5,>=3.19.0 in /opt/conda/lib/python3.10/site-packages (from wandb) (3.20.3)\r\n",
            "Requirement already satisfied: six>=1.4.0 in /opt/conda/lib/python3.10/site-packages (from docker-pycreds>=0.4.0->wandb) (1.16.0)\r\n",
            "Requirement already satisfied: gitdb<5,>=4.0.1 in /opt/conda/lib/python3.10/site-packages (from GitPython!=3.1.29,>=1.0.0->wandb) (4.0.10)\r\n",
            "Requirement already satisfied: charset-normalizer<4,>=2 in /opt/conda/lib/python3.10/site-packages (from requests<3,>=2.0.0->wandb) (3.2.0)\r\n",
            "Requirement already satisfied: idna<4,>=2.5 in /opt/conda/lib/python3.10/site-packages (from requests<3,>=2.0.0->wandb) (3.4)\r\n",
            "Requirement already satisfied: urllib3<3,>=1.21.1 in /opt/conda/lib/python3.10/site-packages (from requests<3,>=2.0.0->wandb) (1.26.15)\r\n",
            "Requirement already satisfied: certifi>=2017.4.17 in /opt/conda/lib/python3.10/site-packages (from requests<3,>=2.0.0->wandb) (2023.7.22)\r\n",
            "Requirement already satisfied: smmap<6,>=3.0.1 in /opt/conda/lib/python3.10/site-packages (from gitdb<5,>=4.0.1->GitPython!=3.1.29,>=1.0.0->wandb) (5.0.0)\r\n"
          ]
        },
        {
          "name": "stderr",
          "output_type": "stream",
          "text": [
            "\u001b[34m\u001b[1mwandb\u001b[0m: W&B API key is configured. Use \u001b[1m`wandb login --relogin`\u001b[0m to force relogin\n",
            "\u001b[34m\u001b[1mwandb\u001b[0m: \u001b[33mWARNING\u001b[0m If you're specifying your api key in code, ensure this code is not shared publicly.\n",
            "\u001b[34m\u001b[1mwandb\u001b[0m: \u001b[33mWARNING\u001b[0m Consider setting the WANDB_API_KEY environment variable, or running `wandb login` from the command line.\n",
            "\u001b[34m\u001b[1mwandb\u001b[0m: Appending key for api.wandb.ai to your netrc file: /root/.netrc\n"
          ]
        },
        {
          "data": {
            "text/plain": [
              "True"
            ]
          },
          "execution_count": 1,
          "metadata": {},
          "output_type": "execute_result"
        }
      ],
      "source": [
        "!pip install wandb\n",
        "from kaggle_secrets import UserSecretsClient\n",
        "import wandb\n",
        "\n",
        "user_secrets = UserSecretsClient()\n",
        "\n",
        "# I have saved my API token with \"wandb_api\" as Label.\n",
        "# If you use some other Label make sure to change the same below.\n",
        "wandb_api = user_secrets.get_secret(\"wandb_api\")\n",
        "\n",
        "wandb.login(key=wandb_api)"
      ]
    },
    {
      "cell_type": "code",
      "execution_count": null,
      "id": "12143ff0",
      "metadata": {
        "execution": {
          "iopub.execute_input": "2023-12-16T05:39:08.927913Z",
          "iopub.status.busy": "2023-12-16T05:39:08.927078Z",
          "iopub.status.idle": "2023-12-16T05:39:26.610708Z",
          "shell.execute_reply": "2023-12-16T05:39:26.609607Z"
        },
        "id": "12143ff0",
        "outputId": "a7d3a2c8-f042-4155-801b-57bd4d21ff4d",
        "papermill": {
          "duration": 17.706094,
          "end_time": "2023-12-16T05:39:26.613047",
          "exception": false,
          "start_time": "2023-12-16T05:39:08.906953",
          "status": "completed"
        },
        "tags": []
      },
      "outputs": [
        {
          "name": "stdout",
          "output_type": "stream",
          "text": [
            "Requirement already satisfied: datasets in /opt/conda/lib/python3.10/site-packages (2.1.0)\r\n",
            "Requirement already satisfied: transformers in /opt/conda/lib/python3.10/site-packages (4.35.0)\r\n",
            "Collecting rouge-score\r\n",
            "  Downloading rouge_score-0.1.2.tar.gz (17 kB)\r\n",
            "  Preparing metadata (setup.py) ... \u001b[?25l-\b \bdone\r\n",
            "\u001b[?25hRequirement already satisfied: nltk in /opt/conda/lib/python3.10/site-packages (3.2.4)\r\n",
            "Requirement already satisfied: numpy>=1.17 in /opt/conda/lib/python3.10/site-packages (from datasets) (1.24.3)\r\n",
            "Requirement already satisfied: pyarrow>=5.0.0 in /opt/conda/lib/python3.10/site-packages (from datasets) (11.0.0)\r\n",
            "Requirement already satisfied: dill in /opt/conda/lib/python3.10/site-packages (from datasets) (0.3.7)\r\n",
            "Requirement already satisfied: pandas in /opt/conda/lib/python3.10/site-packages (from datasets) (2.0.3)\r\n",
            "Requirement already satisfied: requests>=2.19.0 in /opt/conda/lib/python3.10/site-packages (from datasets) (2.31.0)\r\n",
            "Requirement already satisfied: tqdm>=4.62.1 in /opt/conda/lib/python3.10/site-packages (from datasets) (4.66.1)\r\n",
            "Requirement already satisfied: xxhash in /opt/conda/lib/python3.10/site-packages (from datasets) (3.4.1)\r\n",
            "Requirement already satisfied: multiprocess in /opt/conda/lib/python3.10/site-packages (from datasets) (0.70.15)\r\n",
            "Requirement already satisfied: fsspec[http]>=2021.05.0 in /opt/conda/lib/python3.10/site-packages (from datasets) (2023.10.0)\r\n",
            "Requirement already satisfied: aiohttp in /opt/conda/lib/python3.10/site-packages (from datasets) (3.8.5)\r\n",
            "Requirement already satisfied: huggingface-hub<1.0.0,>=0.1.0 in /opt/conda/lib/python3.10/site-packages (from datasets) (0.17.3)\r\n",
            "Requirement already satisfied: packaging in /opt/conda/lib/python3.10/site-packages (from datasets) (21.3)\r\n",
            "Requirement already satisfied: responses<0.19 in /opt/conda/lib/python3.10/site-packages (from datasets) (0.18.0)\r\n",
            "Requirement already satisfied: filelock in /opt/conda/lib/python3.10/site-packages (from transformers) (3.12.2)\r\n",
            "Requirement already satisfied: pyyaml>=5.1 in /opt/conda/lib/python3.10/site-packages (from transformers) (6.0.1)\r\n",
            "Requirement already satisfied: regex!=2019.12.17 in /opt/conda/lib/python3.10/site-packages (from transformers) (2023.8.8)\r\n",
            "Requirement already satisfied: tokenizers<0.15,>=0.14 in /opt/conda/lib/python3.10/site-packages (from transformers) (0.14.1)\r\n",
            "Requirement already satisfied: safetensors>=0.3.1 in /opt/conda/lib/python3.10/site-packages (from transformers) (0.4.0)\r\n",
            "Requirement already satisfied: absl-py in /opt/conda/lib/python3.10/site-packages (from rouge-score) (1.4.0)\r\n",
            "Requirement already satisfied: six>=1.14.0 in /opt/conda/lib/python3.10/site-packages (from rouge-score) (1.16.0)\r\n",
            "Requirement already satisfied: attrs>=17.3.0 in /opt/conda/lib/python3.10/site-packages (from aiohttp->datasets) (23.1.0)\r\n",
            "Requirement already satisfied: charset-normalizer<4.0,>=2.0 in /opt/conda/lib/python3.10/site-packages (from aiohttp->datasets) (3.2.0)\r\n",
            "Requirement already satisfied: multidict<7.0,>=4.5 in /opt/conda/lib/python3.10/site-packages (from aiohttp->datasets) (6.0.4)\r\n",
            "Requirement already satisfied: async-timeout<5.0,>=4.0.0a3 in /opt/conda/lib/python3.10/site-packages (from aiohttp->datasets) (4.0.3)\r\n",
            "Requirement already satisfied: yarl<2.0,>=1.0 in /opt/conda/lib/python3.10/site-packages (from aiohttp->datasets) (1.9.2)\r\n",
            "Requirement already satisfied: frozenlist>=1.1.1 in /opt/conda/lib/python3.10/site-packages (from aiohttp->datasets) (1.4.0)\r\n",
            "Requirement already satisfied: aiosignal>=1.1.2 in /opt/conda/lib/python3.10/site-packages (from aiohttp->datasets) (1.3.1)\r\n",
            "Requirement already satisfied: typing-extensions>=3.7.4.3 in /opt/conda/lib/python3.10/site-packages (from huggingface-hub<1.0.0,>=0.1.0->datasets) (4.5.0)\r\n",
            "Requirement already satisfied: pyparsing!=3.0.5,>=2.0.2 in /opt/conda/lib/python3.10/site-packages (from packaging->datasets) (3.0.9)\r\n",
            "Requirement already satisfied: idna<4,>=2.5 in /opt/conda/lib/python3.10/site-packages (from requests>=2.19.0->datasets) (3.4)\r\n",
            "Requirement already satisfied: urllib3<3,>=1.21.1 in /opt/conda/lib/python3.10/site-packages (from requests>=2.19.0->datasets) (1.26.15)\r\n",
            "Requirement already satisfied: certifi>=2017.4.17 in /opt/conda/lib/python3.10/site-packages (from requests>=2.19.0->datasets) (2023.7.22)\r\n",
            "Requirement already satisfied: python-dateutil>=2.8.2 in /opt/conda/lib/python3.10/site-packages (from pandas->datasets) (2.8.2)\r\n",
            "Requirement already satisfied: pytz>=2020.1 in /opt/conda/lib/python3.10/site-packages (from pandas->datasets) (2023.3)\r\n",
            "Requirement already satisfied: tzdata>=2022.1 in /opt/conda/lib/python3.10/site-packages (from pandas->datasets) (2023.3)\r\n",
            "Building wheels for collected packages: rouge-score\r\n",
            "  Building wheel for rouge-score (setup.py) ... \u001b[?25l-\b \b\\\b \bdone\r\n",
            "\u001b[?25h  Created wheel for rouge-score: filename=rouge_score-0.1.2-py3-none-any.whl size=24932 sha256=c742f257b79887be015d31be672e391b1194d39c8e02eca051d17b6fe3e0278b\r\n",
            "  Stored in directory: /root/.cache/pip/wheels/5f/dd/89/461065a73be61a532ff8599a28e9beef17985c9e9c31e541b4\r\n",
            "Successfully built rouge-score\r\n",
            "Installing collected packages: rouge-score\r\n",
            "Successfully installed rouge-score-0.1.2\r\n"
          ]
        },
        {
          "name": "stderr",
          "output_type": "stream",
          "text": [
            "/opt/conda/lib/python3.10/site-packages/scipy/__init__.py:146: UserWarning: A NumPy version >=1.16.5 and <1.23.0 is required for this version of SciPy (detected version 1.24.3\n",
            "  warnings.warn(f\"A NumPy version >={np_minversion} and <{np_maxversion}\"\n"
          ]
        },
        {
          "name": "stdout",
          "output_type": "stream",
          "text": [
            "[nltk_data] Downloading package punkt to /usr/share/nltk_data...\n",
            "[nltk_data]   Package punkt is already up-to-date!\n"
          ]
        },
        {
          "data": {
            "text/plain": [
              "True"
            ]
          },
          "execution_count": 2,
          "metadata": {},
          "output_type": "execute_result"
        }
      ],
      "source": [
        "!pip install datasets transformers rouge-score nltk\n",
        "!pip install transformers[torch] accelerate -U\n",
        "\n",
        "import datasets\n",
        "from datasets import Dataset\n",
        "from datasets import load_dataset, load_metric\n",
        "\n",
        "import nltk\n",
        "nltk.download('punkt')\n",
        "\n",
        "import os\n",
        "import random\n",
        "import pandas as pd\n",
        "import numpy as np\n",
        "from sklearn.model_selection import train_test_split\n",
        "from IPython.display import display, HTML\n",
        "import matplotlib.pyplot as plt\n",
        "\n",
        "import torch\n",
        "from transformers import AutoTokenizer,T5Tokenizer, T5ForConditionalGeneration\n",
        "from transformers import pipeline\n",
        "from transformers import AutoModelForSeq2SeqLM, DataCollatorForSeq2Seq, Seq2SeqTrainingArguments, Seq2SeqTrainer\n",
        "\n",
        "import re\n",
        "from bs4 import BeautifulSoup"
      ]
    },
    {
      "cell_type": "markdown",
      "source": [
        "### Loading Data"
      ],
      "metadata": {
        "id": "HgYF1lVQSzOV"
      },
      "id": "HgYF1lVQSzOV"
    },
    {
      "cell_type": "code",
      "execution_count": null,
      "id": "a9bd5f8c",
      "metadata": {
        "execution": {
          "iopub.execute_input": "2023-12-16T05:39:44.814802Z",
          "iopub.status.busy": "2023-12-16T05:39:44.813795Z",
          "iopub.status.idle": "2023-12-16T05:39:45.778415Z",
          "shell.execute_reply": "2023-12-16T05:39:45.777401Z"
        },
        "id": "a9bd5f8c",
        "outputId": "3748e1b2-2273-439d-df32-907d5a39330c",
        "papermill": {
          "duration": 0.990178,
          "end_time": "2023-12-16T05:39:45.782002",
          "exception": false,
          "start_time": "2023-12-16T05:39:44.791824",
          "status": "completed"
        },
        "tags": []
      },
      "outputs": [
        {
          "data": {
            "text/html": [
              "<div>\n",
              "<style scoped>\n",
              "    .dataframe tbody tr th:only-of-type {\n",
              "        vertical-align: middle;\n",
              "    }\n",
              "\n",
              "    .dataframe tbody tr th {\n",
              "        vertical-align: top;\n",
              "    }\n",
              "\n",
              "    .dataframe thead th {\n",
              "        text-align: right;\n",
              "    }\n",
              "</style>\n",
              "<table border=\"1\" class=\"dataframe\">\n",
              "  <thead>\n",
              "    <tr style=\"text-align: right;\">\n",
              "      <th></th>\n",
              "      <th>text</th>\n",
              "      <th>summary1</th>\n",
              "      <th>summary2</th>\n",
              "    </tr>\n",
              "  </thead>\n",
              "  <tbody>\n",
              "    <tr>\n",
              "      <th>0</th>\n",
              "      <td>My boyfriend and I are long distance. We have ...</td>\n",
              "      <td>Mum is mad at me for not flying on my own tri...</td>\n",
              "      <td>I have made sure my mother is comfortable wit...</td>\n",
              "    </tr>\n",
              "    <tr>\n",
              "      <th>1</th>\n",
              "      <td>My landlord left a falsified message taped to ...</td>\n",
              "      <td>My landlord is harassing me and my neighbours...</td>\n",
              "      <td>landlord pretended to be another tenant and w...</td>\n",
              "    </tr>\n",
              "    <tr>\n",
              "      <th>2</th>\n",
              "      <td>A few months ago, I asked my RA if she wanted ...</td>\n",
              "      <td>RA owes me money, made me buy her toys in a f...</td>\n",
              "      <td>RA verbally abused me and I want to get her t...</td>\n",
              "    </tr>\n",
              "    <tr>\n",
              "      <th>3</th>\n",
              "      <td>1) I got a DWI in 2014\\n\\n2) I have a wonderfu...</td>\n",
              "      <td>10) On a scale from 1-10, how mad would you b...</td>\n",
              "      <td>I am stuck at work, my girlfriend is going to...</td>\n",
              "    </tr>\n",
              "    <tr>\n",
              "      <th>4</th>\n",
              "      <td>So my wedding dress arrived last week. I had s...</td>\n",
              "      <td>My dress looks different to how I wanted it, ...</td>\n",
              "      <td>My mother asked my dress maker to change the ...</td>\n",
              "    </tr>\n",
              "  </tbody>\n",
              "</table>\n",
              "</div>"
            ],
            "text/plain": [
              "                                                text  \\\n",
              "0  My boyfriend and I are long distance. We have ...   \n",
              "1  My landlord left a falsified message taped to ...   \n",
              "2  A few months ago, I asked my RA if she wanted ...   \n",
              "3  1) I got a DWI in 2014\\n\\n2) I have a wonderfu...   \n",
              "4  So my wedding dress arrived last week. I had s...   \n",
              "\n",
              "                                            summary1  \\\n",
              "0   Mum is mad at me for not flying on my own tri...   \n",
              "1   My landlord is harassing me and my neighbours...   \n",
              "2   RA owes me money, made me buy her toys in a f...   \n",
              "3   10) On a scale from 1-10, how mad would you b...   \n",
              "4   My dress looks different to how I wanted it, ...   \n",
              "\n",
              "                                            summary2  \n",
              "0   I have made sure my mother is comfortable wit...  \n",
              "1   landlord pretended to be another tenant and w...  \n",
              "2   RA verbally abused me and I want to get her t...  \n",
              "3   I am stuck at work, my girlfriend is going to...  \n",
              "4   My mother asked my dress maker to change the ...  "
            ]
          },
          "execution_count": 5,
          "metadata": {},
          "output_type": "execute_result"
        }
      ],
      "source": [
        "df = pd.read_csv('/kaggle/input/reddit-data/data.csv')\n",
        "df.head()"
      ]
    },
    {
      "cell_type": "code",
      "execution_count": null,
      "id": "c7158c58",
      "metadata": {
        "execution": {
          "iopub.execute_input": "2023-12-16T05:39:45.830383Z",
          "iopub.status.busy": "2023-12-16T05:39:45.830059Z",
          "iopub.status.idle": "2023-12-16T05:39:45.868285Z",
          "shell.execute_reply": "2023-12-16T05:39:45.867385Z"
        },
        "id": "c7158c58",
        "outputId": "2ebfea7f-9962-40e3-9821-2e1f931fd13c",
        "papermill": {
          "duration": 0.063405,
          "end_time": "2023-12-16T05:39:45.870709",
          "exception": false,
          "start_time": "2023-12-16T05:39:45.807304",
          "status": "completed"
        },
        "tags": []
      },
      "outputs": [
        {
          "data": {
            "text/plain": [
              "(20998, 3)"
            ]
          },
          "execution_count": 6,
          "metadata": {},
          "output_type": "execute_result"
        }
      ],
      "source": [
        "df.drop_duplicates(subset = ['text'], inplace = True)\n",
        "df.dropna(axis = 0, inplace = True)\n",
        "\n",
        "df.shape"
      ]
    },
    {
      "cell_type": "code",
      "execution_count": null,
      "id": "d1d02292",
      "metadata": {
        "execution": {
          "iopub.execute_input": "2023-12-16T05:39:45.931005Z",
          "iopub.status.busy": "2023-12-16T05:39:45.930668Z",
          "iopub.status.idle": "2023-12-16T05:39:45.947606Z",
          "shell.execute_reply": "2023-12-16T05:39:45.946837Z"
        },
        "id": "d1d02292",
        "papermill": {
          "duration": 0.050694,
          "end_time": "2023-12-16T05:39:45.949469",
          "exception": false,
          "start_time": "2023-12-16T05:39:45.898775",
          "status": "completed"
        },
        "tags": []
      },
      "outputs": [],
      "source": [
        "contraction_mapping = {\"ain't\": \"is not\", \"aren't\": \"are not\",\"can't\": \"cannot\", \"'cause\": \"because\", \"could've\": \"could have\",\n",
        "                       \"couldn't\": \"could not\", \"didn't\": \"did not\",  \"doesn't\": \"does not\", \"don't\": \"do not\", \"hadn't\": \"had not\",\n",
        "                       \"hasn't\": \"has not\", \"haven't\": \"have not\", \"he'd\": \"he would\",\"he'll\": \"he will\", \"he's\": \"he is\", \"how'd\": \"how did\",\n",
        "                       \"how'd'y\": \"how do you\", \"how'll\": \"how will\", \"how's\": \"how is\", \"I'd\": \"I would\", \"I'd've\": \"I would have\",\n",
        "                       \"I'll\": \"I will\", \"I'll've\": \"I will have\",\"I'm\": \"I am\", \"I've\": \"I have\", \"i'd\": \"i would\", \"i'd've\": \"i would have\",\n",
        "                       \"i'll\": \"i will\",  \"i'll've\": \"i will have\",\"i'm\": \"i am\", \"i've\": \"i have\", \"isn't\": \"is not\", \"it'd\": \"it would\",\n",
        "                       \"it'd've\": \"it would have\", \"it'll\": \"it will\", \"it'll've\": \"it will have\",\"it's\": \"it is\", \"let's\": \"let us\",\n",
        "                       \"ma'am\": \"madam\", \"mayn't\": \"may not\", \"might've\": \"might have\",\"mightn't\": \"might not\",\"mightn't've\": \"might not have\",\n",
        "                       \"must've\": \"must have\", \"mustn't\": \"must not\", \"mustn't've\": \"must not have\", \"needn't\": \"need not\",\n",
        "                       \"needn't've\": \"need not have\",\"o'clock\": \"of the clock\", \"oughtn't\": \"ought not\", \"oughtn't've\": \"ought not have\",\n",
        "                       \"shan't\": \"shall not\", \"sha'n't\": \"shall not\", \"shan't've\": \"shall not have\", \"she'd\": \"she would\",\n",
        "                       \"she'd've\": \"she would have\", \"she'll\": \"she will\", \"she'll've\": \"she will have\", \"she's\": \"she is\",\n",
        "                       \"should've\": \"should have\", \"shouldn't\": \"should not\", \"shouldn't've\": \"should not have\", \"so've\": \"so have\",\"so's\": \"so as\",\n",
        "                       \"this's\": \"this is\",\"that'd\": \"that would\", \"that'd've\": \"that would have\", \"that's\": \"that is\", \"there'd\": \"there would\",\n",
        "                       \"there'd've\": \"there would have\", \"there's\": \"there is\", \"here's\": \"here is\",\"they'd\": \"they would\",\n",
        "                       \"they'd've\": \"they would have\", \"they'll\": \"they will\", \"they'll've\": \"they will have\", \"they're\": \"they are\",\n",
        "                       \"they've\": \"they have\", \"to've\": \"to have\", \"wasn't\": \"was not\", \"we'd\": \"we would\", \"we'd've\": \"we would have\",\n",
        "                       \"we'll\": \"we will\", \"we'll've\": \"we will have\", \"we're\": \"we are\", \"we've\": \"we have\", \"weren't\": \"were not\",\n",
        "                       \"what'll\": \"what will\", \"what'll've\": \"what will have\", \"what're\": \"what are\", \"what's\": \"what is\", \"what've\": \"what have\",\n",
        "                       \"when's\": \"when is\", \"when've\": \"when have\", \"where'd\": \"where did\", \"where's\": \"where is\", \"where've\": \"where have\",\n",
        "                       \"who'll\": \"who will\", \"who'll've\": \"who will have\", \"who's\": \"who is\", \"who've\": \"who have\", \"why's\": \"why is\",\n",
        "                       \"why've\": \"why have\", \"will've\": \"will have\", \"won't\": \"will not\", \"won't've\": \"will not have\", \"would've\": \"would have\",\n",
        "                       \"wouldn't\": \"would not\", \"wouldn't've\": \"would not have\", \"y'all\": \"you all\", \"y'all'd\": \"you all would\",\n",
        "                       \"y'all'd've\": \"you all would have\",\"y'all're\": \"you all are\",\"y'all've\": \"you all have\", \"you'd\": \"you would\",\n",
        "                       \"you'd've\": \"you would have\", \"you'll\": \"you will\", \"you'll've\": \"you will have\", \"you're\": \"you are\", \"you've\": \"you have\"}"
      ]
    },
    {
      "cell_type": "markdown",
      "source": [
        "### Preprocessing Data"
      ],
      "metadata": {
        "id": "HkeT4Cs_S_lm"
      },
      "id": "HkeT4Cs_S_lm"
    },
    {
      "cell_type": "code",
      "execution_count": null,
      "id": "fdc8140d",
      "metadata": {
        "execution": {
          "iopub.execute_input": "2023-12-16T05:39:46.228151Z",
          "iopub.status.busy": "2023-12-16T05:39:46.227545Z",
          "iopub.status.idle": "2023-12-16T05:39:46.234082Z",
          "shell.execute_reply": "2023-12-16T05:39:46.233243Z"
        },
        "id": "fdc8140d",
        "papermill": {
          "duration": 0.030529,
          "end_time": "2023-12-16T05:39:46.235979",
          "exception": false,
          "start_time": "2023-12-16T05:39:46.205450",
          "status": "completed"
        },
        "tags": []
      },
      "outputs": [],
      "source": [
        "def text_cleaner(text):\n",
        "    string = text.lower()\n",
        "    string = BeautifulSoup(string, \"lxml\").text\n",
        "    string = re.sub(r'\\([^)]*\\)', '', string)\n",
        "    string = re.sub('\"', '', string)\n",
        "    string = ' '.join([contraction_mapping[t] if t in contraction_mapping else t for t in string.split(\" \")])\n",
        "    string = re.sub(r\"'s\\b\", \"\", string)\n",
        "    string = re.sub(r'\\.{2,}', ' ', string)\n",
        "    string = re.sub(\"[^a-zA-Z.]\", \" \", string)\n",
        "    string = re.sub(r'\\s+', ' ', string).strip()\n",
        "\n",
        "    return string"
      ]
    },
    {
      "cell_type": "code",
      "execution_count": null,
      "id": "87fc3bf0",
      "metadata": {
        "execution": {
          "iopub.execute_input": "2023-12-16T05:39:46.279683Z",
          "iopub.status.busy": "2023-12-16T05:39:46.279425Z",
          "iopub.status.idle": "2023-12-16T05:39:56.887373Z",
          "shell.execute_reply": "2023-12-16T05:39:56.886279Z"
        },
        "id": "87fc3bf0",
        "outputId": "32685edf-129b-4d65-9473-984dfdb33080",
        "papermill": {
          "duration": 10.632239,
          "end_time": "2023-12-16T05:39:56.889772",
          "exception": false,
          "start_time": "2023-12-16T05:39:46.257533",
          "status": "completed"
        },
        "tags": []
      },
      "outputs": [
        {
          "name": "stderr",
          "output_type": "stream",
          "text": [
            "/tmp/ipykernel_26/1628801636.py:3: MarkupResemblesLocatorWarning: The input looks more like a filename than markup. You may want to open this file and pass the filehandle into Beautiful Soup.\n",
            "  string = BeautifulSoup(string, \"lxml\").text\n"
          ]
        }
      ],
      "source": [
        "cleaned_texts = []\n",
        "\n",
        "for t in df['text']:\n",
        "    cleaned_texts.append(text_cleaner(t))"
      ]
    },
    {
      "cell_type": "code",
      "execution_count": null,
      "id": "7f771c97",
      "metadata": {
        "execution": {
          "iopub.execute_input": "2023-12-16T05:39:56.987071Z",
          "iopub.status.busy": "2023-12-16T05:39:56.986037Z",
          "iopub.status.idle": "2023-12-16T05:39:56.995990Z",
          "shell.execute_reply": "2023-12-16T05:39:56.995112Z"
        },
        "id": "7f771c97",
        "outputId": "93d819ca-8f03-4465-dc4f-0c0d4a1c3b45",
        "papermill": {
          "duration": 0.039072,
          "end_time": "2023-12-16T05:39:56.997836",
          "exception": false,
          "start_time": "2023-12-16T05:39:56.958764",
          "status": "completed"
        },
        "tags": []
      },
      "outputs": [
        {
          "data": {
            "text/plain": [
              "['my boyfriend and i are long distance. we have a trip planned this summer which involves me going over to him in the usa. this will be the second time i have actually been with him in person. i am flying from the uk with my mum to the east coast. the original plan was for me to fly over to my boyfriend in the west coast but because my mum was freaking out so much about me going to meet my boyfriend i said we can all road trip there together. i even invited her on the trip with us. i have given her all of our dates so that she can travel around with us. the plan was for me to stay on the th july and fly back on the th. mum knew this. i told her i had booked a flight back already from the west coast to east coast . she has gone mad at me because she cannot believe i would book a flight when she told me she did not want me flying on my own. at the time i had booked it she told me she was not gonna road trip with us. she knew the trip was happening how else was i to get home if i do not fly i am fine flying on my own it does not bother me at all. i feel like i have done everything i can to make her feel comfortable with this trip and she is just trying to sabotage it. thoughts',\n",
              " 'my landlord left a falsified message taped to my door for all neighbours to are pretending to be another tenant. evidence she used the same font and size that she uses for all her notes only she would know where we live and correlate it with where we park neighbours have no problem with us we requested from the property management group to have the video tapes looked at and they stated hey did not have time to go on a wild goose chase i want evidence hard evidence and they denied me. i want to pursue this further particularly with the human rights board of canada based in harrassment and predjusice that goes against the human rights code. the letter calls us assholes says we were raised in a barn says because we are young we should be more competent calls us pigs days we make all the neighbours sick. it is defamatory as it was pasted for everyone to see. also we were not born in canada. please see this website for your information on his situation. also this letter was taped on our door for everyone to see. it was prejudice and defamatory on many levels adressed in the the human rights code of manitoba. it was defamation of character for it to be visible to everyone. please see the following it is also contrary to the code for anyone responsible for rental housing to knowingly permit or fail to take reasonable steps to terminate harassment of one participant by another participant such as harassment of one tenant by another tenant.']"
            ]
          },
          "execution_count": 11,
          "metadata": {},
          "output_type": "execute_result"
        }
      ],
      "source": [
        "cleaned_texts[:2]"
      ]
    },
    {
      "cell_type": "code",
      "execution_count": null,
      "id": "b6b5c6a4",
      "metadata": {
        "execution": {
          "iopub.execute_input": "2023-12-16T05:39:57.043892Z",
          "iopub.status.busy": "2023-12-16T05:39:57.043542Z",
          "iopub.status.idle": "2023-12-16T05:40:01.768128Z",
          "shell.execute_reply": "2023-12-16T05:40:01.767355Z"
        },
        "id": "b6b5c6a4",
        "outputId": "c3e47e69-4366-4dda-ca2b-f3c463ec12f3",
        "papermill": {
          "duration": 4.749153,
          "end_time": "2023-12-16T05:40:01.770275",
          "exception": false,
          "start_time": "2023-12-16T05:39:57.021122",
          "status": "completed"
        },
        "tags": []
      },
      "outputs": [
        {
          "name": "stderr",
          "output_type": "stream",
          "text": [
            "/tmp/ipykernel_26/1628801636.py:3: MarkupResemblesLocatorWarning: The input looks more like a filename than markup. You may want to open this file and pass the filehandle into Beautiful Soup.\n",
            "  string = BeautifulSoup(string, \"lxml\").text\n"
          ]
        }
      ],
      "source": [
        "cleaned_summaries = []\n",
        "\n",
        "for s in df['summary1']:\n",
        "    cleaned_summaries.append(text_cleaner(s))"
      ]
    },
    {
      "cell_type": "code",
      "execution_count": null,
      "id": "acf4f2ad",
      "metadata": {
        "execution": {
          "iopub.execute_input": "2023-12-16T05:40:01.814738Z",
          "iopub.status.busy": "2023-12-16T05:40:01.814455Z",
          "iopub.status.idle": "2023-12-16T05:40:01.820065Z",
          "shell.execute_reply": "2023-12-16T05:40:01.819187Z"
        },
        "id": "acf4f2ad",
        "outputId": "d45927e9-5330-4ebc-ef4d-de33347478ee",
        "papermill": {
          "duration": 0.029635,
          "end_time": "2023-12-16T05:40:01.821939",
          "exception": false,
          "start_time": "2023-12-16T05:40:01.792304",
          "status": "completed"
        },
        "tags": []
      },
      "outputs": [
        {
          "data": {
            "text/plain": [
              "['mum is mad at me for not flying on my own trip to meet my boyfriend.',\n",
              " 'my landlord is harassing me and my neighbours with the same falsified leaflets that she has done in the past. we are seeking to have the evidence examined by the human rights board of canada.']"
            ]
          },
          "execution_count": 13,
          "metadata": {},
          "output_type": "execute_result"
        }
      ],
      "source": [
        "cleaned_summaries[:2]"
      ]
    },
    {
      "cell_type": "code",
      "execution_count": null,
      "id": "a1187912",
      "metadata": {
        "execution": {
          "iopub.execute_input": "2023-12-16T05:40:01.865981Z",
          "iopub.status.busy": "2023-12-16T05:40:01.865706Z",
          "iopub.status.idle": "2023-12-16T05:40:01.885386Z",
          "shell.execute_reply": "2023-12-16T05:40:01.884458Z"
        },
        "id": "a1187912",
        "outputId": "d4ae725f-77ba-4bfb-e755-0b351565a1af",
        "papermill": {
          "duration": 0.044145,
          "end_time": "2023-12-16T05:40:01.887514",
          "exception": false,
          "start_time": "2023-12-16T05:40:01.843369",
          "status": "completed"
        },
        "tags": []
      },
      "outputs": [
        {
          "data": {
            "text/html": [
              "<div>\n",
              "<style scoped>\n",
              "    .dataframe tbody tr th:only-of-type {\n",
              "        vertical-align: middle;\n",
              "    }\n",
              "\n",
              "    .dataframe tbody tr th {\n",
              "        vertical-align: top;\n",
              "    }\n",
              "\n",
              "    .dataframe thead th {\n",
              "        text-align: right;\n",
              "    }\n",
              "</style>\n",
              "<table border=\"1\" class=\"dataframe\">\n",
              "  <thead>\n",
              "    <tr style=\"text-align: right;\">\n",
              "      <th></th>\n",
              "      <th>text</th>\n",
              "      <th>summary</th>\n",
              "    </tr>\n",
              "  </thead>\n",
              "  <tbody>\n",
              "    <tr>\n",
              "      <th>0</th>\n",
              "      <td>my boyfriend and i are long distance. we have ...</td>\n",
              "      <td>mum is mad at me for not flying on my own trip...</td>\n",
              "    </tr>\n",
              "    <tr>\n",
              "      <th>1</th>\n",
              "      <td>my landlord left a falsified message taped to ...</td>\n",
              "      <td>my landlord is harassing me and my neighbours ...</td>\n",
              "    </tr>\n",
              "    <tr>\n",
              "      <th>2</th>\n",
              "      <td>a few months ago i asked my ra if she wanted t...</td>\n",
              "      <td>ra owes me money made me buy her toys in a fun...</td>\n",
              "    </tr>\n",
              "    <tr>\n",
              "      <th>3</th>\n",
              "      <td>i got a dwi in i have a wonderful girlfriend w...</td>\n",
              "      <td>on a scale from how mad would you be with you ...</td>\n",
              "    </tr>\n",
              "    <tr>\n",
              "      <th>4</th>\n",
              "      <td>so my wedding dress arrived last week. i had s...</td>\n",
              "      <td>my dress looks different to how i wanted it ho...</td>\n",
              "    </tr>\n",
              "  </tbody>\n",
              "</table>\n",
              "</div>"
            ],
            "text/plain": [
              "                                                text  \\\n",
              "0  my boyfriend and i are long distance. we have ...   \n",
              "1  my landlord left a falsified message taped to ...   \n",
              "2  a few months ago i asked my ra if she wanted t...   \n",
              "3  i got a dwi in i have a wonderful girlfriend w...   \n",
              "4  so my wedding dress arrived last week. i had s...   \n",
              "\n",
              "                                             summary  \n",
              "0  mum is mad at me for not flying on my own trip...  \n",
              "1  my landlord is harassing me and my neighbours ...  \n",
              "2  ra owes me money made me buy her toys in a fun...  \n",
              "3  on a scale from how mad would you be with you ...  \n",
              "4  my dress looks different to how i wanted it ho...  "
            ]
          },
          "execution_count": 14,
          "metadata": {},
          "output_type": "execute_result"
        }
      ],
      "source": [
        "cleaned_df = pd.DataFrame(columns=[\"text\", \"summary\"])\n",
        "cleaned_df[\"text\"] = cleaned_texts\n",
        "cleaned_df[\"summary\"] = cleaned_summaries\n",
        "\n",
        "cleaned_df.head()"
      ]
    },
    {
      "cell_type": "code",
      "execution_count": null,
      "id": "99c47f35",
      "metadata": {
        "execution": {
          "iopub.execute_input": "2023-12-16T05:40:01.934491Z",
          "iopub.status.busy": "2023-12-16T05:40:01.934201Z",
          "iopub.status.idle": "2023-12-16T05:40:01.953673Z",
          "shell.execute_reply": "2023-12-16T05:40:01.952839Z"
        },
        "id": "99c47f35",
        "outputId": "9a2867e5-4415-4ca3-b67b-1194479f204a",
        "papermill": {
          "duration": 0.043778,
          "end_time": "2023-12-16T05:40:01.955503",
          "exception": false,
          "start_time": "2023-12-16T05:40:01.911725",
          "status": "completed"
        },
        "tags": []
      },
      "outputs": [
        {
          "data": {
            "text/plain": [
              "(20987, 2)"
            ]
          },
          "execution_count": 15,
          "metadata": {},
          "output_type": "execute_result"
        }
      ],
      "source": [
        "cleaned_df.replace('', np.nan, inplace=True)\n",
        "cleaned_df.dropna(axis=0,inplace=True)\n",
        "\n",
        "cleaned_df.shape"
      ]
    },
    {
      "cell_type": "code",
      "execution_count": null,
      "id": "f4a64ba0",
      "metadata": {
        "execution": {
          "iopub.execute_input": "2023-12-16T05:40:02.006680Z",
          "iopub.status.busy": "2023-12-16T05:40:02.006324Z",
          "iopub.status.idle": "2023-12-16T05:40:03.000398Z",
          "shell.execute_reply": "2023-12-16T05:40:02.999508Z"
        },
        "id": "f4a64ba0",
        "outputId": "c40dd55b-8b05-4066-fad6-58d7e5307427",
        "papermill": {
          "duration": 1.023152,
          "end_time": "2023-12-16T05:40:03.002791",
          "exception": false,
          "start_time": "2023-12-16T05:40:01.979639",
          "status": "completed"
        },
        "tags": []
      },
      "outputs": [
        {
          "data": {
            "image/png": "[encoded data removed]",
            "text/plain": [
              "<Figure size 640x480 with 2 Axes>"
            ]
          },
          "metadata": {},
          "output_type": "display_data"
        }
      ],
      "source": [
        "text_word_count = []\n",
        "summary_word_count = []\n",
        "\n",
        "for i in df['text']:\n",
        "      text_word_count.append(len(i.split()))\n",
        "\n",
        "for i in df['summary1']:\n",
        "      summary_word_count.append(len(i.split()))\n",
        "\n",
        "length_df = pd.DataFrame({'text':text_word_count, 'summary':summary_word_count})\n",
        "\n",
        "length_df.hist(bins = 50)\n",
        "plt.show()"
      ]
    },
    {
      "cell_type": "markdown",
      "source": [
        "### Model Finetuning"
      ],
      "metadata": {
        "id": "YjKzWjxlTpTN"
      },
      "id": "YjKzWjxlTpTN"
    },
    {
      "cell_type": "code",
      "execution_count": null,
      "id": "f1e01324",
      "metadata": {
        "execution": {
          "iopub.execute_input": "2023-12-16T05:40:03.050831Z",
          "iopub.status.busy": "2023-12-16T05:40:03.050535Z",
          "iopub.status.idle": "2023-12-16T05:40:04.740593Z",
          "shell.execute_reply": "2023-12-16T05:40:04.739645Z"
        },
        "id": "f1e01324",
        "papermill": {
          "duration": 1.717181,
          "end_time": "2023-12-16T05:40:04.742875",
          "exception": false,
          "start_time": "2023-12-16T05:40:03.025694",
          "status": "completed"
        },
        "tags": [],
        "colab": {
          "referenced_widgets": [
            "e57fec6dafb34344ba2a96f78ca559d2",
            "4fb527b00b494c998657d5b31773890e",
            "92e3f593ffe04653bd24538bcc9d87e3"
          ]
        },
        "outputId": "dd36ae6c-95b5-400c-d632-7eae62567ecc"
      },
      "outputs": [
        {
          "data": {
            "application/vnd.jupyter.widget-view+json": {
              "model_id": "e57fec6dafb34344ba2a96f78ca559d2",
              "version_major": 2,
              "version_minor": 0
            },
            "text/plain": [
              "Downloading config.json:   0%|          | 0.00/1.21k [00:00<?, ?B/s]"
            ]
          },
          "metadata": {},
          "output_type": "display_data"
        },
        {
          "data": {
            "application/vnd.jupyter.widget-view+json": {
              "model_id": "4fb527b00b494c998657d5b31773890e",
              "version_major": 2,
              "version_minor": 0
            },
            "text/plain": [
              "Downloading spiece.model:   0%|          | 0.00/792k [00:00<?, ?B/s]"
            ]
          },
          "metadata": {},
          "output_type": "display_data"
        },
        {
          "data": {
            "application/vnd.jupyter.widget-view+json": {
              "model_id": "92e3f593ffe04653bd24538bcc9d87e3",
              "version_major": 2,
              "version_minor": 0
            },
            "text/plain": [
              "Downloading tokenizer.json:   0%|          | 0.00/1.39M [00:00<?, ?B/s]"
            ]
          },
          "metadata": {},
          "output_type": "display_data"
        },
        {
          "name": "stderr",
          "output_type": "stream",
          "text": [
            "/opt/conda/lib/python3.10/site-packages/transformers/models/t5/tokenization_t5_fast.py:160: FutureWarning: This tokenizer was incorrectly instantiated with a model max length of 512 which will be corrected in Transformers v5.\n",
            "For now, this behavior is kept to avoid breaking backwards compatibility when padding/encoding with `truncation is True`.\n",
            "- Be aware that you SHOULD NOT rely on t5-base automatically truncating your input to 512 when padding/encoding.\n",
            "- If you want to encode/pad to sequences longer than 512 you can either instantiate this tokenizer with `model_max_length` or pass `max_length` when encoding/padding.\n",
            "- To avoid this warning, please instantiate this tokenizer with `model_max_length` set to your preferred value.\n",
            "  warnings.warn(\n"
          ]
        }
      ],
      "source": [
        "pretrained_model = 't5-base'\n",
        "tokenizer = AutoTokenizer.from_pretrained(pretrained_model)"
      ]
    },
    {
      "cell_type": "code",
      "execution_count": null,
      "id": "6b41192e",
      "metadata": {
        "execution": {
          "iopub.execute_input": "2023-12-16T05:40:04.850213Z",
          "iopub.status.busy": "2023-12-16T05:40:04.849921Z",
          "iopub.status.idle": "2023-12-16T05:40:04.856116Z",
          "shell.execute_reply": "2023-12-16T05:40:04.855236Z"
        },
        "id": "6b41192e",
        "papermill": {
          "duration": 0.032718,
          "end_time": "2023-12-16T05:40:04.857848",
          "exception": false,
          "start_time": "2023-12-16T05:40:04.825130",
          "status": "completed"
        },
        "tags": []
      },
      "outputs": [],
      "source": [
        "prefix = 'summarize: '\n",
        "\n",
        "max_input_length = 400\n",
        "max_target_length = 50\n",
        "\n",
        "def make_model_data(data):\n",
        "    full_texts = [prefix + doc for doc in data['text']]\n",
        "\n",
        "    text = tokenizer(data['text'], max_length = max_input_length, truncation = True)\n",
        "\n",
        "    with tokenizer.as_target_tokenizer():\n",
        "        summary = tokenizer(data['summary'], max_length = max_target_length, truncation = True)\n",
        "\n",
        "    text[\"labels\"] = summary[\"input_ids\"]\n",
        "\n",
        "    return text"
      ]
    },
    {
      "cell_type": "code",
      "execution_count": null,
      "id": "3ba8d3a1",
      "metadata": {
        "execution": {
          "iopub.execute_input": "2023-12-16T05:40:04.905127Z",
          "iopub.status.busy": "2023-12-16T05:40:04.904859Z",
          "iopub.status.idle": "2023-12-16T05:40:04.915783Z",
          "shell.execute_reply": "2023-12-16T05:40:04.914872Z"
        },
        "id": "3ba8d3a1",
        "outputId": "5ddecae1-d246-46dc-ae8d-1a9d39c4b4e8",
        "papermill": {
          "duration": 0.036867,
          "end_time": "2023-12-16T05:40:04.917664",
          "exception": false,
          "start_time": "2023-12-16T05:40:04.880797",
          "status": "completed"
        },
        "tags": []
      },
      "outputs": [
        {
          "data": {
            "text/plain": [
              "((16789, 2), (4198, 2))"
            ]
          },
          "execution_count": 20,
          "metadata": {},
          "output_type": "execute_result"
        }
      ],
      "source": [
        "train_df, test_df = train_test_split(cleaned_df, test_size = 0.20, random_state = 42)\n",
        "train_df.shape, test_df.shape"
      ]
    },
    {
      "cell_type": "code",
      "execution_count": null,
      "id": "f8428c69",
      "metadata": {
        "execution": {
          "iopub.execute_input": "2023-12-16T05:40:04.965090Z",
          "iopub.status.busy": "2023-12-16T05:40:04.964813Z",
          "iopub.status.idle": "2023-12-16T05:40:05.058026Z",
          "shell.execute_reply": "2023-12-16T05:40:05.057035Z"
        },
        "id": "f8428c69",
        "outputId": "723e91a5-ba33-44a8-95d5-77cdfe673088",
        "papermill": {
          "duration": 0.119526,
          "end_time": "2023-12-16T05:40:05.060303",
          "exception": false,
          "start_time": "2023-12-16T05:40:04.940777",
          "status": "completed"
        },
        "tags": []
      },
      "outputs": [
        {
          "name": "stderr",
          "output_type": "stream",
          "text": [
            "/opt/conda/lib/python3.10/site-packages/pyarrow/pandas_compat.py:373: FutureWarning: is_sparse is deprecated and will be removed in a future version. Check `isinstance(dtype, pd.SparseDtype)` instead.\n",
            "  if _pandas_api.is_sparse(col):\n"
          ]
        },
        {
          "data": {
            "text/plain": [
              "(16789, 4198)"
            ]
          },
          "execution_count": 21,
          "metadata": {},
          "output_type": "execute_result"
        }
      ],
      "source": [
        "train_dataset = Dataset.from_pandas(train_df)\n",
        "test_dataset = Dataset.from_pandas(test_df)\n",
        "\n",
        "len(train_dataset), len(test_dataset)"
      ]
    },
    {
      "cell_type": "code",
      "execution_count": null,
      "id": "5cd16e8b",
      "metadata": {
        "execution": {
          "iopub.execute_input": "2023-12-16T05:40:05.109447Z",
          "iopub.status.busy": "2023-12-16T05:40:05.108786Z",
          "iopub.status.idle": "2023-12-16T05:40:05.116577Z",
          "shell.execute_reply": "2023-12-16T05:40:05.115734Z"
        },
        "id": "5cd16e8b",
        "outputId": "126ccee2-cc5f-4ecd-cddd-f8e61e61bb2d",
        "papermill": {
          "duration": 0.033945,
          "end_time": "2023-12-16T05:40:05.118322",
          "exception": false,
          "start_time": "2023-12-16T05:40:05.084377",
          "status": "completed"
        },
        "tags": []
      },
      "outputs": [
        {
          "data": {
            "text/plain": [
              "{'text': 'so here is the situation my girlfriend is living with her mother brother and her brother girlfriend . freeloader has her own apartment but basically just uses it as a storage room. she spends every night at my girlfirend place eats their food uses their utilities etc etc. she does no housework or help out with anything at all and does not pay rent. that is right no rent. why mom thinks her son and freeloader will get married and does not want either of them to be upset at her etc so she does not confront the issue or let her daughter say anything even though they are noticeably annoyed uncomfortable with the situation. it a lot worse than this in fact i am making freeloader look good here. i really want to confront freeloader about all this but this not being my house makes that fairly impossible since i do not want her family to be upset with me none of my business and all that but this is reckless.',\n",
              " 'summary': 'i want to confront freeloader about all the stuff she does on my girlfriend dime but i do not know how to do that.',\n",
              " '__index_level_0__': 12249}"
            ]
          },
          "execution_count": 22,
          "metadata": {},
          "output_type": "execute_result"
        }
      ],
      "source": [
        "train_dataset[0]"
      ]
    },
    {
      "cell_type": "code",
      "execution_count": null,
      "id": "1b8c1f06",
      "metadata": {
        "execution": {
          "iopub.execute_input": "2023-12-16T05:40:05.167326Z",
          "iopub.status.busy": "2023-12-16T05:40:05.167046Z",
          "iopub.status.idle": "2023-12-16T05:40:05.179284Z",
          "shell.execute_reply": "2023-12-16T05:40:05.178340Z"
        },
        "id": "1b8c1f06",
        "outputId": "4dc9d017-69a3-40db-e76f-cd83eafe0ed4",
        "papermill": {
          "duration": 0.03912,
          "end_time": "2023-12-16T05:40:05.181275",
          "exception": false,
          "start_time": "2023-12-16T05:40:05.142155",
          "status": "completed"
        },
        "tags": []
      },
      "outputs": [
        {
          "name": "stderr",
          "output_type": "stream",
          "text": [
            "/opt/conda/lib/python3.10/site-packages/transformers/tokenization_utils_base.py:3856: UserWarning: `as_target_tokenizer` is deprecated and will be removed in v5 of Transformers. You can tokenize your labels by using the argument `text_target` of the regular `__call__` method (either in the same call as your input texts if you use the same keyword arguments, or in a separate call.\n",
            "  warnings.warn(\n"
          ]
        },
        {
          "data": {
            "text/plain": [
              "{'input_ids': [[21603, 10, 78, 270, 19, 8, 1419, 82, 17442, 19, 840, 28, 160, 2039, 4284, 11, 160, 4284, 17442, 3, 5, 339, 7134, 49, 65, 160, 293, 4579, 68, 6171, 131, 2284, 34, 38, 3, 9, 1606, 562, 5, 255, 1492, 7, 334, 706, 44, 82, 3202, 6608, 727, 286, 3, 1544, 7, 70, 542, 2284, 70, 17930, 672, 672, 5, 255, 405, 150, 629, 1981, 42, 199, 91, 28, 959, 44, 66, 11, 405, 59, 726, 3170, 5, 24, 19, 269, 150, 3170, 5, 572, 3912, 317, 7, 160, 520, 11, 339, 7134, 49, 56, 129, 4464, 11, 405, 59, 241, 893, 13, 135, 12, 36, 13423, 44, 160, 672, 78, 255, 405, 59, 11230, 8, 962, 42, 752, 160, 3062, 497, 959, 237, 713, 79, 33, 2103, 3834, 30276, 14209, 28, 8, 1419, 5, 34, 3, 9, 418, 4131, 145, 48, 16, 685, 3, 23, 183, 492, 339, 7134, 49, 320, 207, 270, 5, 3, 23, 310, 241, 12, 11230, 339, 7134, 49, 81, 66, 48, 68, 48, 59, 271, 82, 629, 656, 24, 5163, 4586, 437, 3, 23, 103, 59, 241, 160, 384, 12, 36, 13423, 28, 140, 5839, 13, 82, 268, 11, 66, 24, 68, 48, 19, 28933, 5, 1]], 'attention_mask': [[1, 1, 1, 1, 1, 1, 1, 1, 1, 1, 1, 1, 1, 1, 1, 1, 1, 1, 1, 1, 1, 1, 1, 1, 1, 1, 1, 1, 1, 1, 1, 1, 1, 1, 1, 1, 1, 1, 1, 1, 1, 1, 1, 1, 1, 1, 1, 1, 1, 1, 1, 1, 1, 1, 1, 1, 1, 1, 1, 1, 1, 1, 1, 1, 1, 1, 1, 1, 1, 1, 1, 1, 1, 1, 1, 1, 1, 1, 1, 1, 1, 1, 1, 1, 1, 1, 1, 1, 1, 1, 1, 1, 1, 1, 1, 1, 1, 1, 1, 1, 1, 1, 1, 1, 1, 1, 1, 1, 1, 1, 1, 1, 1, 1, 1, 1, 1, 1, 1, 1, 1, 1, 1, 1, 1, 1, 1, 1, 1, 1, 1, 1, 1, 1, 1, 1, 1, 1, 1, 1, 1, 1, 1, 1, 1, 1, 1, 1, 1, 1, 1, 1, 1, 1, 1, 1, 1, 1, 1, 1, 1, 1, 1, 1, 1, 1, 1, 1, 1, 1, 1, 1, 1, 1, 1, 1, 1, 1, 1, 1, 1, 1, 1, 1, 1, 1, 1, 1, 1, 1, 1, 1, 1, 1, 1, 1, 1, 1, 1, 1, 1, 1, 1, 1]], 'labels': [[3, 23, 241, 12, 11230, 339, 7134, 49, 81, 66, 8, 2005, 255, 405, 30, 82, 17442, 15688, 15, 68, 3, 23, 103, 59, 214, 149, 12, 103, 24, 5, 1]]}"
            ]
          },
          "execution_count": 23,
          "metadata": {},
          "output_type": "execute_result"
        }
      ],
      "source": [
        "make_model_data(train_dataset[:1])"
      ]
    },
    {
      "cell_type": "code",
      "execution_count": null,
      "id": "96ac0498",
      "metadata": {
        "execution": {
          "iopub.execute_input": "2023-12-16T05:40:05.231018Z",
          "iopub.status.busy": "2023-12-16T05:40:05.230747Z",
          "iopub.status.idle": "2023-12-16T05:40:16.071836Z",
          "shell.execute_reply": "2023-12-16T05:40:16.070975Z"
        },
        "id": "96ac0498",
        "outputId": "6afa41f6-a314-4e44-a67b-f9a28153fe1b",
        "papermill": {
          "duration": 10.868725,
          "end_time": "2023-12-16T05:40:16.073882",
          "exception": false,
          "start_time": "2023-12-16T05:40:05.205157",
          "status": "completed"
        },
        "tags": [],
        "colab": {
          "referenced_widgets": [
            "1a7ce3065a4f45469ef8ec1eda2f6213",
            "9d23cccd6ace40caa752cfa28ed10ae4"
          ]
        }
      },
      "outputs": [
        {
          "data": {
            "application/vnd.jupyter.widget-view+json": {
              "model_id": "1a7ce3065a4f45469ef8ec1eda2f6213",
              "version_major": 2,
              "version_minor": 0
            },
            "text/plain": [
              "  0%|          | 0/17 [00:00<?, ?ba/s]"
            ]
          },
          "metadata": {},
          "output_type": "display_data"
        },
        {
          "data": {
            "application/vnd.jupyter.widget-view+json": {
              "model_id": "9d23cccd6ace40caa752cfa28ed10ae4",
              "version_major": 2,
              "version_minor": 0
            },
            "text/plain": [
              "  0%|          | 0/5 [00:00<?, ?ba/s]"
            ]
          },
          "metadata": {},
          "output_type": "display_data"
        }
      ],
      "source": [
        "tokenized_train_data = train_dataset.map(make_model_data, batched = True)\n",
        "tokenized_test_data = test_dataset.map(make_model_data, batched = True)"
      ]
    },
    {
      "cell_type": "code",
      "execution_count": null,
      "id": "9babec42",
      "metadata": {
        "execution": {
          "iopub.execute_input": "2023-12-16T05:40:16.134958Z",
          "iopub.status.busy": "2023-12-16T05:40:16.134630Z",
          "iopub.status.idle": "2023-12-16T05:40:16.141173Z",
          "shell.execute_reply": "2023-12-16T05:40:16.140219Z"
        },
        "id": "9babec42",
        "outputId": "354b2e79-212a-4eb0-b68e-a47630addb5f",
        "papermill": {
          "duration": 0.038698,
          "end_time": "2023-12-16T05:40:16.143304",
          "exception": false,
          "start_time": "2023-12-16T05:40:16.104606",
          "status": "completed"
        },
        "tags": []
      },
      "outputs": [
        {
          "data": {
            "text/plain": [
              "(16789, 4198)"
            ]
          },
          "execution_count": 25,
          "metadata": {},
          "output_type": "execute_result"
        }
      ],
      "source": [
        "len(tokenized_train_data), len(tokenized_test_data)"
      ]
    },
    {
      "cell_type": "code",
      "execution_count": null,
      "id": "c4ebc210",
      "metadata": {
        "execution": {
          "iopub.execute_input": "2023-12-16T05:40:16.203163Z",
          "iopub.status.busy": "2023-12-16T05:40:16.202207Z",
          "iopub.status.idle": "2023-12-16T05:40:16.209867Z",
          "shell.execute_reply": "2023-12-16T05:40:16.208780Z"
        },
        "id": "c4ebc210",
        "outputId": "655b2cca-5cb2-4313-87ef-9926b4d2d354",
        "papermill": {
          "duration": 0.039805,
          "end_time": "2023-12-16T05:40:16.212080",
          "exception": false,
          "start_time": "2023-12-16T05:40:16.172275",
          "status": "completed"
        },
        "tags": []
      },
      "outputs": [
        {
          "name": "stdout",
          "output_type": "stream",
          "text": [
            "dict_keys(['text', 'summary', '__index_level_0__', 'input_ids', 'attention_mask', 'labels'])\n",
            "{'text': 'so here is the situation my girlfriend is living with her mother brother and her brother girlfriend . freeloader has her own apartment but basically just uses it as a storage room. she spends every night at my girlfirend place eats their food uses their utilities etc etc. she does no housework or help out with anything at all and does not pay rent. that is right no rent. why mom thinks her son and freeloader will get married and does not want either of them to be upset at her etc so she does not confront the issue or let her daughter say anything even though they are noticeably annoyed uncomfortable with the situation. it a lot worse than this in fact i am making freeloader look good here. i really want to confront freeloader about all this but this not being my house makes that fairly impossible since i do not want her family to be upset with me none of my business and all that but this is reckless.', 'summary': 'i want to confront freeloader about all the stuff she does on my girlfriend dime but i do not know how to do that.', '__index_level_0__': 12249, 'input_ids': [21603, 10, 78, 270, 19, 8, 1419, 82, 17442, 19, 840, 28, 160, 2039, 4284, 11, 160, 4284, 17442, 3, 5, 339, 7134, 49, 65, 160, 293, 4579, 68, 6171, 131, 2284, 34, 38, 3, 9, 1606, 562, 5, 255, 1492, 7, 334, 706, 44, 82, 3202, 6608, 727, 286, 3, 1544, 7, 70, 542, 2284, 70, 17930, 672, 672, 5, 255, 405, 150, 629, 1981, 42, 199, 91, 28, 959, 44, 66, 11, 405, 59, 726, 3170, 5, 24, 19, 269, 150, 3170, 5, 572, 3912, 317, 7, 160, 520, 11, 339, 7134, 49, 56, 129, 4464, 11, 405, 59, 241, 893, 13, 135, 12, 36, 13423, 44, 160, 672, 78, 255, 405, 59, 11230, 8, 962, 42, 752, 160, 3062, 497, 959, 237, 713, 79, 33, 2103, 3834, 30276, 14209, 28, 8, 1419, 5, 34, 3, 9, 418, 4131, 145, 48, 16, 685, 3, 23, 183, 492, 339, 7134, 49, 320, 207, 270, 5, 3, 23, 310, 241, 12, 11230, 339, 7134, 49, 81, 66, 48, 68, 48, 59, 271, 82, 629, 656, 24, 5163, 4586, 437, 3, 23, 103, 59, 241, 160, 384, 12, 36, 13423, 28, 140, 5839, 13, 82, 268, 11, 66, 24, 68, 48, 19, 28933, 5, 1], 'attention_mask': [1, 1, 1, 1, 1, 1, 1, 1, 1, 1, 1, 1, 1, 1, 1, 1, 1, 1, 1, 1, 1, 1, 1, 1, 1, 1, 1, 1, 1, 1, 1, 1, 1, 1, 1, 1, 1, 1, 1, 1, 1, 1, 1, 1, 1, 1, 1, 1, 1, 1, 1, 1, 1, 1, 1, 1, 1, 1, 1, 1, 1, 1, 1, 1, 1, 1, 1, 1, 1, 1, 1, 1, 1, 1, 1, 1, 1, 1, 1, 1, 1, 1, 1, 1, 1, 1, 1, 1, 1, 1, 1, 1, 1, 1, 1, 1, 1, 1, 1, 1, 1, 1, 1, 1, 1, 1, 1, 1, 1, 1, 1, 1, 1, 1, 1, 1, 1, 1, 1, 1, 1, 1, 1, 1, 1, 1, 1, 1, 1, 1, 1, 1, 1, 1, 1, 1, 1, 1, 1, 1, 1, 1, 1, 1, 1, 1, 1, 1, 1, 1, 1, 1, 1, 1, 1, 1, 1, 1, 1, 1, 1, 1, 1, 1, 1, 1, 1, 1, 1, 1, 1, 1, 1, 1, 1, 1, 1, 1, 1, 1, 1, 1, 1, 1, 1, 1, 1, 1, 1, 1, 1, 1, 1, 1, 1, 1, 1, 1, 1, 1, 1, 1, 1, 1], 'labels': [3, 23, 241, 12, 11230, 339, 7134, 49, 81, 66, 8, 2005, 255, 405, 30, 82, 17442, 15688, 15, 68, 3, 23, 103, 59, 214, 149, 12, 103, 24, 5, 1]}\n"
          ]
        }
      ],
      "source": [
        "print(tokenized_train_data[0].keys())\n",
        "print(tokenized_test_data[0])"
      ]
    },
    {
      "cell_type": "code",
      "execution_count": null,
      "id": "4cc2fca7",
      "metadata": {
        "execution": {
          "iopub.execute_input": "2023-12-16T05:40:16.266644Z",
          "iopub.status.busy": "2023-12-16T05:40:16.266303Z",
          "iopub.status.idle": "2023-12-16T05:40:23.898439Z",
          "shell.execute_reply": "2023-12-16T05:40:23.897670Z"
        },
        "id": "4cc2fca7",
        "outputId": "572b4ab0-b680-4b86-b328-04177e67b148",
        "papermill": {
          "duration": 7.661615,
          "end_time": "2023-12-16T05:40:23.900518",
          "exception": false,
          "start_time": "2023-12-16T05:40:16.238903",
          "status": "completed"
        },
        "tags": [],
        "colab": {
          "referenced_widgets": [
            "ed77e082b93941a69130c156e36cfaa8",
            "b986b7b1ae924e4c9290d0ca57975e81",
            "2e233d16073848a3b92dede69c193eeb"
          ]
        }
      },
      "outputs": [
        {
          "data": {
            "application/vnd.jupyter.widget-view+json": {
              "model_id": "ed77e082b93941a69130c156e36cfaa8",
              "version_major": 2,
              "version_minor": 0
            },
            "text/plain": [
              "Downloading builder script:   0%|          | 0.00/2.16k [00:00<?, ?B/s]"
            ]
          },
          "metadata": {},
          "output_type": "display_data"
        },
        {
          "data": {
            "application/vnd.jupyter.widget-view+json": {
              "model_id": "b986b7b1ae924e4c9290d0ca57975e81",
              "version_major": 2,
              "version_minor": 0
            },
            "text/plain": [
              "Downloading model.safetensors:   0%|          | 0.00/892M [00:00<?, ?B/s]"
            ]
          },
          "metadata": {},
          "output_type": "display_data"
        },
        {
          "data": {
            "application/vnd.jupyter.widget-view+json": {
              "model_id": "2e233d16073848a3b92dede69c193eeb",
              "version_major": 2,
              "version_minor": 0
            },
            "text/plain": [
              "Downloading generation_config.json:   0%|          | 0.00/147 [00:00<?, ?B/s]"
            ]
          },
          "metadata": {},
          "output_type": "display_data"
        }
      ],
      "source": [
        "eval_metric = load_metric(\"rouge\")\n",
        "summary_model = AutoModelForSeq2SeqLM.from_pretrained(pretrained_model)"
      ]
    },
    {
      "cell_type": "code",
      "execution_count": null,
      "id": "ee206b00",
      "metadata": {
        "execution": {
          "iopub.execute_input": "2023-12-16T05:40:23.955246Z",
          "iopub.status.busy": "2023-12-16T05:40:23.954939Z",
          "iopub.status.idle": "2023-12-16T05:40:23.960392Z",
          "shell.execute_reply": "2023-12-16T05:40:23.959488Z"
        },
        "id": "ee206b00",
        "papermill": {
          "duration": 0.033844,
          "end_time": "2023-12-16T05:40:23.962319",
          "exception": false,
          "start_time": "2023-12-16T05:40:23.928475",
          "status": "completed"
        },
        "tags": []
      },
      "outputs": [],
      "source": [
        "def generate_summary(summarizer_object, text, min_length = 10, max_length = 50):\n",
        "    summary = [elem['summary_text'] for elem in summarizer_object(text, min_length = min_length, max_length = max_length)]\n",
        "    display(HTML(pd.DataFrame({\"text\":text, \"summary\":summary}).to_html()))"
      ]
    },
    {
      "cell_type": "code",
      "execution_count": null,
      "id": "88122b36",
      "metadata": {
        "execution": {
          "iopub.execute_input": "2023-12-16T05:40:24.017497Z",
          "iopub.status.busy": "2023-12-16T05:40:24.017145Z",
          "iopub.status.idle": "2023-12-16T05:40:29.605605Z",
          "shell.execute_reply": "2023-12-16T05:40:29.604560Z"
        },
        "id": "88122b36",
        "papermill": {
          "duration": 5.620167,
          "end_time": "2023-12-16T05:40:29.609036",
          "exception": false,
          "start_time": "2023-12-16T05:40:23.988869",
          "status": "completed"
        },
        "tags": []
      },
      "outputs": [],
      "source": [
        "summarizer_wo_finetune = pipeline(\"summarization\", model = summary_model, tokenizer = tokenizer, device = 0)"
      ]
    },
    {
      "cell_type": "code",
      "execution_count": null,
      "id": "891069ce",
      "metadata": {
        "execution": {
          "iopub.execute_input": "2023-12-16T05:40:29.667954Z",
          "iopub.status.busy": "2023-12-16T05:40:29.667209Z",
          "iopub.status.idle": "2023-12-16T05:40:32.227202Z",
          "shell.execute_reply": "2023-12-16T05:40:32.226177Z"
        },
        "id": "891069ce",
        "outputId": "7896f6c6-ddbc-468c-bba7-2a33374f1a65",
        "papermill": {
          "duration": 2.589506,
          "end_time": "2023-12-16T05:40:32.229369",
          "exception": false,
          "start_time": "2023-12-16T05:40:29.639863",
          "status": "completed"
        },
        "tags": []
      },
      "outputs": [
        {
          "data": {
            "text/plain": [
              "[{'summary_text': 'Hello World'}, {'summary_text': 'This is'}]"
            ]
          },
          "execution_count": 30,
          "metadata": {},
          "output_type": "execute_result"
        }
      ],
      "source": [
        "input_text = \"This is quite good. Hello World\"\n",
        "cleaned_input = text_cleaner(input_text)\n",
        "\n",
        "summarizer_wo_finetune(cleaned_input, min_length = 3, max_length = 3)"
      ]
    },
    {
      "cell_type": "code",
      "execution_count": null,
      "id": "557b246a",
      "metadata": {
        "execution": {
          "iopub.execute_input": "2023-12-16T05:40:32.284647Z",
          "iopub.status.busy": "2023-12-16T05:40:32.283966Z",
          "iopub.status.idle": "2023-12-16T05:40:33.466072Z",
          "shell.execute_reply": "2023-12-16T05:40:33.465116Z"
        },
        "id": "557b246a",
        "outputId": "0e92c0a4-45ec-46a0-d5de-9ed4d10fd47d",
        "papermill": {
          "duration": 1.211821,
          "end_time": "2023-12-16T05:40:33.468278",
          "exception": false,
          "start_time": "2023-12-16T05:40:32.256457",
          "status": "completed"
        },
        "tags": []
      },
      "outputs": [
        {
          "data": {
            "text/html": [
              "<table border=\"1\" class=\"dataframe\">\n",
              "  <thead>\n",
              "    <tr style=\"text-align: right;\">\n",
              "      <th></th>\n",
              "      <th>text</th>\n",
              "      <th>summary</th>\n",
              "    </tr>\n",
              "  </thead>\n",
              "  <tbody>\n",
              "    <tr>\n",
              "      <th>0</th>\n",
              "      <td>so here is the situation my girlfriend is living with her mother brother and her brother girlfriend . freeloader has her own apartment but basically just uses it as a storage room. she spends every night at my girlfirend place eats their food uses their utilities etc etc. she does no housework or help out with anything at all and does not pay rent. that is right no rent. why mom thinks her son and freeloader will get married and does not want either of them to be upset at her etc so she does not confront the issue or let her daughter say anything even though they are noticeably annoyed uncomfortable with the situation. it a lot worse than this in fact i am making freeloader look good here. i really want to confront freeloader about all this but this not being my house makes that fairly impossible since i do not want her family to be upset with me none of my business and all that but this is reckless.</td>\n",
              "      <td>freeloader has her own apartment but basically just uses it as a storage room . she does no housework or help out with anything at all and does not pay rent . this not being my house makes that fairly impossible since i do not want her family to be upset with me .</td>\n",
              "    </tr>\n",
              "  </tbody>\n",
              "</table>"
            ],
            "text/plain": [
              "<IPython.core.display.HTML object>"
            ]
          },
          "metadata": {},
          "output_type": "display_data"
        }
      ],
      "source": [
        "generate_summary(summarizer_wo_finetune, train_df[:1].text.tolist())"
      ]
    },
    {
      "cell_type": "code",
      "execution_count": null,
      "id": "f1f90ccf",
      "metadata": {
        "execution": {
          "iopub.execute_input": "2023-12-16T05:40:33.521336Z",
          "iopub.status.busy": "2023-12-16T05:40:33.520812Z",
          "iopub.status.idle": "2023-12-16T05:40:34.836884Z",
          "shell.execute_reply": "2023-12-16T05:40:34.836021Z"
        },
        "id": "f1f90ccf",
        "outputId": "2e3902e4-19b4-4b4a-8b7a-7fc11648abcc",
        "papermill": {
          "duration": 1.345117,
          "end_time": "2023-12-16T05:40:34.838945",
          "exception": false,
          "start_time": "2023-12-16T05:40:33.493828",
          "status": "completed"
        },
        "tags": []
      },
      "outputs": [
        {
          "data": {
            "text/html": [
              "<table border=\"1\" class=\"dataframe\">\n",
              "  <thead>\n",
              "    <tr style=\"text-align: right;\">\n",
              "      <th></th>\n",
              "      <th>text</th>\n",
              "      <th>summary</th>\n",
              "    </tr>\n",
              "  </thead>\n",
              "  <tbody>\n",
              "    <tr>\n",
              "      <th>0</th>\n",
              "      <td>i have been dating my girlfriend for about months now but we were friends for about years beforehand. we have a mutual friend and when my girlfriend hangs out with her i genuinely get upset. in the past she has tried to stop other people who were her friends from dating because it upset her. i feel like she might be trying to do that with me and my girlfriend. whenever my girlfriend hangs out with k it is this huge thing where i feel like i cannot even go into the same room as them. my girlfriend will not answer my texts because k says that it is her time. the main reason why i am upset is because k bad mouthed me in front of someone who used to have a crush on my girlfriend. that girl then proceeded to set me aside at a party and have a full blown conversation with me for over minutes that i really did not want to be a part of. whenever my girlfriend hangs out with k it feels like a little stab in the back. like she does not care that k trash talked me to someone. who knows that other shit k has said about me to other people or even to my own girlfriend i do not know what to do. everyone coddles k because she will just start crying or bitch and moan about how everyone is being mean to her but why does not anyone care about the way i feel one of these occurrences happened last night where my girlfriend and i were supposed to facetime because i am at home for a couple of weeks but she could not because k just took up all of her time.my girlfriend keeps asking me if i am mad and i am not. i am upset and hurt and i do not know how to talk to her or if i should.</td>\n",
              "      <td>cnn's kelly wallace has been dating her girlfriend for about months . wallace says k trash talked her in front of someone who used to have a crush on her . when she hangs out with k it feels like a little stab in the back, she says .</td>\n",
              "    </tr>\n",
              "  </tbody>\n",
              "</table>"
            ],
            "text/plain": [
              "<IPython.core.display.HTML object>"
            ]
          },
          "metadata": {},
          "output_type": "display_data"
        }
      ],
      "source": [
        "generate_summary(summarizer_wo_finetune, test_df[:1].text.tolist())"
      ]
    },
    {
      "cell_type": "code",
      "execution_count": null,
      "id": "4bffda37",
      "metadata": {
        "execution": {
          "iopub.execute_input": "2023-12-16T05:40:34.895139Z",
          "iopub.status.busy": "2023-12-16T05:40:34.894260Z",
          "iopub.status.idle": "2023-12-16T05:41:11.711488Z",
          "shell.execute_reply": "2023-12-16T05:41:11.710255Z"
        },
        "id": "4bffda37",
        "outputId": "658cbff5-7cfb-401c-8c7b-a6230ba76e92",
        "papermill": {
          "duration": 36.84737,
          "end_time": "2023-12-16T05:41:11.713831",
          "exception": false,
          "start_time": "2023-12-16T05:40:34.866461",
          "status": "completed"
        },
        "tags": []
      },
      "outputs": [
        {
          "name": "stdout",
          "output_type": "stream",
          "text": [
            "Requirement already satisfied: accelerate in /opt/conda/lib/python3.10/site-packages (0.24.1)\r\n",
            "Collecting accelerate\r\n",
            "  Obtaining dependency information for accelerate from https://files.pythonhosted.org/packages/f7/fc/c55e5a2da345c9a24aa2e1e0f60eb2ca290b6a41be82da03a6d4baec4f99/accelerate-0.25.0-py3-none-any.whl.metadata\r\n",
            "  Downloading accelerate-0.25.0-py3-none-any.whl.metadata (18 kB)\r\n",
            "Requirement already satisfied: numpy>=1.17 in /opt/conda/lib/python3.10/site-packages (from accelerate) (1.24.3)\r\n",
            "Requirement already satisfied: packaging>=20.0 in /opt/conda/lib/python3.10/site-packages (from accelerate) (21.3)\r\n",
            "Requirement already satisfied: psutil in /opt/conda/lib/python3.10/site-packages (from accelerate) (5.9.3)\r\n",
            "Requirement already satisfied: pyyaml in /opt/conda/lib/python3.10/site-packages (from accelerate) (6.0.1)\r\n",
            "Requirement already satisfied: torch>=1.10.0 in /opt/conda/lib/python3.10/site-packages (from accelerate) (2.0.0)\r\n",
            "Requirement already satisfied: huggingface-hub in /opt/conda/lib/python3.10/site-packages (from accelerate) (0.17.3)\r\n",
            "Requirement already satisfied: safetensors>=0.3.1 in /opt/conda/lib/python3.10/site-packages (from accelerate) (0.4.0)\r\n",
            "Requirement already satisfied: pyparsing!=3.0.5,>=2.0.2 in /opt/conda/lib/python3.10/site-packages (from packaging>=20.0->accelerate) (3.0.9)\r\n",
            "Requirement already satisfied: filelock in /opt/conda/lib/python3.10/site-packages (from torch>=1.10.0->accelerate) (3.12.2)\r\n",
            "Requirement already satisfied: typing-extensions in /opt/conda/lib/python3.10/site-packages (from torch>=1.10.0->accelerate) (4.5.0)\r\n",
            "Requirement already satisfied: sympy in /opt/conda/lib/python3.10/site-packages (from torch>=1.10.0->accelerate) (1.12)\r\n",
            "Requirement already satisfied: networkx in /opt/conda/lib/python3.10/site-packages (from torch>=1.10.0->accelerate) (3.1)\r\n",
            "Requirement already satisfied: jinja2 in /opt/conda/lib/python3.10/site-packages (from torch>=1.10.0->accelerate) (3.1.2)\r\n",
            "Requirement already satisfied: fsspec in /opt/conda/lib/python3.10/site-packages (from huggingface-hub->accelerate) (2023.10.0)\r\n",
            "Requirement already satisfied: requests in /opt/conda/lib/python3.10/site-packages (from huggingface-hub->accelerate) (2.31.0)\r\n",
            "Requirement already satisfied: tqdm>=4.42.1 in /opt/conda/lib/python3.10/site-packages (from huggingface-hub->accelerate) (4.66.1)\r\n",
            "Requirement already satisfied: MarkupSafe>=2.0 in /opt/conda/lib/python3.10/site-packages (from jinja2->torch>=1.10.0->accelerate) (2.1.3)\r\n",
            "Requirement already satisfied: charset-normalizer<4,>=2 in /opt/conda/lib/python3.10/site-packages (from requests->huggingface-hub->accelerate) (3.2.0)\r\n",
            "Requirement already satisfied: idna<4,>=2.5 in /opt/conda/lib/python3.10/site-packages (from requests->huggingface-hub->accelerate) (3.4)\r\n",
            "Requirement already satisfied: urllib3<3,>=1.21.1 in /opt/conda/lib/python3.10/site-packages (from requests->huggingface-hub->accelerate) (1.26.15)\r\n",
            "Requirement already satisfied: certifi>=2017.4.17 in /opt/conda/lib/python3.10/site-packages (from requests->huggingface-hub->accelerate) (2023.7.22)\r\n",
            "Requirement already satisfied: mpmath>=0.19 in /opt/conda/lib/python3.10/site-packages (from sympy->torch>=1.10.0->accelerate) (1.3.0)\r\n",
            "Downloading accelerate-0.25.0-py3-none-any.whl (265 kB)\r\n",
            "\u001b[2K   \u001b[90m━━━━━━━━━━━━━━━━━━━━━━━━━━━━━━━━━━━━━━━━\u001b[0m \u001b[32m265.7/265.7 kB\u001b[0m \u001b[31m2.5 MB/s\u001b[0m eta \u001b[36m0:00:00\u001b[0m\r\n",
            "\u001b[?25hInstalling collected packages: accelerate\r\n",
            "  Attempting uninstall: accelerate\r\n",
            "    Found existing installation: accelerate 0.24.1\r\n",
            "    Uninstalling accelerate-0.24.1:\r\n",
            "      Successfully uninstalled accelerate-0.24.1\r\n",
            "Successfully installed accelerate-0.25.0\r\n",
            "Requirement already satisfied: transformers[torch] in /opt/conda/lib/python3.10/site-packages (4.35.0)\r\n",
            "Collecting transformers[torch]\r\n",
            "  Obtaining dependency information for transformers[torch] from https://files.pythonhosted.org/packages/fc/04/0aad491cd98b09236c54ab849863ee85421eeda5138bbf9d33ecc594652b/transformers-4.36.1-py3-none-any.whl.metadata\r\n",
            "  Downloading transformers-4.36.1-py3-none-any.whl.metadata (126 kB)\r\n",
            "\u001b[2K     \u001b[90m━━━━━━━━━━━━━━━━━━━━━━━━━━━━━━━━━━━━━━━\u001b[0m \u001b[32m126.8/126.8 kB\u001b[0m \u001b[31m1.2 MB/s\u001b[0m eta \u001b[36m0:00:00\u001b[0m\r\n",
            "\u001b[?25hRequirement already satisfied: accelerate in /opt/conda/lib/python3.10/site-packages (0.25.0)\r\n",
            "Requirement already satisfied: filelock in /opt/conda/lib/python3.10/site-packages (from transformers[torch]) (3.12.2)\r\n",
            "Collecting huggingface-hub<1.0,>=0.19.3 (from transformers[torch])\r\n",
            "  Obtaining dependency information for huggingface-hub<1.0,>=0.19.3 from https://files.pythonhosted.org/packages/05/09/1945ca6ba3ad8ad6e2872ba682ce8d68c5e63c8e55458ed8ab4885709f1d/huggingface_hub-0.19.4-py3-none-any.whl.metadata\r\n",
            "  Downloading huggingface_hub-0.19.4-py3-none-any.whl.metadata (14 kB)\r\n",
            "Requirement already satisfied: numpy>=1.17 in /opt/conda/lib/python3.10/site-packages (from transformers[torch]) (1.24.3)\r\n",
            "Requirement already satisfied: packaging>=20.0 in /opt/conda/lib/python3.10/site-packages (from transformers[torch]) (21.3)\r\n",
            "Requirement already satisfied: pyyaml>=5.1 in /opt/conda/lib/python3.10/site-packages (from transformers[torch]) (6.0.1)\r\n",
            "Requirement already satisfied: regex!=2019.12.17 in /opt/conda/lib/python3.10/site-packages (from transformers[torch]) (2023.8.8)\r\n",
            "Requirement already satisfied: requests in /opt/conda/lib/python3.10/site-packages (from transformers[torch]) (2.31.0)\r\n",
            "Requirement already satisfied: tokenizers<0.19,>=0.14 in /opt/conda/lib/python3.10/site-packages (from transformers[torch]) (0.14.1)\r\n",
            "Requirement already satisfied: safetensors>=0.3.1 in /opt/conda/lib/python3.10/site-packages (from transformers[torch]) (0.4.0)\r\n",
            "Requirement already satisfied: tqdm>=4.27 in /opt/conda/lib/python3.10/site-packages (from transformers[torch]) (4.66.1)\r\n",
            "Requirement already satisfied: torch!=1.12.0,>=1.10 in /opt/conda/lib/python3.10/site-packages (from transformers[torch]) (2.0.0)\r\n",
            "Requirement already satisfied: psutil in /opt/conda/lib/python3.10/site-packages (from accelerate) (5.9.3)\r\n",
            "Requirement already satisfied: fsspec>=2023.5.0 in /opt/conda/lib/python3.10/site-packages (from huggingface-hub<1.0,>=0.19.3->transformers[torch]) (2023.10.0)\r\n",
            "Requirement already satisfied: typing-extensions>=3.7.4.3 in /opt/conda/lib/python3.10/site-packages (from huggingface-hub<1.0,>=0.19.3->transformers[torch]) (4.5.0)\r\n",
            "Requirement already satisfied: pyparsing!=3.0.5,>=2.0.2 in /opt/conda/lib/python3.10/site-packages (from packaging>=20.0->transformers[torch]) (3.0.9)\r\n",
            "INFO: pip is looking at multiple versions of tokenizers to determine which version is compatible with other requirements. This could take a while.\r\n",
            "Collecting tokenizers<0.19,>=0.14 (from transformers[torch])\r\n",
            "  Obtaining dependency information for tokenizers<0.19,>=0.14 from https://files.pythonhosted.org/packages/eb/3d/eee5f3c572a3f4db2ebabf5bd4f284f356078a5b5d27e6229b4450d5c5e4/tokenizers-0.15.0-cp310-cp310-manylinux_2_17_x86_64.manylinux2014_x86_64.whl.metadata\r\n",
            "  Downloading tokenizers-0.15.0-cp310-cp310-manylinux_2_17_x86_64.manylinux2014_x86_64.whl.metadata (6.7 kB)\r\n",
            "Requirement already satisfied: sympy in /opt/conda/lib/python3.10/site-packages (from torch!=1.12.0,>=1.10->transformers[torch]) (1.12)\r\n",
            "Requirement already satisfied: networkx in /opt/conda/lib/python3.10/site-packages (from torch!=1.12.0,>=1.10->transformers[torch]) (3.1)\r\n",
            "Requirement already satisfied: jinja2 in /opt/conda/lib/python3.10/site-packages (from torch!=1.12.0,>=1.10->transformers[torch]) (3.1.2)\r\n",
            "Requirement already satisfied: charset-normalizer<4,>=2 in /opt/conda/lib/python3.10/site-packages (from requests->transformers[torch]) (3.2.0)\r\n",
            "Requirement already satisfied: idna<4,>=2.5 in /opt/conda/lib/python3.10/site-packages (from requests->transformers[torch]) (3.4)\r\n",
            "Requirement already satisfied: urllib3<3,>=1.21.1 in /opt/conda/lib/python3.10/site-packages (from requests->transformers[torch]) (1.26.15)\r\n",
            "Requirement already satisfied: certifi>=2017.4.17 in /opt/conda/lib/python3.10/site-packages (from requests->transformers[torch]) (2023.7.22)\r\n",
            "Requirement already satisfied: MarkupSafe>=2.0 in /opt/conda/lib/python3.10/site-packages (from jinja2->torch!=1.12.0,>=1.10->transformers[torch]) (2.1.3)\r\n",
            "Requirement already satisfied: mpmath>=0.19 in /opt/conda/lib/python3.10/site-packages (from sympy->torch!=1.12.0,>=1.10->transformers[torch]) (1.3.0)\r\n",
            "Downloading huggingface_hub-0.19.4-py3-none-any.whl (311 kB)\r\n",
            "\u001b[2K   \u001b[90m━━━━━━━━━━━━━━━━━━━━━━━━━━━━━━━━━━━━━━━━\u001b[0m \u001b[32m311.7/311.7 kB\u001b[0m \u001b[31m4.9 MB/s\u001b[0m eta \u001b[36m0:00:00\u001b[0m\r\n",
            "\u001b[?25hDownloading tokenizers-0.15.0-cp310-cp310-manylinux_2_17_x86_64.manylinux2014_x86_64.whl (3.8 MB)\r\n",
            "\u001b[2K   \u001b[90m━━━━━━━━━━━━━━━━━━━━━━━━━━━━━━━━━━━━━━━━\u001b[0m \u001b[32m3.8/3.8 MB\u001b[0m \u001b[31m27.3 MB/s\u001b[0m eta \u001b[36m0:00:00\u001b[0m\r\n",
            "\u001b[?25hDownloading transformers-4.36.1-py3-none-any.whl (8.3 MB)\r\n",
            "\u001b[2K   \u001b[90m━━━━━━━━━━━━━━━━━━━━━━━━━━━━━━━━━━━━━━━━\u001b[0m \u001b[32m8.3/8.3 MB\u001b[0m \u001b[31m65.9 MB/s\u001b[0m eta \u001b[36m0:00:00\u001b[0m\r\n",
            "\u001b[?25hInstalling collected packages: huggingface-hub, tokenizers, transformers\r\n",
            "  Attempting uninstall: huggingface-hub\r\n",
            "    Found existing installation: huggingface-hub 0.17.3\r\n",
            "    Uninstalling huggingface-hub-0.17.3:\r\n",
            "      Successfully uninstalled huggingface-hub-0.17.3\r\n",
            "  Attempting uninstall: tokenizers\r\n",
            "    Found existing installation: tokenizers 0.14.1\r\n",
            "    Uninstalling tokenizers-0.14.1:\r\n",
            "      Successfully uninstalled tokenizers-0.14.1\r\n",
            "  Attempting uninstall: transformers\r\n",
            "    Found existing installation: transformers 4.35.0\r\n",
            "    Uninstalling transformers-4.35.0:\r\n",
            "      Successfully uninstalled transformers-4.35.0\r\n",
            "Successfully installed huggingface-hub-0.19.4 tokenizers-0.15.0 transformers-4.36.1\r\n"
          ]
        }
      ],
      "source": [
        "!pip install accelerate -U\n",
        "!pip install transformers[torch] accelerate -U"
      ]
    },
    {
      "cell_type": "code",
      "execution_count": null,
      "id": "b7fef581",
      "metadata": {
        "execution": {
          "iopub.execute_input": "2023-12-16T05:41:11.776095Z",
          "iopub.status.busy": "2023-12-16T05:41:11.775232Z",
          "iopub.status.idle": "2023-12-16T05:41:11.788049Z",
          "shell.execute_reply": "2023-12-16T05:41:11.787388Z"
        },
        "id": "b7fef581",
        "papermill": {
          "duration": 0.045663,
          "end_time": "2023-12-16T05:41:11.789929",
          "exception": false,
          "start_time": "2023-12-16T05:41:11.744266",
          "status": "completed"
        },
        "tags": []
      },
      "outputs": [],
      "source": [
        "batch_size = 8\n",
        "epochs = 5\n",
        "\n",
        "args = Seq2SeqTrainingArguments('summarization_bart_large_cnn',\n",
        "                                num_train_epochs = epochs,\n",
        "                                evaluation_strategy = \"epoch\",\n",
        "                                logging_steps = 100,\n",
        "                                learning_rate = 2e-5,\n",
        "                                weight_decay = 0.01,\n",
        "                                per_device_train_batch_size = batch_size,\n",
        "                                per_device_eval_batch_size = batch_size,\n",
        "                                save_total_limit = 3,\n",
        "                                predict_with_generate = True,\n",
        "                                fp16 = True\n",
        "                                )"
      ]
    },
    {
      "cell_type": "code",
      "execution_count": null,
      "id": "c056dafe",
      "metadata": {
        "execution": {
          "iopub.execute_input": "2023-12-16T05:41:11.849430Z",
          "iopub.status.busy": "2023-12-16T05:41:11.849154Z",
          "iopub.status.idle": "2023-12-16T05:41:11.857299Z",
          "shell.execute_reply": "2023-12-16T05:41:11.856550Z"
        },
        "id": "c056dafe",
        "papermill": {
          "duration": 0.03991,
          "end_time": "2023-12-16T05:41:11.859118",
          "exception": false,
          "start_time": "2023-12-16T05:41:11.819208",
          "status": "completed"
        },
        "tags": []
      },
      "outputs": [],
      "source": [
        "def generate_metrics(eval_pred):\n",
        "    predictions, labels = eval_pred\n",
        "    decoded_preds = tokenizer.batch_decode(predictions, skip_special_tokens = True)\n",
        "\n",
        "    labels = np.where(labels != -100, labels, tokenizer.pad_token_id)\n",
        "    decoded_labels = tokenizer.batch_decode(labels, skip_special_tokens = True)\n",
        "\n",
        "    decoded_preds = [\"\\n\".join(nltk.sent_tokenize(pred.strip())) for pred in decoded_preds]\n",
        "    decoded_labels = [\"\\n\".join(nltk.sent_tokenize(label.strip())) for label in decoded_labels]\n",
        "\n",
        "    result = eval_metric.compute(predictions = decoded_preds, references = decoded_labels, use_stemmer = True)\n",
        "    result = {key: value.mid.fmeasure * 100 for key, value in result.items()}\n",
        "\n",
        "    prediction_lens = [np.count_nonzero(pred != tokenizer.pad_token_id) for pred in predictions]\n",
        "    result[\"gen_len\"] = np.mean(prediction_lens)\n",
        "\n",
        "    return {k: round(v, 4) for k, v in result.items()}"
      ]
    },
    {
      "cell_type": "code",
      "execution_count": null,
      "id": "303c4dd2",
      "metadata": {
        "execution": {
          "iopub.execute_input": "2023-12-16T05:41:11.919580Z",
          "iopub.status.busy": "2023-12-16T05:41:11.919255Z",
          "iopub.status.idle": "2023-12-16T05:41:11.923268Z",
          "shell.execute_reply": "2023-12-16T05:41:11.922412Z"
        },
        "id": "303c4dd2",
        "papermill": {
          "duration": 0.036576,
          "end_time": "2023-12-16T05:41:11.925173",
          "exception": false,
          "start_time": "2023-12-16T05:41:11.888597",
          "status": "completed"
        },
        "tags": []
      },
      "outputs": [],
      "source": [
        "data_collator = DataCollatorForSeq2Seq(tokenizer, model = summary_model)"
      ]
    },
    {
      "cell_type": "code",
      "execution_count": null,
      "id": "79f15a3c",
      "metadata": {
        "execution": {
          "iopub.execute_input": "2023-12-16T05:41:11.985784Z",
          "iopub.status.busy": "2023-12-16T05:41:11.985223Z",
          "iopub.status.idle": "2023-12-16T05:41:12.038515Z",
          "shell.execute_reply": "2023-12-16T05:41:12.037788Z"
        },
        "id": "79f15a3c",
        "papermill": {
          "duration": 0.085826,
          "end_time": "2023-12-16T05:41:12.040434",
          "exception": false,
          "start_time": "2023-12-16T05:41:11.954608",
          "status": "completed"
        },
        "tags": []
      },
      "outputs": [],
      "source": [
        "finetune_model = Seq2SeqTrainer(summary_model,\n",
        "                               args,\n",
        "                               train_dataset = tokenized_train_data,\n",
        "                               eval_dataset = tokenized_test_data,\n",
        "                               data_collator = data_collator,\n",
        "                               tokenizer = tokenizer,\n",
        "                               compute_metrics = generate_metrics)"
      ]
    },
    {
      "cell_type": "code",
      "execution_count": null,
      "id": "b4737268",
      "metadata": {
        "execution": {
          "iopub.execute_input": "2023-12-16T05:41:12.100987Z",
          "iopub.status.busy": "2023-12-16T05:41:12.100732Z",
          "iopub.status.idle": "2023-12-16T05:41:12.111876Z",
          "shell.execute_reply": "2023-12-16T05:41:12.111092Z"
        },
        "papermill": {
          "duration": 0.043971,
          "end_time": "2023-12-16T05:41:12.113805",
          "exception": false,
          "start_time": "2023-12-16T05:41:12.069834",
          "status": "completed"
        },
        "tags": [],
        "id": "b4737268",
        "outputId": "146d5199-53ed-4c29-a781-d74fc9886794"
      },
      "outputs": [
        {
          "data": {
            "text/plain": [
              "device(type='cuda')"
            ]
          },
          "execution_count": 38,
          "metadata": {},
          "output_type": "execute_result"
        }
      ],
      "source": [
        "device = torch.device(\"cuda\") if torch.cuda.is_available() else torch.device(\"cpu\")\n",
        "summary_model.to(device)\n",
        "device"
      ]
    },
    {
      "cell_type": "code",
      "execution_count": null,
      "id": "a669aab2",
      "metadata": {
        "execution": {
          "iopub.execute_input": "2023-12-16T05:41:12.173830Z",
          "iopub.status.busy": "2023-12-16T05:41:12.173582Z",
          "iopub.status.idle": "2023-12-16T08:50:09.853448Z",
          "shell.execute_reply": "2023-12-16T08:50:09.852504Z"
        },
        "id": "a669aab2",
        "outputId": "5d7a0077-4449-4dad-ca9f-eda9c7e798d5",
        "papermill": {
          "duration": 11337.741207,
          "end_time": "2023-12-16T08:50:09.884280",
          "exception": false,
          "start_time": "2023-12-16T05:41:12.143073",
          "status": "completed"
        },
        "tags": []
      },
      "outputs": [
        {
          "name": "stderr",
          "output_type": "stream",
          "text": [
            "\u001b[34m\u001b[1mwandb\u001b[0m: Currently logged in as: \u001b[33mbuzzi-atharva\u001b[0m (\u001b[33mbuzzi\u001b[0m). Use \u001b[1m`wandb login --relogin`\u001b[0m to force relogin\n",
            "\u001b[34m\u001b[1mwandb\u001b[0m: wandb version 0.16.1 is available!  To upgrade, please run:\n",
            "\u001b[34m\u001b[1mwandb\u001b[0m:  $ pip install wandb --upgrade\n",
            "\u001b[34m\u001b[1mwandb\u001b[0m: Tracking run with wandb version 0.16.0\n",
            "\u001b[34m\u001b[1mwandb\u001b[0m: Run data is saved locally in \u001b[35m\u001b[1m/kaggle/working/wandb/run-20231216_054112-ms1o3qlw\u001b[0m\n",
            "\u001b[34m\u001b[1mwandb\u001b[0m: Run \u001b[1m`wandb offline`\u001b[0m to turn off syncing.\n",
            "\u001b[34m\u001b[1mwandb\u001b[0m: Syncing run \u001b[33mprime-energy-23\u001b[0m\n",
            "\u001b[34m\u001b[1mwandb\u001b[0m: ⭐️ View project at \u001b[34m\u001b[4mhttps://wandb.ai/buzzi/huggingface\u001b[0m\n",
            "\u001b[34m\u001b[1mwandb\u001b[0m: 🚀 View run at \u001b[34m\u001b[4mhttps://wandb.ai/buzzi/huggingface/runs/ms1o3qlw\u001b[0m\n",
            "You're using a T5TokenizerFast tokenizer. Please note that with a fast tokenizer, using the `__call__` method is faster than using a method to encode the text followed by a call to the `pad` method to get a padded encoding.\n",
            "/opt/conda/lib/python3.10/site-packages/torch/nn/parallel/_functions.py:68: UserWarning: Was asked to gather along dimension 0, but all input tensors were scalars; will instead unsqueeze and return a vector.\n",
            "  warnings.warn('Was asked to gather along dimension 0, but all '\n"
          ]
        },
        {
          "data": {
            "text/html": [
              "\n",
              "    <div>\n",
              "      \n",
              "      <progress value='5250' max='5250' style='width:300px; height:20px; vertical-align: middle;'></progress>\n",
              "      [5250/5250 3:08:22, Epoch 5/5]\n",
              "    </div>\n",
              "    <table border=\"1\" class=\"dataframe\">\n",
              "  <thead>\n",
              " <tr style=\"text-align: left;\">\n",
              "      <th>Epoch</th>\n",
              "      <th>Training Loss</th>\n",
              "      <th>Validation Loss</th>\n",
              "      <th>Rouge1</th>\n",
              "      <th>Rouge2</th>\n",
              "      <th>Rougel</th>\n",
              "      <th>Rougelsum</th>\n",
              "      <th>Gen Len</th>\n",
              "    </tr>\n",
              "  </thead>\n",
              "  <tbody>\n",
              "    <tr>\n",
              "      <td>1</td>\n",
              "      <td>2.249700</td>\n",
              "      <td>2.073841</td>\n",
              "      <td>34.771700</td>\n",
              "      <td>13.232300</td>\n",
              "      <td>26.339400</td>\n",
              "      <td>29.336200</td>\n",
              "      <td>40.447600</td>\n",
              "    </tr>\n",
              "    <tr>\n",
              "      <td>2</td>\n",
              "      <td>2.142300</td>\n",
              "      <td>2.032430</td>\n",
              "      <td>35.063400</td>\n",
              "      <td>13.545500</td>\n",
              "      <td>26.555200</td>\n",
              "      <td>29.705200</td>\n",
              "      <td>42.493600</td>\n",
              "    </tr>\n",
              "    <tr>\n",
              "      <td>3</td>\n",
              "      <td>2.086100</td>\n",
              "      <td>2.011199</td>\n",
              "      <td>35.380900</td>\n",
              "      <td>13.693000</td>\n",
              "      <td>26.895400</td>\n",
              "      <td>29.925300</td>\n",
              "      <td>40.521000</td>\n",
              "    </tr>\n",
              "    <tr>\n",
              "      <td>4</td>\n",
              "      <td>2.078000</td>\n",
              "      <td>2.001716</td>\n",
              "      <td>35.442700</td>\n",
              "      <td>13.722800</td>\n",
              "      <td>26.977000</td>\n",
              "      <td>30.023300</td>\n",
              "      <td>41.092400</td>\n",
              "    </tr>\n",
              "    <tr>\n",
              "      <td>5</td>\n",
              "      <td>2.013700</td>\n",
              "      <td>1.999532</td>\n",
              "      <td>35.499300</td>\n",
              "      <td>13.778700</td>\n",
              "      <td>27.007600</td>\n",
              "      <td>30.044000</td>\n",
              "      <td>41.258200</td>\n",
              "    </tr>\n",
              "  </tbody>\n",
              "</table><p>"
            ],
            "text/plain": [
              "<IPython.core.display.HTML object>"
            ]
          },
          "metadata": {},
          "output_type": "display_data"
        },
        {
          "name": "stderr",
          "output_type": "stream",
          "text": [
            "/opt/conda/lib/python3.10/site-packages/torch/nn/parallel/_functions.py:68: UserWarning: Was asked to gather along dimension 0, but all input tensors were scalars; will instead unsqueeze and return a vector.\n",
            "  warnings.warn('Was asked to gather along dimension 0, but all '\n",
            "/opt/conda/lib/python3.10/site-packages/torch/nn/parallel/_functions.py:68: UserWarning: Was asked to gather along dimension 0, but all input tensors were scalars; will instead unsqueeze and return a vector.\n",
            "  warnings.warn('Was asked to gather along dimension 0, but all '\n",
            "/opt/conda/lib/python3.10/site-packages/torch/nn/parallel/_functions.py:68: UserWarning: Was asked to gather along dimension 0, but all input tensors were scalars; will instead unsqueeze and return a vector.\n",
            "  warnings.warn('Was asked to gather along dimension 0, but all '\n",
            "/opt/conda/lib/python3.10/site-packages/torch/nn/parallel/_functions.py:68: UserWarning: Was asked to gather along dimension 0, but all input tensors were scalars; will instead unsqueeze and return a vector.\n",
            "  warnings.warn('Was asked to gather along dimension 0, but all '\n",
            "/opt/conda/lib/python3.10/site-packages/torch/nn/parallel/_functions.py:68: UserWarning: Was asked to gather along dimension 0, but all input tensors were scalars; will instead unsqueeze and return a vector.\n",
            "  warnings.warn('Was asked to gather along dimension 0, but all '\n",
            "/opt/conda/lib/python3.10/site-packages/torch/nn/parallel/_functions.py:68: UserWarning: Was asked to gather along dimension 0, but all input tensors were scalars; will instead unsqueeze and return a vector.\n",
            "  warnings.warn('Was asked to gather along dimension 0, but all '\n",
            "/opt/conda/lib/python3.10/site-packages/torch/nn/parallel/_functions.py:68: UserWarning: Was asked to gather along dimension 0, but all input tensors were scalars; will instead unsqueeze and return a vector.\n",
            "  warnings.warn('Was asked to gather along dimension 0, but all '\n",
            "/opt/conda/lib/python3.10/site-packages/torch/nn/parallel/_functions.py:68: UserWarning: Was asked to gather along dimension 0, but all input tensors were scalars; will instead unsqueeze and return a vector.\n",
            "  warnings.warn('Was asked to gather along dimension 0, but all '\n",
            "/opt/conda/lib/python3.10/site-packages/torch/nn/parallel/_functions.py:68: UserWarning: Was asked to gather along dimension 0, but all input tensors were scalars; will instead unsqueeze and return a vector.\n",
            "  warnings.warn('Was asked to gather along dimension 0, but all '\n",
            "/opt/conda/lib/python3.10/site-packages/torch/nn/parallel/_functions.py:68: UserWarning: Was asked to gather along dimension 0, but all input tensors were scalars; will instead unsqueeze and return a vector.\n",
            "  warnings.warn('Was asked to gather along dimension 0, but all '\n"
          ]
        },
        {
          "data": {
            "text/plain": [
              "TrainOutput(global_step=5250, training_loss=2.137550576346261, metrics={'train_runtime': 11337.2606, 'train_samples_per_second': 7.404, 'train_steps_per_second': 0.463, 'total_flos': 3.985805658479616e+16, 'train_loss': 2.137550576346261, 'epoch': 5.0})"
            ]
          },
          "execution_count": 39,
          "metadata": {},
          "output_type": "execute_result"
        }
      ],
      "source": [
        "finetune_model.train()"
      ]
    },
    {
      "cell_type": "markdown",
      "source": [
        "### Saving finetuned model"
      ],
      "metadata": {
        "id": "Z7qd1mBHXC9E"
      },
      "id": "Z7qd1mBHXC9E"
    },
    {
      "cell_type": "code",
      "execution_count": null,
      "id": "4bcfd021",
      "metadata": {
        "execution": {
          "iopub.execute_input": "2023-12-16T08:50:09.947856Z",
          "iopub.status.busy": "2023-12-16T08:50:09.947550Z",
          "iopub.status.idle": "2023-12-16T08:50:11.695380Z",
          "shell.execute_reply": "2023-12-16T08:50:11.694395Z"
        },
        "id": "4bcfd021",
        "papermill": {
          "duration": 1.782345,
          "end_time": "2023-12-16T08:50:11.697773",
          "exception": false,
          "start_time": "2023-12-16T08:50:09.915428",
          "status": "completed"
        },
        "tags": []
      },
      "outputs": [],
      "source": [
        "PATH = '/kaggle/working/T5_BASE'\n",
        "if not os.path.isdir(PATH):\n",
        "    os.mkdir(PATH)\n",
        "    summary_model.save_pretrained(PATH)\n",
        "else:\n",
        "    print('Model already exists')"
      ]
    },
    {
      "cell_type": "markdown",
      "source": [
        "### Model Evaluation"
      ],
      "metadata": {
        "id": "uoVKUBRrXJM6"
      },
      "id": "uoVKUBRrXJM6"
    },
    {
      "cell_type": "code",
      "execution_count": null,
      "id": "20c1e0d7",
      "metadata": {
        "execution": {
          "iopub.execute_input": "2023-12-16T08:50:11.835241Z",
          "iopub.status.busy": "2023-12-16T08:50:11.834972Z",
          "iopub.status.idle": "2023-12-16T08:50:11.844403Z",
          "shell.execute_reply": "2023-12-16T08:50:11.843711Z"
        },
        "id": "20c1e0d7",
        "papermill": {
          "duration": 0.045021,
          "end_time": "2023-12-16T08:50:11.846192",
          "exception": false,
          "start_time": "2023-12-16T08:50:11.801171",
          "status": "completed"
        },
        "tags": []
      },
      "outputs": [],
      "source": [
        "finetuned_summarizer = pipeline(\"summarization\", model = summary_model, tokenizer = tokenizer, device = 0)"
      ]
    },
    {
      "cell_type": "code",
      "execution_count": null,
      "id": "658de48f",
      "metadata": {
        "execution": {
          "iopub.execute_input": "2023-12-16T08:50:11.911039Z",
          "iopub.status.busy": "2023-12-16T08:50:11.910785Z",
          "iopub.status.idle": "2023-12-16T08:50:14.252278Z",
          "shell.execute_reply": "2023-12-16T08:50:14.251412Z"
        },
        "id": "658de48f",
        "outputId": "d18a537a-e5fe-4b77-c031-3a39a55b553a",
        "papermill": {
          "duration": 2.376847,
          "end_time": "2023-12-16T08:50:14.254459",
          "exception": false,
          "start_time": "2023-12-16T08:50:11.877612",
          "status": "completed"
        },
        "tags": []
      },
      "outputs": [
        {
          "data": {
            "text/html": [
              "<table border=\"1\" class=\"dataframe\">\n",
              "  <thead>\n",
              "    <tr style=\"text-align: right;\">\n",
              "      <th></th>\n",
              "      <th>text</th>\n",
              "      <th>summary</th>\n",
              "    </tr>\n",
              "  </thead>\n",
              "  <tbody>\n",
              "    <tr>\n",
              "      <th>0</th>\n",
              "      <td>so my father has been struggling with an unknown skin condition for the past few months. after several doctors visits referrals prescriptions and trying every home remedy and lotion under the sun it has persisted. the skin is almost leather like and very thick from his face all the way down his arms chest and back and he develops painful lumps or nodules under the skin that grow and shrink at various spots along the neck front shoulder and upper arm. these lumps start the size of a pea and grow to small ping pong balls and then shrink again over the course of a few days time. he was referred to have an outpatient surgery early last week to remove one of these lumps so that they could perform a biopsy and find out what exactly is going on with him. he returned today to have his stitches removed and find out some preliminary results. the doctor very frankly said that he was sorry but they have lost the sample that they extracted from his body. no recourse was offered and my father left the office completely stunned at the situation after having the stitches removed. the surgery referral was covered by his medicare and supplementary insurance all but . . now this is not an obscene amount but we are by no means well off. but i find it very disturbing that my father is still left with no idea of what is wrong with him and now will most likely have to undergo another surgery in the near future. is there anything i can do reddit is this grounds for a negligence or malpractice lawsuit i know that this is no place for seeking legal advice but there has to be someone out there that might have gone through something similar or can offer some advice.</td>\n",
              "      <td>my father has an unknown skin condition that is causing him to have surgery to remove a lump. is this grounds for a negligence or malpractice lawsuit</td>\n",
              "    </tr>\n",
              "    <tr>\n",
              "      <th>1</th>\n",
              "      <td>hi all. my boyfriend and i have been dating for sixteen months. we would be hypothetically moving in together in august. apartments in our city are very expensive and it would make good financial sense for us to live together and split rent not only for me but for him since he is graduating this year and will have to start paying his own rent as soon as he leaves school . living with him would reassure my parents about my safety which they would otherwise worry about. he is also dealing with a difficult roommate at his current place and i think he would be eager to leave the situation. i just have two reservations. one is that i do not know if i want to think about a serious future with a guy i met when i was nineteen and i feel like moving in together is a precursor to that. another is that we had been having difficulties lately due to how he was treating me due to his own insecurities. at one point i was so upset i was thinking about breaking up with him. but after a come to jesus talk a month ago he sincerely apologized to me and acknowledged that he was behaving wrongly ever since he has been making a marked effort to do better and it has really helped. but i just worry that having this feelings so recently makes moving in together a bad idea. what do you guys think</td>\n",
              "      <td>boyfriend and i are moving in together in august. he is graduating this year and will have to start paying his own rent as soon as he leaves school. i do not know if i want to move in together or not.</td>\n",
              "    </tr>\n",
              "    <tr>\n",
              "      <th>2</th>\n",
              "      <td>hi all a few quick questions i met this girl through a couple of friends. we did not talk much that first night but we have some mutual friends and they said she is awesome. i liked her enough to ask her out we went on a first date about weeks ago. it was really pleasant i felt very relaxed but excited to hang out with her. she was traveling in europe for past . weeks but she has since returned. we went on a second date yesterday . i had a great time last night and i would like to ask her out again. i have not really dated very much . so here are my questions . i did not make a move last time because i felt like she is a conservative girl and also since i had not seen her in almost weeks i personally felt like holding off. that is ok right . when i first reached out to her it was via facebook. thus far we have only communicated about dates via facebook but we exchanged phone numbers when we were to meet up last time . should i message her on facebook or should i text her . i am thinking of either taking her to a cool art show or to my favorite park in our little city during the day on saturday or sunday. does that sound like a good progression sensible date i do not want it to feel very intense but i obviously do want her to have fun and do something interesting thanks for your help</td>\n",
              "      <td>i want to ask out a girl again but i have not dated much. should i message her on facebook or text her</td>\n",
              "    </tr>\n",
              "  </tbody>\n",
              "</table>"
            ],
            "text/plain": [
              "<IPython.core.display.HTML object>"
            ]
          },
          "metadata": {},
          "output_type": "display_data"
        }
      ],
      "source": [
        "idxs = random.sample(range(0, len(test_df)), k = 3)\n",
        "generate_summary(finetuned_summarizer, test_df.iloc[idxs].text.tolist())"
      ]
    },
    {
      "cell_type": "code",
      "execution_count": null,
      "id": "21497e3e",
      "metadata": {
        "execution": {
          "iopub.execute_input": "2023-12-16T08:50:14.322314Z",
          "iopub.status.busy": "2023-12-16T08:50:14.322032Z",
          "iopub.status.idle": "2023-12-16T08:50:14.331285Z",
          "shell.execute_reply": "2023-12-16T08:50:14.330250Z"
        },
        "id": "21497e3e",
        "papermill": {
          "duration": 0.044627,
          "end_time": "2023-12-16T08:50:14.333307",
          "exception": false,
          "start_time": "2023-12-16T08:50:14.288680",
          "status": "completed"
        },
        "tags": []
      },
      "outputs": [],
      "source": [
        "text_test = test_df.text.tolist()\n",
        "summary_test = test_df.summary.tolist()\n",
        "summary_pred = []"
      ]
    },
    {
      "cell_type": "code",
      "execution_count": null,
      "id": "f247e1e7",
      "metadata": {
        "execution": {
          "iopub.execute_input": "2023-12-16T08:50:14.402576Z",
          "iopub.status.busy": "2023-12-16T08:50:14.402243Z",
          "iopub.status.idle": "2023-12-16T08:50:32.218860Z",
          "shell.execute_reply": "2023-12-16T08:50:32.217858Z"
        },
        "id": "f247e1e7",
        "papermill": {
          "duration": 17.852995,
          "end_time": "2023-12-16T08:50:32.221177",
          "exception": false,
          "start_time": "2023-12-16T08:50:14.368182",
          "status": "completed"
        },
        "tags": []
      },
      "outputs": [],
      "source": [
        "batch_size = 8\n",
        "start_idx = 0\n",
        "\n",
        "for i in range(0, len(text_test[start_idx:]), batch_size):\n",
        "    batch = int(i/batch_size)\n",
        "    batch_text = text_test[start_idx+i : start_idx+i+batch_size]\n",
        "    summary_pred += [elem['summary_text'] for elem in finetuned_summarizer(batch_text, min_length = 10, max_length = 50)]\n",
        "    if batch == 2:\n",
        "        break"
      ]
    },
    {
      "cell_type": "code",
      "execution_count": null,
      "id": "b5c47d10",
      "metadata": {
        "execution": {
          "iopub.execute_input": "2023-12-16T08:50:32.286298Z",
          "iopub.status.busy": "2023-12-16T08:50:32.285969Z",
          "iopub.status.idle": "2023-12-16T08:50:32.565237Z",
          "shell.execute_reply": "2023-12-16T08:50:32.564084Z"
        },
        "id": "b5c47d10",
        "outputId": "aca7f406-a043-432e-ddaa-02ceaf757164",
        "papermill": {
          "duration": 0.314157,
          "end_time": "2023-12-16T08:50:32.567751",
          "exception": false,
          "start_time": "2023-12-16T08:50:32.253594",
          "status": "completed"
        },
        "tags": []
      },
      "outputs": [
        {
          "name": "stdout",
          "output_type": "stream",
          "text": [
            "{'rouge1': AggregateScore(low=Score(precision=0.25205738616516843, recall=0.2679523524391164, fmeasure=0.2541341991111167), mid=Score(precision=0.3185648781822281, recall=0.3211051399667263, fmeasure=0.30544395345953146), high=Score(precision=0.3909260589900064, recall=0.37909476948735754, fmeasure=0.3622386948244097)), 'rouge2': AggregateScore(low=Score(precision=0.06360466585230468, recall=0.06492569078499204, fmeasure=0.06166479788088292), mid=Score(precision=0.11178338227019767, recall=0.10329269960107797, fmeasure=0.10267472139806859), high=Score(precision=0.17254749433696087, recall=0.15002610960919727, fmeasure=0.1554338141167753)), 'rougeL': AggregateScore(low=Score(precision=0.19120428780512286, recall=0.2028546732961757, fmeasure=0.18829038073271054), mid=Score(precision=0.24795164055758548, recall=0.2446285920328416, fmeasure=0.2353263331383299), high=Score(precision=0.32025909973407657, recall=0.2946284488279789, fmeasure=0.29581318782011456)), 'rougeLsum': AggregateScore(low=Score(precision=0.1899290671232833, recall=0.1983837536221514, fmeasure=0.18768179729320847), mid=Score(precision=0.24947129907223914, recall=0.24643500111225808, fmeasure=0.23713405137388543), high=Score(precision=0.3213578350491732, recall=0.2968790718142395, fmeasure=0.29887889046713345))}\n",
            "rouge1 low: 0.2541341991111167\n",
            "rouge1 mid: 0.30544395345953146\n",
            "rouge1 high: 0.3622386948244097\n",
            "\n",
            "rouge2 low: 0.06166479788088292\n",
            "rouge2 mid: 0.10267472139806859\n",
            "rouge2 high: 0.1554338141167753\n",
            "\n",
            "rougeL low: 0.18829038073271054\n",
            "rougeL mid: 0.2353263331383299\n",
            "rougeL high: 0.29581318782011456\n",
            "\n"
          ]
        }
      ],
      "source": [
        "results = eval_metric.compute(predictions = summary_pred, references = summary_test[:len(summary_pred)])\n",
        "print(results)\n",
        "\n",
        "for key in [\"rouge1\", \"rouge2\", \"rougeL\"]:\n",
        "    print(key, \"low:\", results[key].low.fmeasure)\n",
        "    print(key, \"mid:\", results[key].mid.fmeasure)\n",
        "    print(key, \"high:\", results[key].high.fmeasure, end = \"\\n\\n\")"
      ]
    },
    {
      "cell_type": "code",
      "execution_count": null,
      "id": "d3d924c9",
      "metadata": {
        "execution": {
          "iopub.execute_input": "2023-12-16T08:50:32.637824Z",
          "iopub.status.busy": "2023-12-16T08:50:32.637440Z",
          "iopub.status.idle": "2023-12-16T08:50:38.223103Z",
          "shell.execute_reply": "2023-12-16T08:50:38.222286Z"
        },
        "id": "d3d924c9",
        "papermill": {
          "duration": 5.623273,
          "end_time": "2023-12-16T08:50:38.225561",
          "exception": false,
          "start_time": "2023-12-16T08:50:32.602288",
          "status": "completed"
        },
        "tags": []
      },
      "outputs": [],
      "source": [
        "rouge1 = []\n",
        "rouge2 = []\n",
        "rougeL = []\n",
        "\n",
        "for i in range(len(summary_pred)):\n",
        "    results = eval_metric.compute(predictions = [summary_pred[i]], references = [summary_test[i]])\n",
        "    for key in [\"rouge1\", \"rouge2\", \"rougeL\"]:\n",
        "        if key == \"rouge1\":\n",
        "            rouge1.append(results[key].mid.fmeasure)\n",
        "        elif key == \"rouge2\":\n",
        "            rouge2.append(results[key].mid.fmeasure)\n",
        "        else:\n",
        "            rougeL.append(results[key].mid.fmeasure)"
      ]
    },
    {
      "cell_type": "code",
      "execution_count": null,
      "id": "0f7dc928",
      "metadata": {
        "execution": {
          "iopub.execute_input": "2023-12-16T08:50:38.317452Z",
          "iopub.status.busy": "2023-12-16T08:50:38.317055Z",
          "iopub.status.idle": "2023-12-16T08:50:38.333916Z",
          "shell.execute_reply": "2023-12-16T08:50:38.332842Z"
        },
        "id": "0f7dc928",
        "outputId": "e4eb5a5f-bf88-4ca8-e142-e3e975d529f8",
        "papermill": {
          "duration": 0.063901,
          "end_time": "2023-12-16T08:50:38.336197",
          "exception": false,
          "start_time": "2023-12-16T08:50:38.272296",
          "status": "completed"
        },
        "tags": []
      },
      "outputs": [
        {
          "data": {
            "text/html": [
              "<div>\n",
              "<style scoped>\n",
              "    .dataframe tbody tr th:only-of-type {\n",
              "        vertical-align: middle;\n",
              "    }\n",
              "\n",
              "    .dataframe tbody tr th {\n",
              "        vertical-align: top;\n",
              "    }\n",
              "\n",
              "    .dataframe thead th {\n",
              "        text-align: right;\n",
              "    }\n",
              "</style>\n",
              "<table border=\"1\" class=\"dataframe\">\n",
              "  <thead>\n",
              "    <tr style=\"text-align: right;\">\n",
              "      <th></th>\n",
              "      <th>text</th>\n",
              "      <th>summary</th>\n",
              "      <th>summary_pred</th>\n",
              "      <th>rouge1</th>\n",
              "      <th>rouge2</th>\n",
              "      <th>rougeL</th>\n",
              "    </tr>\n",
              "  </thead>\n",
              "  <tbody>\n",
              "    <tr>\n",
              "      <th>0</th>\n",
              "      <td>i have been dating my girlfriend for about mon...</td>\n",
              "      <td>gf hangs out with a mutual friend who used to ...</td>\n",
              "      <td>my girlfriend hangs out with a mutual friend a...</td>\n",
              "      <td>0.300000</td>\n",
              "      <td>0.172414</td>\n",
              "      <td>0.300000</td>\n",
              "    </tr>\n",
              "    <tr>\n",
              "      <th>1</th>\n",
              "      <td>he is a classmate. he is never had a girlfrien...</td>\n",
              "      <td>i have been with guys and have been in abusive...</td>\n",
              "      <td>i want to be able to rely on my classmate but ...</td>\n",
              "      <td>0.170213</td>\n",
              "      <td>0.000000</td>\n",
              "      <td>0.127660</td>\n",
              "    </tr>\n",
              "    <tr>\n",
              "      <th>2</th>\n",
              "      <td>i need to some help. sometimes i feel like i c...</td>\n",
              "      <td>i maybe still in love with my abusive ex and i...</td>\n",
              "      <td>i am a year old female who is in a relationshi...</td>\n",
              "      <td>0.388889</td>\n",
              "      <td>0.171429</td>\n",
              "      <td>0.250000</td>\n",
              "    </tr>\n",
              "    <tr>\n",
              "      <th>3</th>\n",
              "      <td>reddit i come to you for advice. below is a cl...</td>\n",
              "      <td>friend is in a bad relationship and keeps comi...</td>\n",
              "      <td>best friend finds herself in toxic emotionally...</td>\n",
              "      <td>0.250000</td>\n",
              "      <td>0.000000</td>\n",
              "      <td>0.218750</td>\n",
              "    </tr>\n",
              "    <tr>\n",
              "      <th>4</th>\n",
              "      <td>me m her f him m . i asked out my female best ...</td>\n",
              "      <td>want to tell my best friend that i am going ou...</td>\n",
              "      <td>i asked out my female best friend turns out sh...</td>\n",
              "      <td>0.338462</td>\n",
              "      <td>0.095238</td>\n",
              "      <td>0.184615</td>\n",
              "    </tr>\n",
              "  </tbody>\n",
              "</table>\n",
              "</div>"
            ],
            "text/plain": [
              "                                                text  \\\n",
              "0  i have been dating my girlfriend for about mon...   \n",
              "1  he is a classmate. he is never had a girlfrien...   \n",
              "2  i need to some help. sometimes i feel like i c...   \n",
              "3  reddit i come to you for advice. below is a cl...   \n",
              "4  me m her f him m . i asked out my female best ...   \n",
              "\n",
              "                                             summary  \\\n",
              "0  gf hangs out with a mutual friend who used to ...   \n",
              "1  i have been with guys and have been in abusive...   \n",
              "2  i maybe still in love with my abusive ex and i...   \n",
              "3  friend is in a bad relationship and keeps comi...   \n",
              "4  want to tell my best friend that i am going ou...   \n",
              "\n",
              "                                        summary_pred    rouge1    rouge2  \\\n",
              "0  my girlfriend hangs out with a mutual friend a...  0.300000  0.172414   \n",
              "1  i want to be able to rely on my classmate but ...  0.170213  0.000000   \n",
              "2  i am a year old female who is in a relationshi...  0.388889  0.171429   \n",
              "3  best friend finds herself in toxic emotionally...  0.250000  0.000000   \n",
              "4  i asked out my female best friend turns out sh...  0.338462  0.095238   \n",
              "\n",
              "     rougeL  \n",
              "0  0.300000  \n",
              "1  0.127660  \n",
              "2  0.250000  \n",
              "3  0.218750  \n",
              "4  0.184615  "
            ]
          },
          "execution_count": 48,
          "metadata": {},
          "output_type": "execute_result"
        }
      ],
      "source": [
        "n = len(summary_pred)\n",
        "results_df = pd.DataFrame({\"text\": text_test[:n],\n",
        "                                 \"summary\": summary_test[:n],\n",
        "                                 \"summary_pred\": summary_pred[:n],\n",
        "                                 \"rouge1\": rouge1,\n",
        "                                 \"rouge2\": rouge2,\n",
        "                                 \"rougeL\": rougeL}\n",
        "                                 )\n",
        "\n",
        "results_df.head()"
      ]
    },
    {
      "cell_type": "code",
      "execution_count": null,
      "id": "1328eeb1",
      "metadata": {
        "execution": {
          "iopub.execute_input": "2023-12-16T08:50:38.408751Z",
          "iopub.status.busy": "2023-12-16T08:50:38.408432Z",
          "iopub.status.idle": "2023-12-16T08:50:38.415571Z",
          "shell.execute_reply": "2023-12-16T08:50:38.414652Z"
        },
        "id": "1328eeb1",
        "papermill": {
          "duration": 0.043686,
          "end_time": "2023-12-16T08:50:38.417904",
          "exception": false,
          "start_time": "2023-12-16T08:50:38.374218",
          "status": "completed"
        },
        "tags": []
      },
      "outputs": [],
      "source": [
        "text = \"\"\"I 27F am vehemently childfree, I am sterilized and have no intention of having or caring for any child. I married my husband, 33M, last year and did not know he had any children until 5 days ago. I travel for work, work for myself, and have amazing pay for very few active working hours (I am a honeymoon planner, owning my own business); we have a joint account for bills and our own separate accounts for savings and fun money.\n",
        "\n",
        "My husband sat me down 5 days ago and told me he hadn't been completely honest with me. And revealed he has 2 children 10M and 7F. He pays regular child support, however, it dips into his fun money and he wants to be able to have fun like I am, so he said he would fight for 50/50 custody.\n",
        "\n",
        "I was furious he had lied to me and was even more angry when he told me he wanted 50/50. He works 12-16 hour shifts as a nurse and that would mean I would have to take care of the children when I'm not working or are working from home. I told him if he fights for custody, I will leave him. We have a prenup, so a divorce will be rather simple; I get 100% of my business, all of my savings and fun money, and the house, as I inherited it from my grandmother.\n",
        "\n",
        "He called me an asshole and told me I should step up so that he can have more money in his savings and for fun. And because the kids won't be much hassle due to their ages. So AITA for telling him I will divorce him if he goes through with filing for custody?\"\"\"\n",
        "\n",
        "text = text_cleaner(text)"
      ]
    },
    {
      "cell_type": "code",
      "execution_count": null,
      "id": "5efb4a1b",
      "metadata": {
        "execution": {
          "iopub.execute_input": "2023-12-16T08:50:38.499581Z",
          "iopub.status.busy": "2023-12-16T08:50:38.498844Z",
          "iopub.status.idle": "2023-12-16T08:50:38.940778Z",
          "shell.execute_reply": "2023-12-16T08:50:38.939673Z"
        },
        "id": "5efb4a1b",
        "outputId": "3a17e4d9-c35c-4c40-a2ea-85f1bc5ac136",
        "papermill": {
          "duration": 0.486514,
          "end_time": "2023-12-16T08:50:38.943177",
          "exception": false,
          "start_time": "2023-12-16T08:50:38.456663",
          "status": "completed"
        },
        "tags": []
      },
      "outputs": [
        {
          "data": {
            "text/html": [
              "<table border=\"1\" class=\"dataframe\">\n",
              "  <thead>\n",
              "    <tr style=\"text-align: right;\">\n",
              "      <th></th>\n",
              "      <th>text</th>\n",
              "      <th>summary</th>\n",
              "    </tr>\n",
              "  </thead>\n",
              "  <tbody>\n",
              "    <tr>\n",
              "      <th>0</th>\n",
              "      <td>i f am vehemently childfree i am sterilized and have no intention of having or caring for any child. i married my husband m last year and did not know he had any children until days ago. i travel for work work for myself and have amazing pay for very few active working hours we have a joint account for bills and our own separate accounts for savings and fun money. my husband sat me down days ago and told me he had not been completely honest with me. and revealed he has children m and f. he pays regular child support however it dips into his fun money and he wants to be able to have fun like i am so he said he would fight for custody. i was furious he had lied to me and was even more angry when he told me he wanted . he works hour shifts as a nurse and that would mean i would have to take care of the children when i am not working or are working from home. i told him if he fights for custody i will leave him. we have a prenup so a divorce will be rather simple i get of my business all of my savings and fun money and the house as i inherited it from my grandmother. he called me an asshole and told me i should step up so that he can have more money in his savings and for fun. and because the kids will not be much hassle due to their ages. so aita for telling him i will divorce him if he goes through with filing for custody</td>\n",
              "      <td>husband lied to me and said he would fight for custody. i told him</td>\n",
              "    </tr>\n",
              "  </tbody>\n",
              "</table>"
            ],
            "text/plain": [
              "<IPython.core.display.HTML object>"
            ]
          },
          "metadata": {},
          "output_type": "display_data"
        }
      ],
      "source": [
        "generate_summary(finetuned_summarizer, text)"
      ]
    },
    {
      "cell_type": "code",
      "execution_count": null,
      "id": "80d503f4",
      "metadata": {
        "execution": {
          "iopub.execute_input": "2023-12-16T08:50:44.626795Z",
          "iopub.status.busy": "2023-12-16T08:50:44.626194Z",
          "iopub.status.idle": "2023-12-16T08:50:45.227339Z",
          "shell.execute_reply": "2023-12-16T08:50:45.226489Z"
        },
        "id": "80d503f4",
        "outputId": "8868fbf4-c25a-4cd6-b970-cf208734e90b",
        "papermill": {
          "duration": 0.63867,
          "end_time": "2023-12-16T08:50:45.229437",
          "exception": false,
          "start_time": "2023-12-16T08:50:44.590767",
          "status": "completed"
        },
        "tags": []
      },
      "outputs": [
        {
          "data": {
            "text/html": [
              "<table border=\"1\" class=\"dataframe\">\n",
              "  <thead>\n",
              "    <tr style=\"text-align: right;\">\n",
              "      <th></th>\n",
              "      <th>text</th>\n",
              "      <th>summary</th>\n",
              "    </tr>\n",
              "  </thead>\n",
              "  <tbody>\n",
              "    <tr>\n",
              "      <th>0</th>\n",
              "      <td>i normally do not let things get to me but i am obsessing over minor issues today first the gas station with free air started charging for air. then the dog failed to greet me when i got home. and bobfromaccounting.com has apparently departed the internet. the gas station and i have an understanding i pay the cents more for gas on my debit card and i do not have to keep quarters stocked for the air machine. and yeah it is more of a tacit agreement than what you call a contract but dammit we had a deal. the dog is supposed to be jumping up and down in the window as i drive up making high pitched doggy squeals as i put my key in the lock barely able to contain herself as she waits for me to stash my purse and laptop before greeting her. after years she is getting a little old for the happy dance but dozing on the bed finally after a conversation with my sister i was reminded of something i once read and went to the site to send her a link only to discover the site is gone. wtf internet you may not be permanent but i always thought i could count on you to be redundant. i was confident a quick search would find a cache a mirror a plagiarized ripoff. something anything if it exists my google goggles are too clouded to find it today. none of these is anything that matters. truly a roll of quarters a milk bone and a shrug are all that i really need. so why am i still thinking about these things</td>\n",
              "      <td>bobfromaccounting.com has apparently departed the internet. why am i obsessing over these things</td>\n",
              "    </tr>\n",
              "  </tbody>\n",
              "</table>"
            ],
            "text/plain": [
              "<IPython.core.display.HTML object>"
            ]
          },
          "metadata": {},
          "output_type": "display_data"
        }
      ],
      "source": [
        "get_summary(summarizer_loaded, df_train[1:2].text.tolist())"
      ]
    }
  ],
  "metadata": {
    "accelerator": "GPU",
    "colab": {
      "gpuType": "T4",
      "provenance": []
    },
    "kaggle": {
      "accelerator": "nvidiaTeslaT4",
      "dataSources": [
        {
          "datasetId": 4038523,
          "sourceId": 7022931,
          "sourceType": "datasetVersion"
        }
      ],
      "dockerImageVersionId": 30588,
      "isGpuEnabled": true,
      "isInternetEnabled": true,
      "language": "python",
      "sourceType": "notebook"
    },
    "kernelspec": {
      "display_name": "Python 3",
      "language": "python",
      "name": "python3"
    },
    "language_info": {
      "codemirror_mode": {
        "name": "ipython",
        "version": 3
      },
      "file_extension": ".py",
      "mimetype": "text/x-python",
      "name": "python",
      "nbconvert_exporter": "python",
      "pygments_lexer": "ipython3",
      "version": "3.10.12"
    },
    "papermill": {
      "default_parameters": {},
      "duration": 11519.063381,
      "end_time": "2023-12-16T08:50:48.605014",
      "environment_variables": {},
      "exception": null,
      "input_path": "__notebook__.ipynb",
      "output_path": "__notebook__.ipynb",
      "parameters": {},
      "start_time": "2023-12-16T05:38:49.541633",
      "version": "2.4.0"
    }
  },
  "nbformat": 4,
  "nbformat_minor": 5
}